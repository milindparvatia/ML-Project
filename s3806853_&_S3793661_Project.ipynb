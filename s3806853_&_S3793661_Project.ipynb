{
 "cells": [
  {
   "cell_type": "markdown",
   "metadata": {
    "colab_type": "text",
    "id": "T4rY__PGiu8l"
   },
   "source": [
    "# Course Project"
   ]
  },
  {
   "cell_type": "markdown",
   "metadata": {
    "colab_type": "text",
    "id": "wJ1Pmg1Aiuuu"
   },
   "source": [
    "### Group Name : Group 140\n",
    "### Full Name : Milind Shailehskumar Parvatia \n",
    "### ID : S3806853\n",
    "### Full Name : Ajaykumar Himmatbhai Kothiya\n",
    "### ID : S3793661"
   ]
  },
  {
   "cell_type": "markdown",
   "metadata": {
    "colab_type": "text",
    "id": "UtSjWSgl1zb2"
   },
   "source": [
    "# Source And Description of Dataset"
   ]
  },
  {
   "cell_type": "markdown",
   "metadata": {
    "colab_type": "text",
    "id": "LJwkBYoX18Q6"
   },
   "source": [
    "The dataset here we have used for the case study is related to bank marketing.\n",
    "\n",
    "*   The data is related to direct marketing campaigns of Portuguese banking institutions.Often, more than one contact to the same client was required, to access if the product (bank term deposit) would be ('yes') or not ('no') subscribed.\n",
    "*   Here the marketing campaigns are directly related to phone calls. This dataset has 17 attributes and 4521 instances. in which The descriptive features include 7 numeric and 9 nominal categorical features. The target feature has two classes defined as \"yes\" and \"no\" respectively.\n",
    "*   Source of the dataset : [Moro et al., 2014] S. Moro, P. Cortez and P. Rita. A Data-Driven Approach to Predict the Success of Bank Telemarketing. Decision Support Systems, Elsevier, 62:22-31, June 2014, Available at (https://archive.ics.uci.edu/ml/datasets/Bank+Marketing)"
   ]
  },
  {
   "cell_type": "markdown",
   "metadata": {
    "colab_type": "text",
    "id": "rh0ZKJA13QmQ"
   },
   "source": [
    "# Objective "
   ]
  },
  {
   "cell_type": "markdown",
   "metadata": {
    "colab_type": "text",
    "id": "pW5cJXCv3UtP"
   },
   "source": [
    "Our goal is to predict whether a client will subscribe(yes/no) a term deposit, hence The target for this dataset is term deposit(variable y)."
   ]
  },
  {
   "cell_type": "markdown",
   "metadata": {
    "colab_type": "text",
    "id": "30MLRzCkjW8f"
   },
   "source": [
    "# Data Preparation"
   ]
  },
  {
   "cell_type": "markdown",
   "metadata": {
    "colab_type": "text",
    "id": "OvlerDmnjZ7W"
   },
   "source": [
    "## Retriving Dataset"
   ]
  },
  {
   "cell_type": "code",
   "execution_count": 1,
   "metadata": {
    "colab": {
     "base_uri": "https://localhost:8080/",
     "height": 1000
    },
    "colab_type": "code",
    "id": "AKLAhuJnH5xF",
    "outputId": "33ded2eb-f10f-458e-9392-f50c0730bc10"
   },
   "outputs": [
    {
     "name": "stdout",
     "output_type": "stream",
     "text": [
      "Requirement already up-to-date: altair in /usr/local/lib/python3.7/site-packages (4.1.0)\n",
      "Requirement already satisfied, skipping upgrade: jsonschema in /Users/milind/Library/Python/3.7/lib/python/site-packages (from altair) (3.2.0)\n",
      "Requirement already satisfied, skipping upgrade: toolz in /usr/local/lib/python3.7/site-packages (from altair) (0.10.0)\n",
      "Requirement already satisfied, skipping upgrade: pandas>=0.18 in /usr/local/lib/python3.7/site-packages (from altair) (1.0.3)\n",
      "Requirement already satisfied, skipping upgrade: numpy in /usr/local/lib/python3.7/site-packages (from altair) (1.18.4)\n",
      "Requirement already satisfied, skipping upgrade: jinja2 in /Users/milind/Library/Python/3.7/lib/python/site-packages (from altair) (2.11.1)\n",
      "Requirement already satisfied, skipping upgrade: entrypoints in /Users/milind/Library/Python/3.7/lib/python/site-packages (from altair) (0.3)\n",
      "Requirement already satisfied, skipping upgrade: six>=1.11.0 in /Users/milind/Library/Python/3.7/lib/python/site-packages (from jsonschema->altair) (1.12.0)\n",
      "Requirement already satisfied, skipping upgrade: attrs>=17.4.0 in /Users/milind/Library/Python/3.7/lib/python/site-packages (from jsonschema->altair) (19.3.0)\n",
      "Requirement already satisfied, skipping upgrade: setuptools in /usr/local/lib/python3.7/site-packages (from jsonschema->altair) (41.4.0)\n",
      "Requirement already satisfied, skipping upgrade: importlib-metadata; python_version < \"3.8\" in /Users/milind/Library/Python/3.7/lib/python/site-packages (from jsonschema->altair) (1.5.0)\n",
      "Requirement already satisfied, skipping upgrade: pyrsistent>=0.14.0 in /Users/milind/Library/Python/3.7/lib/python/site-packages (from jsonschema->altair) (0.15.7)\n",
      "Requirement already satisfied, skipping upgrade: pytz>=2017.2 in /usr/local/lib/python3.7/site-packages (from pandas>=0.18->altair) (2020.1)\n",
      "Requirement already satisfied, skipping upgrade: python-dateutil>=2.6.1 in /Users/milind/Library/Python/3.7/lib/python/site-packages (from pandas>=0.18->altair) (2.8.1)\n",
      "Requirement already satisfied, skipping upgrade: MarkupSafe>=0.23 in /Users/milind/Library/Python/3.7/lib/python/site-packages (from jinja2->altair) (1.1.1)\n",
      "Requirement already satisfied, skipping upgrade: zipp>=0.5 in /Users/milind/Library/Python/3.7/lib/python/site-packages (from importlib-metadata; python_version < \"3.8\"->jsonschema->altair) (2.2.0)\n",
      "\u001b[33mWARNING: You are using pip version 20.0.2; however, version 20.1.1 is available.\n",
      "You should consider upgrading via the '/usr/local/opt/python/bin/python3.7 -m pip install --upgrade pip' command.\u001b[0m\n",
      "Requirement already satisfied: vega in /usr/local/lib/python3.7/site-packages (3.4.0)\n",
      "Requirement already satisfied: vega_datasets in /usr/local/lib/python3.7/site-packages (0.8.0)\n",
      "Requirement already satisfied: pandas<2.0.0,>=1.0.0 in /usr/local/lib/python3.7/site-packages (from vega) (1.0.3)\n",
      "Requirement already satisfied: jupyter<2.0.0,>=1.0.0 in /Users/milind/Library/Python/3.7/lib/python/site-packages (from vega) (1.0.0)\n",
      "Requirement already satisfied: python-dateutil>=2.6.1 in /Users/milind/Library/Python/3.7/lib/python/site-packages (from pandas<2.0.0,>=1.0.0->vega) (2.8.1)\n",
      "Requirement already satisfied: numpy>=1.13.3 in /usr/local/lib/python3.7/site-packages (from pandas<2.0.0,>=1.0.0->vega) (1.18.4)\n",
      "Requirement already satisfied: pytz>=2017.2 in /usr/local/lib/python3.7/site-packages (from pandas<2.0.0,>=1.0.0->vega) (2020.1)\n",
      "Requirement already satisfied: jupyter-console in /Users/milind/Library/Python/3.7/lib/python/site-packages (from jupyter<2.0.0,>=1.0.0->vega) (6.1.0)\n",
      "Requirement already satisfied: nbconvert in /Users/milind/Library/Python/3.7/lib/python/site-packages (from jupyter<2.0.0,>=1.0.0->vega) (5.6.1)\n",
      "Requirement already satisfied: ipykernel in /Users/milind/Library/Python/3.7/lib/python/site-packages (from jupyter<2.0.0,>=1.0.0->vega) (5.1.4)\n",
      "Requirement already satisfied: notebook in /Users/milind/Library/Python/3.7/lib/python/site-packages (from jupyter<2.0.0,>=1.0.0->vega) (6.0.3)\n",
      "Requirement already satisfied: qtconsole in /Users/milind/Library/Python/3.7/lib/python/site-packages (from jupyter<2.0.0,>=1.0.0->vega) (4.6.0)\n",
      "Requirement already satisfied: ipywidgets in /Users/milind/Library/Python/3.7/lib/python/site-packages (from jupyter<2.0.0,>=1.0.0->vega) (7.5.1)\n",
      "Requirement already satisfied: six>=1.5 in /Users/milind/Library/Python/3.7/lib/python/site-packages (from python-dateutil>=2.6.1->pandas<2.0.0,>=1.0.0->vega) (1.12.0)\n",
      "Requirement already satisfied: pygments in /Users/milind/Library/Python/3.7/lib/python/site-packages (from jupyter-console->jupyter<2.0.0,>=1.0.0->vega) (2.5.2)\n",
      "Requirement already satisfied: prompt-toolkit!=3.0.0,!=3.0.1,<3.1.0,>=2.0.0 in /Users/milind/Library/Python/3.7/lib/python/site-packages (from jupyter-console->jupyter<2.0.0,>=1.0.0->vega) (3.0.3)\n",
      "Requirement already satisfied: ipython in /Users/milind/Library/Python/3.7/lib/python/site-packages (from jupyter-console->jupyter<2.0.0,>=1.0.0->vega) (7.12.0)\n",
      "Requirement already satisfied: jupyter-client in /Users/milind/Library/Python/3.7/lib/python/site-packages (from jupyter-console->jupyter<2.0.0,>=1.0.0->vega) (5.3.4)\n",
      "Requirement already satisfied: defusedxml in /Users/milind/Library/Python/3.7/lib/python/site-packages (from nbconvert->jupyter<2.0.0,>=1.0.0->vega) (0.6.0)\n",
      "Requirement already satisfied: jinja2>=2.4 in /Users/milind/Library/Python/3.7/lib/python/site-packages (from nbconvert->jupyter<2.0.0,>=1.0.0->vega) (2.11.1)\n",
      "Requirement already satisfied: traitlets>=4.2 in /Users/milind/Library/Python/3.7/lib/python/site-packages (from nbconvert->jupyter<2.0.0,>=1.0.0->vega) (4.3.3)\n",
      "Requirement already satisfied: nbformat>=4.4 in /Users/milind/Library/Python/3.7/lib/python/site-packages (from nbconvert->jupyter<2.0.0,>=1.0.0->vega) (5.0.4)\n",
      "Requirement already satisfied: bleach in /Users/milind/Library/Python/3.7/lib/python/site-packages (from nbconvert->jupyter<2.0.0,>=1.0.0->vega) (3.1.0)\n",
      "Requirement already satisfied: pandocfilters>=1.4.1 in /Users/milind/Library/Python/3.7/lib/python/site-packages (from nbconvert->jupyter<2.0.0,>=1.0.0->vega) (1.4.2)\n",
      "Requirement already satisfied: entrypoints>=0.2.2 in /Users/milind/Library/Python/3.7/lib/python/site-packages (from nbconvert->jupyter<2.0.0,>=1.0.0->vega) (0.3)\n",
      "Requirement already satisfied: testpath in /Users/milind/Library/Python/3.7/lib/python/site-packages (from nbconvert->jupyter<2.0.0,>=1.0.0->vega) (0.4.4)\n",
      "Requirement already satisfied: mistune<2,>=0.8.1 in /Users/milind/Library/Python/3.7/lib/python/site-packages (from nbconvert->jupyter<2.0.0,>=1.0.0->vega) (0.8.4)\n",
      "Requirement already satisfied: jupyter-core in /Users/milind/Library/Python/3.7/lib/python/site-packages (from nbconvert->jupyter<2.0.0,>=1.0.0->vega) (4.6.1)\n",
      "Requirement already satisfied: appnope; platform_system == \"Darwin\" in /Users/milind/Library/Python/3.7/lib/python/site-packages (from ipykernel->jupyter<2.0.0,>=1.0.0->vega) (0.1.0)\n",
      "Requirement already satisfied: tornado>=4.2 in /Users/milind/Library/Python/3.7/lib/python/site-packages (from ipykernel->jupyter<2.0.0,>=1.0.0->vega) (6.0.3)\n",
      "Requirement already satisfied: terminado>=0.8.1 in /Users/milind/Library/Python/3.7/lib/python/site-packages (from notebook->jupyter<2.0.0,>=1.0.0->vega) (0.8.3)\n",
      "Requirement already satisfied: prometheus-client in /Users/milind/Library/Python/3.7/lib/python/site-packages (from notebook->jupyter<2.0.0,>=1.0.0->vega) (0.7.1)\n",
      "Requirement already satisfied: pyzmq>=17 in /Users/milind/Library/Python/3.7/lib/python/site-packages (from notebook->jupyter<2.0.0,>=1.0.0->vega) (18.1.1)\n",
      "Requirement already satisfied: ipython-genutils in /Users/milind/Library/Python/3.7/lib/python/site-packages (from notebook->jupyter<2.0.0,>=1.0.0->vega) (0.2.0)\n",
      "Requirement already satisfied: Send2Trash in /Users/milind/Library/Python/3.7/lib/python/site-packages (from notebook->jupyter<2.0.0,>=1.0.0->vega) (1.5.0)\n",
      "Requirement already satisfied: widgetsnbextension~=3.5.0 in /Users/milind/Library/Python/3.7/lib/python/site-packages (from ipywidgets->jupyter<2.0.0,>=1.0.0->vega) (3.5.1)\n",
      "Requirement already satisfied: wcwidth in /Users/milind/Library/Python/3.7/lib/python/site-packages (from prompt-toolkit!=3.0.0,!=3.0.1,<3.1.0,>=2.0.0->jupyter-console->jupyter<2.0.0,>=1.0.0->vega) (0.1.8)\n",
      "Requirement already satisfied: backcall in /Users/milind/Library/Python/3.7/lib/python/site-packages (from ipython->jupyter-console->jupyter<2.0.0,>=1.0.0->vega) (0.1.0)\n",
      "Requirement already satisfied: pickleshare in /Users/milind/Library/Python/3.7/lib/python/site-packages (from ipython->jupyter-console->jupyter<2.0.0,>=1.0.0->vega) (0.7.5)\n",
      "Requirement already satisfied: pexpect; sys_platform != \"win32\" in /Users/milind/Library/Python/3.7/lib/python/site-packages (from ipython->jupyter-console->jupyter<2.0.0,>=1.0.0->vega) (4.8.0)\n",
      "Requirement already satisfied: setuptools>=18.5 in /usr/local/lib/python3.7/site-packages (from ipython->jupyter-console->jupyter<2.0.0,>=1.0.0->vega) (41.4.0)\n",
      "Requirement already satisfied: decorator in /Users/milind/Library/Python/3.7/lib/python/site-packages (from ipython->jupyter-console->jupyter<2.0.0,>=1.0.0->vega) (4.4.1)\n",
      "Requirement already satisfied: jedi>=0.10 in /Users/milind/Library/Python/3.7/lib/python/site-packages (from ipython->jupyter-console->jupyter<2.0.0,>=1.0.0->vega) (0.16.0)\n",
      "Requirement already satisfied: MarkupSafe>=0.23 in /Users/milind/Library/Python/3.7/lib/python/site-packages (from jinja2>=2.4->nbconvert->jupyter<2.0.0,>=1.0.0->vega) (1.1.1)\n",
      "Requirement already satisfied: jsonschema!=2.5.0,>=2.4 in /Users/milind/Library/Python/3.7/lib/python/site-packages (from nbformat>=4.4->nbconvert->jupyter<2.0.0,>=1.0.0->vega) (3.2.0)\n"
     ]
    },
    {
     "name": "stdout",
     "output_type": "stream",
     "text": [
      "Requirement already satisfied: webencodings in /Users/milind/Library/Python/3.7/lib/python/site-packages (from bleach->nbconvert->jupyter<2.0.0,>=1.0.0->vega) (0.5.1)\n",
      "Requirement already satisfied: ptyprocess; os_name != \"nt\" in /Users/milind/Library/Python/3.7/lib/python/site-packages (from terminado>=0.8.1->notebook->jupyter<2.0.0,>=1.0.0->vega) (0.6.0)\n",
      "Requirement already satisfied: parso>=0.5.2 in /Users/milind/Library/Python/3.7/lib/python/site-packages (from jedi>=0.10->ipython->jupyter-console->jupyter<2.0.0,>=1.0.0->vega) (0.6.1)\n",
      "Requirement already satisfied: importlib-metadata; python_version < \"3.8\" in /Users/milind/Library/Python/3.7/lib/python/site-packages (from jsonschema!=2.5.0,>=2.4->nbformat>=4.4->nbconvert->jupyter<2.0.0,>=1.0.0->vega) (1.5.0)\n",
      "Requirement already satisfied: pyrsistent>=0.14.0 in /Users/milind/Library/Python/3.7/lib/python/site-packages (from jsonschema!=2.5.0,>=2.4->nbformat>=4.4->nbconvert->jupyter<2.0.0,>=1.0.0->vega) (0.15.7)\n",
      "Requirement already satisfied: attrs>=17.4.0 in /Users/milind/Library/Python/3.7/lib/python/site-packages (from jsonschema!=2.5.0,>=2.4->nbformat>=4.4->nbconvert->jupyter<2.0.0,>=1.0.0->vega) (19.3.0)\n",
      "Requirement already satisfied: zipp>=0.5 in /Users/milind/Library/Python/3.7/lib/python/site-packages (from importlib-metadata; python_version < \"3.8\"->jsonschema!=2.5.0,>=2.4->nbformat>=4.4->nbconvert->jupyter<2.0.0,>=1.0.0->vega) (2.2.0)\n",
      "\u001b[33mWARNING: You are using pip version 20.0.2; however, version 20.1.1 is available.\n",
      "You should consider upgrading via the '/usr/local/opt/python/bin/python3.7 -m pip install --upgrade pip' command.\u001b[0m\n"
     ]
    },
    {
     "data": {
      "text/plain": [
       "RendererRegistry.enable('html')"
      ]
     },
     "execution_count": 1,
     "metadata": {},
     "output_type": "execute_result"
    }
   ],
   "source": [
    "# Importing all the required libraries for the project\n",
    "\n",
    "!pip install --upgrade altair\n",
    "!pip install vega vega_datasets\n",
    "\n",
    "import scipy\n",
    "import warnings\n",
    "import numpy as np\n",
    "import pandas as pd\n",
    "import altair as alt\n",
    "import matplotlib.pyplot as plt\n",
    "\n",
    "from scipy import stats\n",
    "from sklearn import metrics, preprocessing\n",
    "from IPython.core.interactiveshell import InteractiveShell\n",
    "from sklearn.svm import SVC\n",
    "from sklearn.pipeline import Pipeline\n",
    "from sklearn.naive_bayes import GaussianNB\n",
    "from sklearn.tree import DecisionTreeClassifier\n",
    "from sklearn.neighbors import KNeighborsClassifier\n",
    "from sklearn.preprocessing import PowerTransformer\n",
    "from sklearn.ensemble import RandomForestClassifier\n",
    "from sklearn.base import BaseEstimator, TransformerMixin\n",
    "from sklearn.model_selection import StratifiedKFold, GridSearchCV, train_test_split ,cross_val_score, RandomizedSearchCV\n",
    "\n",
    "warnings.filterwarnings(\"ignore\")\n",
    "%config InlineBackend.figure_format = 'retina'\n",
    "InteractiveShell.ast_node_interactivity = \"all\"\n",
    "alt.renderers.enable('html') # required in Jupyter notebooks"
   ]
  },
  {
   "cell_type": "code",
   "execution_count": 2,
   "metadata": {
    "colab": {},
    "colab_type": "code",
    "id": "LX689JYDIf0T"
   },
   "outputs": [],
   "source": [
    "# Reading .csv file as df with sep=',' as argument to function\n",
    "\n",
    "df = pd.read_csv('bank.csv', sep=',')"
   ]
  },
  {
   "cell_type": "code",
   "execution_count": 3,
   "metadata": {
    "colab": {
     "base_uri": "https://localhost:8080/",
     "height": 204
    },
    "colab_type": "code",
    "id": "kka0BzyrJOyZ",
    "outputId": "1ff0c111-ce4a-4878-ca2d-c26457a64368"
   },
   "outputs": [
    {
     "data": {
      "text/html": [
       "<div>\n",
       "<style scoped>\n",
       "    .dataframe tbody tr th:only-of-type {\n",
       "        vertical-align: middle;\n",
       "    }\n",
       "\n",
       "    .dataframe tbody tr th {\n",
       "        vertical-align: top;\n",
       "    }\n",
       "\n",
       "    .dataframe thead th {\n",
       "        text-align: right;\n",
       "    }\n",
       "</style>\n",
       "<table border=\"1\" class=\"dataframe\">\n",
       "  <thead>\n",
       "    <tr style=\"text-align: right;\">\n",
       "      <th></th>\n",
       "      <th>age</th>\n",
       "      <th>job</th>\n",
       "      <th>marital</th>\n",
       "      <th>education</th>\n",
       "      <th>default</th>\n",
       "      <th>balance</th>\n",
       "      <th>housing</th>\n",
       "      <th>loan</th>\n",
       "      <th>contact</th>\n",
       "      <th>day</th>\n",
       "      <th>month</th>\n",
       "      <th>duration</th>\n",
       "      <th>campaign</th>\n",
       "      <th>pdays</th>\n",
       "      <th>previous</th>\n",
       "      <th>poutcome</th>\n",
       "      <th>y</th>\n",
       "    </tr>\n",
       "  </thead>\n",
       "  <tbody>\n",
       "    <tr>\n",
       "      <th>0</th>\n",
       "      <td>30</td>\n",
       "      <td>unemployed</td>\n",
       "      <td>married</td>\n",
       "      <td>primary</td>\n",
       "      <td>no</td>\n",
       "      <td>1787</td>\n",
       "      <td>no</td>\n",
       "      <td>no</td>\n",
       "      <td>cellular</td>\n",
       "      <td>19</td>\n",
       "      <td>oct</td>\n",
       "      <td>79</td>\n",
       "      <td>1</td>\n",
       "      <td>-1</td>\n",
       "      <td>0</td>\n",
       "      <td>unknown</td>\n",
       "      <td>no</td>\n",
       "    </tr>\n",
       "    <tr>\n",
       "      <th>1</th>\n",
       "      <td>33</td>\n",
       "      <td>services</td>\n",
       "      <td>married</td>\n",
       "      <td>secondary</td>\n",
       "      <td>no</td>\n",
       "      <td>4789</td>\n",
       "      <td>yes</td>\n",
       "      <td>yes</td>\n",
       "      <td>cellular</td>\n",
       "      <td>11</td>\n",
       "      <td>may</td>\n",
       "      <td>220</td>\n",
       "      <td>1</td>\n",
       "      <td>339</td>\n",
       "      <td>4</td>\n",
       "      <td>failure</td>\n",
       "      <td>no</td>\n",
       "    </tr>\n",
       "    <tr>\n",
       "      <th>2</th>\n",
       "      <td>35</td>\n",
       "      <td>management</td>\n",
       "      <td>single</td>\n",
       "      <td>tertiary</td>\n",
       "      <td>no</td>\n",
       "      <td>1350</td>\n",
       "      <td>yes</td>\n",
       "      <td>no</td>\n",
       "      <td>cellular</td>\n",
       "      <td>16</td>\n",
       "      <td>apr</td>\n",
       "      <td>185</td>\n",
       "      <td>1</td>\n",
       "      <td>330</td>\n",
       "      <td>1</td>\n",
       "      <td>failure</td>\n",
       "      <td>no</td>\n",
       "    </tr>\n",
       "    <tr>\n",
       "      <th>3</th>\n",
       "      <td>30</td>\n",
       "      <td>management</td>\n",
       "      <td>married</td>\n",
       "      <td>tertiary</td>\n",
       "      <td>no</td>\n",
       "      <td>1476</td>\n",
       "      <td>yes</td>\n",
       "      <td>yes</td>\n",
       "      <td>unknown</td>\n",
       "      <td>3</td>\n",
       "      <td>jun</td>\n",
       "      <td>199</td>\n",
       "      <td>4</td>\n",
       "      <td>-1</td>\n",
       "      <td>0</td>\n",
       "      <td>unknown</td>\n",
       "      <td>no</td>\n",
       "    </tr>\n",
       "    <tr>\n",
       "      <th>4</th>\n",
       "      <td>59</td>\n",
       "      <td>blue-collar</td>\n",
       "      <td>married</td>\n",
       "      <td>secondary</td>\n",
       "      <td>no</td>\n",
       "      <td>0</td>\n",
       "      <td>yes</td>\n",
       "      <td>no</td>\n",
       "      <td>unknown</td>\n",
       "      <td>5</td>\n",
       "      <td>may</td>\n",
       "      <td>226</td>\n",
       "      <td>1</td>\n",
       "      <td>-1</td>\n",
       "      <td>0</td>\n",
       "      <td>unknown</td>\n",
       "      <td>no</td>\n",
       "    </tr>\n",
       "  </tbody>\n",
       "</table>\n",
       "</div>"
      ],
      "text/plain": [
       "   age          job  marital  education default  balance housing loan  \\\n",
       "0   30   unemployed  married    primary      no     1787      no   no   \n",
       "1   33     services  married  secondary      no     4789     yes  yes   \n",
       "2   35   management   single   tertiary      no     1350     yes   no   \n",
       "3   30   management  married   tertiary      no     1476     yes  yes   \n",
       "4   59  blue-collar  married  secondary      no        0     yes   no   \n",
       "\n",
       "    contact  day month  duration  campaign  pdays  previous poutcome   y  \n",
       "0  cellular   19   oct        79         1     -1         0  unknown  no  \n",
       "1  cellular   11   may       220         1    339         4  failure  no  \n",
       "2  cellular   16   apr       185         1    330         1  failure  no  \n",
       "3   unknown    3   jun       199         4     -1         0  unknown  no  \n",
       "4   unknown    5   may       226         1     -1         0  unknown  no  "
      ]
     },
     "execution_count": 3,
     "metadata": {},
     "output_type": "execute_result"
    }
   ],
   "source": [
    "# Representing Head of dataframe\n",
    "\n",
    "df.head()"
   ]
  },
  {
   "cell_type": "code",
   "execution_count": 4,
   "metadata": {
    "colab": {
     "base_uri": "https://localhost:8080/",
     "height": 34
    },
    "colab_type": "code",
    "id": "x64cC2d4KuJj",
    "outputId": "e0ab8511-704d-4486-cd6e-7eb0e4138fe2"
   },
   "outputs": [
    {
     "data": {
      "text/plain": [
       "(4521, 17)"
      ]
     },
     "execution_count": 4,
     "metadata": {},
     "output_type": "execute_result"
    }
   ],
   "source": [
    "# Showing size of Dataframe\n",
    "\n",
    "df.shape"
   ]
  },
  {
   "cell_type": "code",
   "execution_count": 5,
   "metadata": {
    "colab": {
     "base_uri": "https://localhost:8080/",
     "height": 68
    },
    "colab_type": "code",
    "id": "0tWehncLY4uA",
    "outputId": "93090354-20bd-41a5-82a1-24b387f702d0"
   },
   "outputs": [
    {
     "data": {
      "text/plain": [
       "array(['age', 'job', 'marital', 'education', 'default', 'balance',\n",
       "       'housing', 'loan', 'contact', 'day', 'month', 'duration',\n",
       "       'campaign', 'pdays', 'previous', 'poutcome', 'y'], dtype=object)"
      ]
     },
     "execution_count": 5,
     "metadata": {},
     "output_type": "execute_result"
    }
   ],
   "source": [
    "# Listing all columns of Dataframes\n",
    "\n",
    "df.columns.values"
   ]
  },
  {
   "cell_type": "code",
   "execution_count": 6,
   "metadata": {
    "colab": {
     "base_uri": "https://localhost:8080/",
     "height": 323
    },
    "colab_type": "code",
    "id": "dSI0q14BMDPr",
    "outputId": "64941a81-d2a6-480d-da32-4878aad78329"
   },
   "outputs": [
    {
     "data": {
      "text/plain": [
       "age           int64\n",
       "job          object\n",
       "marital      object\n",
       "education    object\n",
       "default      object\n",
       "balance       int64\n",
       "housing      object\n",
       "loan         object\n",
       "contact      object\n",
       "day           int64\n",
       "month        object\n",
       "duration      int64\n",
       "campaign      int64\n",
       "pdays         int64\n",
       "previous      int64\n",
       "poutcome     object\n",
       "y            object\n",
       "dtype: object"
      ]
     },
     "execution_count": 6,
     "metadata": {},
     "output_type": "execute_result"
    }
   ],
   "source": [
    "# Representing Dataframes datatypes\n",
    "\n",
    "df.dtypes"
   ]
  },
  {
   "cell_type": "markdown",
   "metadata": {
    "colab_type": "text",
    "id": "SD6tmL-cDkYG"
   },
   "source": [
    "## Handling Outliers and Missing Values"
   ]
  },
  {
   "cell_type": "code",
   "execution_count": 7,
   "metadata": {
    "colab": {},
    "colab_type": "code",
    "id": "bgxZc21MzN7f"
   },
   "outputs": [],
   "source": [
    "# Handling outlier's and removing rows if Z.score if > 3\n",
    "\n",
    "for column in df:\n",
    "    if df[column].dtypes == np.int64:\n",
    "        df = df[(np.abs(stats.zscore(df[column])) < 3)]"
   ]
  },
  {
   "cell_type": "code",
   "execution_count": 8,
   "metadata": {
    "colab": {
     "base_uri": "https://localhost:8080/",
     "height": 323
    },
    "colab_type": "code",
    "id": "rNJBX3cJZSzp",
    "outputId": "3c9cdd5a-1772-40f3-f5d7-0d0dc51f07bc"
   },
   "outputs": [
    {
     "data": {
      "text/plain": [
       "age          0\n",
       "job          0\n",
       "marital      0\n",
       "education    0\n",
       "default      0\n",
       "balance      0\n",
       "housing      0\n",
       "loan         0\n",
       "contact      0\n",
       "day          0\n",
       "month        0\n",
       "duration     0\n",
       "campaign     0\n",
       "pdays        0\n",
       "previous     0\n",
       "poutcome     0\n",
       "y            0\n",
       "dtype: int64"
      ]
     },
     "execution_count": 8,
     "metadata": {},
     "output_type": "execute_result"
    }
   ],
   "source": [
    "# Representing null values of every columns\n",
    "\n",
    "df.isnull().sum()"
   ]
  },
  {
   "cell_type": "code",
   "execution_count": 9,
   "metadata": {
    "colab": {
     "base_uri": "https://localhost:8080/",
     "height": 204
    },
    "colab_type": "code",
    "id": "Zdh6f2DzZZJb",
    "outputId": "a84cff99-ce0f-48fe-9a04-4a6be1ec1f2f"
   },
   "outputs": [
    {
     "data": {
      "text/html": [
       "<div>\n",
       "<style scoped>\n",
       "    .dataframe tbody tr th:only-of-type {\n",
       "        vertical-align: middle;\n",
       "    }\n",
       "\n",
       "    .dataframe tbody tr th {\n",
       "        vertical-align: top;\n",
       "    }\n",
       "\n",
       "    .dataframe thead th {\n",
       "        text-align: right;\n",
       "    }\n",
       "</style>\n",
       "<table border=\"1\" class=\"dataframe\">\n",
       "  <thead>\n",
       "    <tr style=\"text-align: right;\">\n",
       "      <th></th>\n",
       "      <th>age</th>\n",
       "      <th>job</th>\n",
       "      <th>marital</th>\n",
       "      <th>education</th>\n",
       "      <th>default</th>\n",
       "      <th>balance</th>\n",
       "      <th>housing</th>\n",
       "      <th>loan</th>\n",
       "      <th>contact</th>\n",
       "      <th>day</th>\n",
       "      <th>month</th>\n",
       "      <th>duration</th>\n",
       "      <th>campaign</th>\n",
       "      <th>pdays</th>\n",
       "      <th>previous</th>\n",
       "      <th>poutcome</th>\n",
       "      <th>y</th>\n",
       "    </tr>\n",
       "  </thead>\n",
       "  <tbody>\n",
       "    <tr>\n",
       "      <th>3728</th>\n",
       "      <td>53</td>\n",
       "      <td>technician</td>\n",
       "      <td>married</td>\n",
       "      <td>secondary</td>\n",
       "      <td>no</td>\n",
       "      <td>0</td>\n",
       "      <td>no</td>\n",
       "      <td>no</td>\n",
       "      <td>cellular</td>\n",
       "      <td>22</td>\n",
       "      <td>aug</td>\n",
       "      <td>77</td>\n",
       "      <td>9</td>\n",
       "      <td>-1</td>\n",
       "      <td>0</td>\n",
       "      <td>unknown</td>\n",
       "      <td>no</td>\n",
       "    </tr>\n",
       "    <tr>\n",
       "      <th>157</th>\n",
       "      <td>55</td>\n",
       "      <td>technician</td>\n",
       "      <td>married</td>\n",
       "      <td>secondary</td>\n",
       "      <td>no</td>\n",
       "      <td>273</td>\n",
       "      <td>yes</td>\n",
       "      <td>no</td>\n",
       "      <td>cellular</td>\n",
       "      <td>29</td>\n",
       "      <td>jan</td>\n",
       "      <td>84</td>\n",
       "      <td>3</td>\n",
       "      <td>183</td>\n",
       "      <td>3</td>\n",
       "      <td>failure</td>\n",
       "      <td>no</td>\n",
       "    </tr>\n",
       "    <tr>\n",
       "      <th>3616</th>\n",
       "      <td>45</td>\n",
       "      <td>management</td>\n",
       "      <td>single</td>\n",
       "      <td>tertiary</td>\n",
       "      <td>no</td>\n",
       "      <td>16</td>\n",
       "      <td>no</td>\n",
       "      <td>no</td>\n",
       "      <td>cellular</td>\n",
       "      <td>31</td>\n",
       "      <td>jul</td>\n",
       "      <td>59</td>\n",
       "      <td>2</td>\n",
       "      <td>-1</td>\n",
       "      <td>0</td>\n",
       "      <td>unknown</td>\n",
       "      <td>no</td>\n",
       "    </tr>\n",
       "    <tr>\n",
       "      <th>3003</th>\n",
       "      <td>33</td>\n",
       "      <td>management</td>\n",
       "      <td>single</td>\n",
       "      <td>tertiary</td>\n",
       "      <td>no</td>\n",
       "      <td>23</td>\n",
       "      <td>no</td>\n",
       "      <td>no</td>\n",
       "      <td>cellular</td>\n",
       "      <td>20</td>\n",
       "      <td>aug</td>\n",
       "      <td>216</td>\n",
       "      <td>3</td>\n",
       "      <td>-1</td>\n",
       "      <td>0</td>\n",
       "      <td>unknown</td>\n",
       "      <td>no</td>\n",
       "    </tr>\n",
       "    <tr>\n",
       "      <th>3257</th>\n",
       "      <td>31</td>\n",
       "      <td>admin.</td>\n",
       "      <td>single</td>\n",
       "      <td>secondary</td>\n",
       "      <td>no</td>\n",
       "      <td>1588</td>\n",
       "      <td>yes</td>\n",
       "      <td>no</td>\n",
       "      <td>unknown</td>\n",
       "      <td>3</td>\n",
       "      <td>jun</td>\n",
       "      <td>14</td>\n",
       "      <td>1</td>\n",
       "      <td>-1</td>\n",
       "      <td>0</td>\n",
       "      <td>unknown</td>\n",
       "      <td>no</td>\n",
       "    </tr>\n",
       "  </tbody>\n",
       "</table>\n",
       "</div>"
      ],
      "text/plain": [
       "      age         job  marital  education default  balance housing loan  \\\n",
       "3728   53  technician  married  secondary      no        0      no   no   \n",
       "157    55  technician  married  secondary      no      273     yes   no   \n",
       "3616   45  management   single   tertiary      no       16      no   no   \n",
       "3003   33  management   single   tertiary      no       23      no   no   \n",
       "3257   31      admin.   single  secondary      no     1588     yes   no   \n",
       "\n",
       "       contact  day month  duration  campaign  pdays  previous poutcome   y  \n",
       "3728  cellular   22   aug        77         9     -1         0  unknown  no  \n",
       "157   cellular   29   jan        84         3    183         3  failure  no  \n",
       "3616  cellular   31   jul        59         2     -1         0  unknown  no  \n",
       "3003  cellular   20   aug       216         3     -1         0  unknown  no  \n",
       "3257   unknown    3   jun        14         1     -1         0  unknown  no  "
      ]
     },
     "execution_count": 9,
     "metadata": {},
     "output_type": "execute_result"
    }
   ],
   "source": [
    "# Showing 5 randomly selected rows in this raw dataset\n",
    "\n",
    "df.sample(n=5, random_state=0)"
   ]
  },
  {
   "cell_type": "markdown",
   "metadata": {
    "colab_type": "text",
    "id": "a-XEfteBD1KR"
   },
   "source": [
    "## Summary statistics"
   ]
  },
  {
   "cell_type": "code",
   "execution_count": 10,
   "metadata": {
    "colab": {
     "base_uri": "https://localhost:8080/",
     "height": 410
    },
    "colab_type": "code",
    "id": "W4D6K7tCZwx1",
    "outputId": "deea4570-a40a-4f8d-b080-b65b73d7e51c"
   },
   "outputs": [
    {
     "data": {
      "text/html": [
       "<div>\n",
       "<style scoped>\n",
       "    .dataframe tbody tr th:only-of-type {\n",
       "        vertical-align: middle;\n",
       "    }\n",
       "\n",
       "    .dataframe tbody tr th {\n",
       "        vertical-align: top;\n",
       "    }\n",
       "\n",
       "    .dataframe thead th {\n",
       "        text-align: right;\n",
       "    }\n",
       "</style>\n",
       "<table border=\"1\" class=\"dataframe\">\n",
       "  <thead>\n",
       "    <tr style=\"text-align: right;\">\n",
       "      <th></th>\n",
       "      <th>age</th>\n",
       "      <th>job</th>\n",
       "      <th>marital</th>\n",
       "      <th>education</th>\n",
       "      <th>default</th>\n",
       "      <th>balance</th>\n",
       "      <th>housing</th>\n",
       "      <th>loan</th>\n",
       "      <th>contact</th>\n",
       "      <th>day</th>\n",
       "      <th>month</th>\n",
       "      <th>duration</th>\n",
       "      <th>campaign</th>\n",
       "      <th>pdays</th>\n",
       "      <th>previous</th>\n",
       "      <th>poutcome</th>\n",
       "      <th>y</th>\n",
       "    </tr>\n",
       "  </thead>\n",
       "  <tbody>\n",
       "    <tr>\n",
       "      <th>count</th>\n",
       "      <td>3954.000000</td>\n",
       "      <td>3954</td>\n",
       "      <td>3954</td>\n",
       "      <td>3954</td>\n",
       "      <td>3954</td>\n",
       "      <td>3954.000000</td>\n",
       "      <td>3954</td>\n",
       "      <td>3954</td>\n",
       "      <td>3954</td>\n",
       "      <td>3954.000000</td>\n",
       "      <td>3954</td>\n",
       "      <td>3954.000000</td>\n",
       "      <td>3954.000000</td>\n",
       "      <td>3954.000000</td>\n",
       "      <td>3954.000000</td>\n",
       "      <td>3954</td>\n",
       "      <td>3954</td>\n",
       "    </tr>\n",
       "    <tr>\n",
       "      <th>unique</th>\n",
       "      <td>NaN</td>\n",
       "      <td>12</td>\n",
       "      <td>3</td>\n",
       "      <td>4</td>\n",
       "      <td>2</td>\n",
       "      <td>NaN</td>\n",
       "      <td>2</td>\n",
       "      <td>2</td>\n",
       "      <td>3</td>\n",
       "      <td>NaN</td>\n",
       "      <td>12</td>\n",
       "      <td>NaN</td>\n",
       "      <td>NaN</td>\n",
       "      <td>NaN</td>\n",
       "      <td>NaN</td>\n",
       "      <td>4</td>\n",
       "      <td>2</td>\n",
       "    </tr>\n",
       "    <tr>\n",
       "      <th>top</th>\n",
       "      <td>NaN</td>\n",
       "      <td>management</td>\n",
       "      <td>married</td>\n",
       "      <td>secondary</td>\n",
       "      <td>no</td>\n",
       "      <td>NaN</td>\n",
       "      <td>yes</td>\n",
       "      <td>no</td>\n",
       "      <td>cellular</td>\n",
       "      <td>NaN</td>\n",
       "      <td>may</td>\n",
       "      <td>NaN</td>\n",
       "      <td>NaN</td>\n",
       "      <td>NaN</td>\n",
       "      <td>NaN</td>\n",
       "      <td>unknown</td>\n",
       "      <td>no</td>\n",
       "    </tr>\n",
       "    <tr>\n",
       "      <th>freq</th>\n",
       "      <td>NaN</td>\n",
       "      <td>842</td>\n",
       "      <td>2454</td>\n",
       "      <td>2021</td>\n",
       "      <td>3882</td>\n",
       "      <td>NaN</td>\n",
       "      <td>2221</td>\n",
       "      <td>3325</td>\n",
       "      <td>2479</td>\n",
       "      <td>NaN</td>\n",
       "      <td>1191</td>\n",
       "      <td>NaN</td>\n",
       "      <td>NaN</td>\n",
       "      <td>NaN</td>\n",
       "      <td>NaN</td>\n",
       "      <td>3459</td>\n",
       "      <td>3564</td>\n",
       "    </tr>\n",
       "    <tr>\n",
       "      <th>mean</th>\n",
       "      <td>40.832828</td>\n",
       "      <td>NaN</td>\n",
       "      <td>NaN</td>\n",
       "      <td>NaN</td>\n",
       "      <td>NaN</td>\n",
       "      <td>1111.301467</td>\n",
       "      <td>NaN</td>\n",
       "      <td>NaN</td>\n",
       "      <td>NaN</td>\n",
       "      <td>15.987607</td>\n",
       "      <td>NaN</td>\n",
       "      <td>242.521750</td>\n",
       "      <td>2.507081</td>\n",
       "      <td>22.860900</td>\n",
       "      <td>0.251391</td>\n",
       "      <td>NaN</td>\n",
       "      <td>NaN</td>\n",
       "    </tr>\n",
       "    <tr>\n",
       "      <th>std</th>\n",
       "      <td>9.996059</td>\n",
       "      <td>NaN</td>\n",
       "      <td>NaN</td>\n",
       "      <td>NaN</td>\n",
       "      <td>NaN</td>\n",
       "      <td>1767.777687</td>\n",
       "      <td>NaN</td>\n",
       "      <td>NaN</td>\n",
       "      <td>NaN</td>\n",
       "      <td>8.299363</td>\n",
       "      <td>NaN</td>\n",
       "      <td>198.906138</td>\n",
       "      <td>2.007846</td>\n",
       "      <td>69.865944</td>\n",
       "      <td>0.758478</td>\n",
       "      <td>NaN</td>\n",
       "      <td>NaN</td>\n",
       "    </tr>\n",
       "    <tr>\n",
       "      <th>min</th>\n",
       "      <td>19.000000</td>\n",
       "      <td>NaN</td>\n",
       "      <td>NaN</td>\n",
       "      <td>NaN</td>\n",
       "      <td>NaN</td>\n",
       "      <td>-3313.000000</td>\n",
       "      <td>NaN</td>\n",
       "      <td>NaN</td>\n",
       "      <td>NaN</td>\n",
       "      <td>1.000000</td>\n",
       "      <td>NaN</td>\n",
       "      <td>4.000000</td>\n",
       "      <td>1.000000</td>\n",
       "      <td>-1.000000</td>\n",
       "      <td>0.000000</td>\n",
       "      <td>NaN</td>\n",
       "      <td>NaN</td>\n",
       "    </tr>\n",
       "    <tr>\n",
       "      <th>25%</th>\n",
       "      <td>33.000000</td>\n",
       "      <td>NaN</td>\n",
       "      <td>NaN</td>\n",
       "      <td>NaN</td>\n",
       "      <td>NaN</td>\n",
       "      <td>61.000000</td>\n",
       "      <td>NaN</td>\n",
       "      <td>NaN</td>\n",
       "      <td>NaN</td>\n",
       "      <td>8.000000</td>\n",
       "      <td>NaN</td>\n",
       "      <td>105.000000</td>\n",
       "      <td>1.000000</td>\n",
       "      <td>-1.000000</td>\n",
       "      <td>0.000000</td>\n",
       "      <td>NaN</td>\n",
       "      <td>NaN</td>\n",
       "    </tr>\n",
       "    <tr>\n",
       "      <th>50%</th>\n",
       "      <td>39.000000</td>\n",
       "      <td>NaN</td>\n",
       "      <td>NaN</td>\n",
       "      <td>NaN</td>\n",
       "      <td>NaN</td>\n",
       "      <td>415.000000</td>\n",
       "      <td>NaN</td>\n",
       "      <td>NaN</td>\n",
       "      <td>NaN</td>\n",
       "      <td>16.000000</td>\n",
       "      <td>NaN</td>\n",
       "      <td>183.000000</td>\n",
       "      <td>2.000000</td>\n",
       "      <td>-1.000000</td>\n",
       "      <td>0.000000</td>\n",
       "      <td>NaN</td>\n",
       "      <td>NaN</td>\n",
       "    </tr>\n",
       "    <tr>\n",
       "      <th>75%</th>\n",
       "      <td>48.000000</td>\n",
       "      <td>NaN</td>\n",
       "      <td>NaN</td>\n",
       "      <td>NaN</td>\n",
       "      <td>NaN</td>\n",
       "      <td>1371.500000</td>\n",
       "      <td>NaN</td>\n",
       "      <td>NaN</td>\n",
       "      <td>NaN</td>\n",
       "      <td>21.000000</td>\n",
       "      <td>NaN</td>\n",
       "      <td>317.000000</td>\n",
       "      <td>3.000000</td>\n",
       "      <td>-1.000000</td>\n",
       "      <td>0.000000</td>\n",
       "      <td>NaN</td>\n",
       "      <td>NaN</td>\n",
       "    </tr>\n",
       "    <tr>\n",
       "      <th>max</th>\n",
       "      <td>72.000000</td>\n",
       "      <td>NaN</td>\n",
       "      <td>NaN</td>\n",
       "      <td>NaN</td>\n",
       "      <td>NaN</td>\n",
       "      <td>10378.000000</td>\n",
       "      <td>NaN</td>\n",
       "      <td>NaN</td>\n",
       "      <td>NaN</td>\n",
       "      <td>31.000000</td>\n",
       "      <td>NaN</td>\n",
       "      <td>1044.000000</td>\n",
       "      <td>12.000000</td>\n",
       "      <td>343.000000</td>\n",
       "      <td>4.000000</td>\n",
       "      <td>NaN</td>\n",
       "      <td>NaN</td>\n",
       "    </tr>\n",
       "  </tbody>\n",
       "</table>\n",
       "</div>"
      ],
      "text/plain": [
       "                age         job  marital  education default       balance  \\\n",
       "count   3954.000000        3954     3954       3954    3954   3954.000000   \n",
       "unique          NaN          12        3          4       2           NaN   \n",
       "top             NaN  management  married  secondary      no           NaN   \n",
       "freq            NaN         842     2454       2021    3882           NaN   \n",
       "mean      40.832828         NaN      NaN        NaN     NaN   1111.301467   \n",
       "std        9.996059         NaN      NaN        NaN     NaN   1767.777687   \n",
       "min       19.000000         NaN      NaN        NaN     NaN  -3313.000000   \n",
       "25%       33.000000         NaN      NaN        NaN     NaN     61.000000   \n",
       "50%       39.000000         NaN      NaN        NaN     NaN    415.000000   \n",
       "75%       48.000000         NaN      NaN        NaN     NaN   1371.500000   \n",
       "max       72.000000         NaN      NaN        NaN     NaN  10378.000000   \n",
       "\n",
       "       housing  loan   contact          day month     duration     campaign  \\\n",
       "count     3954  3954      3954  3954.000000  3954  3954.000000  3954.000000   \n",
       "unique       2     2         3          NaN    12          NaN          NaN   \n",
       "top        yes    no  cellular          NaN   may          NaN          NaN   \n",
       "freq      2221  3325      2479          NaN  1191          NaN          NaN   \n",
       "mean       NaN   NaN       NaN    15.987607   NaN   242.521750     2.507081   \n",
       "std        NaN   NaN       NaN     8.299363   NaN   198.906138     2.007846   \n",
       "min        NaN   NaN       NaN     1.000000   NaN     4.000000     1.000000   \n",
       "25%        NaN   NaN       NaN     8.000000   NaN   105.000000     1.000000   \n",
       "50%        NaN   NaN       NaN    16.000000   NaN   183.000000     2.000000   \n",
       "75%        NaN   NaN       NaN    21.000000   NaN   317.000000     3.000000   \n",
       "max        NaN   NaN       NaN    31.000000   NaN  1044.000000    12.000000   \n",
       "\n",
       "              pdays     previous poutcome     y  \n",
       "count   3954.000000  3954.000000     3954  3954  \n",
       "unique          NaN          NaN        4     2  \n",
       "top             NaN          NaN  unknown    no  \n",
       "freq            NaN          NaN     3459  3564  \n",
       "mean      22.860900     0.251391      NaN   NaN  \n",
       "std       69.865944     0.758478      NaN   NaN  \n",
       "min       -1.000000     0.000000      NaN   NaN  \n",
       "25%       -1.000000     0.000000      NaN   NaN  \n",
       "50%       -1.000000     0.000000      NaN   NaN  \n",
       "75%       -1.000000     0.000000      NaN   NaN  \n",
       "max      343.000000     4.000000      NaN   NaN  "
      ]
     },
     "execution_count": 10,
     "metadata": {},
     "output_type": "execute_result"
    }
   ],
   "source": [
    "# Showing summary statistics for the full data\n",
    "\n",
    "df.describe(include='all')"
   ]
  },
  {
   "cell_type": "markdown",
   "metadata": {
    "colab_type": "text",
    "id": "bH1EaEPxbVY4"
   },
   "source": [
    "## Encoding Target Feature"
   ]
  },
  {
   "cell_type": "code",
   "execution_count": 11,
   "metadata": {
    "colab": {
     "base_uri": "https://localhost:8080/",
     "height": 68
    },
    "colab_type": "code",
    "id": "OCncYTwIbcLP",
    "outputId": "05feffcc-8209-4940-e85d-afcc14c5cc08"
   },
   "outputs": [
    {
     "data": {
      "text/plain": [
       "no     3564\n",
       "yes     390\n",
       "Name: y, dtype: int64"
      ]
     },
     "execution_count": 11,
     "metadata": {},
     "output_type": "execute_result"
    }
   ],
   "source": [
    "# Removing y column from datafrmae and naming as \"target\", The rest of the features are the descriptive features which we call \"Data\".\n",
    "\n",
    "Data = df.drop(columns='y')\n",
    "target = df['y']\n",
    "target.value_counts()"
   ]
  },
  {
   "cell_type": "code",
   "execution_count": 12,
   "metadata": {
    "colab": {
     "base_uri": "https://localhost:8080/",
     "height": 68
    },
    "colab_type": "code",
    "id": "XHgJMzddcmG_",
    "outputId": "172de1e5-7a9a-48f9-c2fe-e2337d9457a6"
   },
   "outputs": [
    {
     "data": {
      "text/plain": [
       "0    3564\n",
       "1     390\n",
       "Name: y, dtype: int64"
      ]
     },
     "execution_count": 12,
     "metadata": {},
     "output_type": "execute_result"
    }
   ],
   "source": [
    "# encode the target feature so that the 'no' is '0' and 'yes' is '1'.\n",
    "\n",
    "target = target.replace({'no': 0, 'yes': 1})\n",
    "target.value_counts()"
   ]
  },
  {
   "cell_type": "markdown",
   "metadata": {
    "colab_type": "text",
    "id": "fb4tyalYeOdO"
   },
   "source": [
    "## Encoding Categorical Feature"
   ]
  },
  {
   "cell_type": "code",
   "execution_count": 13,
   "metadata": {
    "colab": {},
    "colab_type": "code",
    "id": "UeivTbfXc7KW"
   },
   "outputs": [],
   "source": [
    "# Extracting the list of categorical descriptive features which are required to encode\n",
    "categorical_cols = Data.columns[Data.dtypes==object].tolist()"
   ]
  },
  {
   "cell_type": "code",
   "execution_count": 14,
   "metadata": {
    "colab": {},
    "colab_type": "code",
    "id": "IKivICQyeb2n"
   },
   "outputs": [],
   "source": [
    "for col in categorical_cols:\n",
    "    n = len(Data[col].unique())\n",
    "    if (n == 2):\n",
    "        Data[col] = pd.get_dummies(Data[col], drop_first=True)\n",
    "   \n",
    "# use one-hot-encoding for categorical features with >2 levels\n",
    "Data = pd.get_dummies(Data)"
   ]
  },
  {
   "cell_type": "code",
   "execution_count": 15,
   "metadata": {
    "colab": {
     "base_uri": "https://localhost:8080/",
     "height": 241
    },
    "colab_type": "code",
    "id": "NLzIfG8yefAR",
    "outputId": "fc2a3e0e-1283-4fbc-acf1-70d21125e424"
   },
   "outputs": [
    {
     "data": {
      "text/html": [
       "<div>\n",
       "<style scoped>\n",
       "    .dataframe tbody tr th:only-of-type {\n",
       "        vertical-align: middle;\n",
       "    }\n",
       "\n",
       "    .dataframe tbody tr th {\n",
       "        vertical-align: top;\n",
       "    }\n",
       "\n",
       "    .dataframe thead th {\n",
       "        text-align: right;\n",
       "    }\n",
       "</style>\n",
       "<table border=\"1\" class=\"dataframe\">\n",
       "  <thead>\n",
       "    <tr style=\"text-align: right;\">\n",
       "      <th></th>\n",
       "      <th>age</th>\n",
       "      <th>default</th>\n",
       "      <th>balance</th>\n",
       "      <th>housing</th>\n",
       "      <th>loan</th>\n",
       "      <th>day</th>\n",
       "      <th>duration</th>\n",
       "      <th>campaign</th>\n",
       "      <th>pdays</th>\n",
       "      <th>previous</th>\n",
       "      <th>...</th>\n",
       "      <th>month_jun</th>\n",
       "      <th>month_mar</th>\n",
       "      <th>month_may</th>\n",
       "      <th>month_nov</th>\n",
       "      <th>month_oct</th>\n",
       "      <th>month_sep</th>\n",
       "      <th>poutcome_failure</th>\n",
       "      <th>poutcome_other</th>\n",
       "      <th>poutcome_success</th>\n",
       "      <th>poutcome_unknown</th>\n",
       "    </tr>\n",
       "  </thead>\n",
       "  <tbody>\n",
       "    <tr>\n",
       "      <th>1152</th>\n",
       "      <td>50</td>\n",
       "      <td>0</td>\n",
       "      <td>0</td>\n",
       "      <td>0</td>\n",
       "      <td>0</td>\n",
       "      <td>4</td>\n",
       "      <td>86</td>\n",
       "      <td>4</td>\n",
       "      <td>-1</td>\n",
       "      <td>0</td>\n",
       "      <td>...</td>\n",
       "      <td>0</td>\n",
       "      <td>0</td>\n",
       "      <td>0</td>\n",
       "      <td>0</td>\n",
       "      <td>0</td>\n",
       "      <td>0</td>\n",
       "      <td>0</td>\n",
       "      <td>0</td>\n",
       "      <td>0</td>\n",
       "      <td>1</td>\n",
       "    </tr>\n",
       "    <tr>\n",
       "      <th>3873</th>\n",
       "      <td>50</td>\n",
       "      <td>0</td>\n",
       "      <td>3304</td>\n",
       "      <td>0</td>\n",
       "      <td>0</td>\n",
       "      <td>5</td>\n",
       "      <td>1009</td>\n",
       "      <td>2</td>\n",
       "      <td>-1</td>\n",
       "      <td>0</td>\n",
       "      <td>...</td>\n",
       "      <td>1</td>\n",
       "      <td>0</td>\n",
       "      <td>0</td>\n",
       "      <td>0</td>\n",
       "      <td>0</td>\n",
       "      <td>0</td>\n",
       "      <td>0</td>\n",
       "      <td>0</td>\n",
       "      <td>0</td>\n",
       "      <td>1</td>\n",
       "    </tr>\n",
       "    <tr>\n",
       "      <th>4399</th>\n",
       "      <td>29</td>\n",
       "      <td>0</td>\n",
       "      <td>452</td>\n",
       "      <td>1</td>\n",
       "      <td>0</td>\n",
       "      <td>27</td>\n",
       "      <td>347</td>\n",
       "      <td>1</td>\n",
       "      <td>-1</td>\n",
       "      <td>0</td>\n",
       "      <td>...</td>\n",
       "      <td>0</td>\n",
       "      <td>0</td>\n",
       "      <td>1</td>\n",
       "      <td>0</td>\n",
       "      <td>0</td>\n",
       "      <td>0</td>\n",
       "      <td>0</td>\n",
       "      <td>0</td>\n",
       "      <td>0</td>\n",
       "      <td>1</td>\n",
       "    </tr>\n",
       "    <tr>\n",
       "      <th>975</th>\n",
       "      <td>34</td>\n",
       "      <td>0</td>\n",
       "      <td>215</td>\n",
       "      <td>0</td>\n",
       "      <td>0</td>\n",
       "      <td>3</td>\n",
       "      <td>350</td>\n",
       "      <td>3</td>\n",
       "      <td>-1</td>\n",
       "      <td>0</td>\n",
       "      <td>...</td>\n",
       "      <td>0</td>\n",
       "      <td>1</td>\n",
       "      <td>0</td>\n",
       "      <td>0</td>\n",
       "      <td>0</td>\n",
       "      <td>0</td>\n",
       "      <td>0</td>\n",
       "      <td>0</td>\n",
       "      <td>0</td>\n",
       "      <td>1</td>\n",
       "    </tr>\n",
       "    <tr>\n",
       "      <th>2816</th>\n",
       "      <td>34</td>\n",
       "      <td>0</td>\n",
       "      <td>586</td>\n",
       "      <td>1</td>\n",
       "      <td>0</td>\n",
       "      <td>16</td>\n",
       "      <td>489</td>\n",
       "      <td>2</td>\n",
       "      <td>-1</td>\n",
       "      <td>0</td>\n",
       "      <td>...</td>\n",
       "      <td>0</td>\n",
       "      <td>0</td>\n",
       "      <td>1</td>\n",
       "      <td>0</td>\n",
       "      <td>0</td>\n",
       "      <td>0</td>\n",
       "      <td>0</td>\n",
       "      <td>0</td>\n",
       "      <td>0</td>\n",
       "      <td>1</td>\n",
       "    </tr>\n",
       "  </tbody>\n",
       "</table>\n",
       "<p>5 rows × 48 columns</p>\n",
       "</div>"
      ],
      "text/plain": [
       "      age  default  balance  housing  loan  day  duration  campaign  pdays  \\\n",
       "1152   50        0        0        0     0    4        86         4     -1   \n",
       "3873   50        0     3304        0     0    5      1009         2     -1   \n",
       "4399   29        0      452        1     0   27       347         1     -1   \n",
       "975    34        0      215        0     0    3       350         3     -1   \n",
       "2816   34        0      586        1     0   16       489         2     -1   \n",
       "\n",
       "      previous  ...  month_jun  month_mar  month_may  month_nov  month_oct  \\\n",
       "1152         0  ...          0          0          0          0          0   \n",
       "3873         0  ...          1          0          0          0          0   \n",
       "4399         0  ...          0          0          1          0          0   \n",
       "975          0  ...          0          1          0          0          0   \n",
       "2816         0  ...          0          0          1          0          0   \n",
       "\n",
       "      month_sep  poutcome_failure  poutcome_other  poutcome_success  \\\n",
       "1152          0                 0               0                 0   \n",
       "3873          0                 0               0                 0   \n",
       "4399          0                 0               0                 0   \n",
       "975           0                 0               0                 0   \n",
       "2816          0                 0               0                 0   \n",
       "\n",
       "      poutcome_unknown  \n",
       "1152                 1  \n",
       "3873                 1  \n",
       "4399                 1  \n",
       "975                  1  \n",
       "2816                 1  \n",
       "\n",
       "[5 rows x 48 columns]"
      ]
     },
     "execution_count": 15,
     "metadata": {},
     "output_type": "execute_result"
    }
   ],
   "source": [
    "# Representing encoded data dataframe\n",
    "\n",
    "Data.sample(5, random_state=999)"
   ]
  },
  {
   "cell_type": "markdown",
   "metadata": {
    "colab_type": "text",
    "id": "AZmDnB1exMwa"
   },
   "source": [
    "## Scaling feature"
   ]
  },
  {
   "cell_type": "markdown",
   "metadata": {
    "colab_type": "text",
    "id": "qwa5KBUBl8rj"
   },
   "source": [
    "Scaling is mandatory for some important class of models such as nearest neighbors, SVMs, and deep learning.\n",
    "\n",
    "Min-Max Scaling: Each descriptive feature is scaled to be between 0 and 1. Min-max scaling for a numerical feature is done as follows:\n",
    "\n",
    "scaled_value=value - min_valuemax_value - min_value"
   ]
  },
  {
   "cell_type": "code",
   "execution_count": 16,
   "metadata": {
    "colab": {
     "base_uri": "https://localhost:8080/",
     "height": 34
    },
    "colab_type": "code",
    "id": "ELe3v_50gw7x",
    "outputId": "033d2eac-b433-4aa2-828e-3aafff245f5a"
   },
   "outputs": [
    {
     "data": {
      "text/plain": [
       "MinMaxScaler(copy=True, feature_range=(0, 1))"
      ]
     },
     "execution_count": 16,
     "metadata": {},
     "output_type": "execute_result"
    }
   ],
   "source": [
    "# After encoding all the categorical features, we copy data df to keep track of column name and perform a min-max scaling of the descriptive features\n",
    "\n",
    "Data_df = Data.copy()\n",
    "\n",
    "Data_scaler = preprocessing.MinMaxScaler()\n",
    "Data_scaler.fit(Data)\n",
    "Data = Data_scaler.fit_transform(Data)"
   ]
  },
  {
   "cell_type": "code",
   "execution_count": 17,
   "metadata": {
    "colab": {
     "base_uri": "https://localhost:8080/",
     "height": 241
    },
    "colab_type": "code",
    "id": "3clvBjZug1qH",
    "outputId": "e1049bd9-e35f-44a2-9462-068c47faaa42"
   },
   "outputs": [
    {
     "data": {
      "text/html": [
       "<div>\n",
       "<style scoped>\n",
       "    .dataframe tbody tr th:only-of-type {\n",
       "        vertical-align: middle;\n",
       "    }\n",
       "\n",
       "    .dataframe tbody tr th {\n",
       "        vertical-align: top;\n",
       "    }\n",
       "\n",
       "    .dataframe thead th {\n",
       "        text-align: right;\n",
       "    }\n",
       "</style>\n",
       "<table border=\"1\" class=\"dataframe\">\n",
       "  <thead>\n",
       "    <tr style=\"text-align: right;\">\n",
       "      <th></th>\n",
       "      <th>age</th>\n",
       "      <th>default</th>\n",
       "      <th>balance</th>\n",
       "      <th>housing</th>\n",
       "      <th>loan</th>\n",
       "      <th>day</th>\n",
       "      <th>duration</th>\n",
       "      <th>campaign</th>\n",
       "      <th>pdays</th>\n",
       "      <th>previous</th>\n",
       "      <th>...</th>\n",
       "      <th>month_jun</th>\n",
       "      <th>month_mar</th>\n",
       "      <th>month_may</th>\n",
       "      <th>month_nov</th>\n",
       "      <th>month_oct</th>\n",
       "      <th>month_sep</th>\n",
       "      <th>poutcome_failure</th>\n",
       "      <th>poutcome_other</th>\n",
       "      <th>poutcome_success</th>\n",
       "      <th>poutcome_unknown</th>\n",
       "    </tr>\n",
       "  </thead>\n",
       "  <tbody>\n",
       "    <tr>\n",
       "      <th>1014</th>\n",
       "      <td>0.584906</td>\n",
       "      <td>0.0</td>\n",
       "      <td>0.241984</td>\n",
       "      <td>0.0</td>\n",
       "      <td>0.0</td>\n",
       "      <td>0.100000</td>\n",
       "      <td>0.078846</td>\n",
       "      <td>0.272727</td>\n",
       "      <td>0.0</td>\n",
       "      <td>0.0</td>\n",
       "      <td>...</td>\n",
       "      <td>0.0</td>\n",
       "      <td>0.0</td>\n",
       "      <td>0.0</td>\n",
       "      <td>0.0</td>\n",
       "      <td>0.0</td>\n",
       "      <td>0.0</td>\n",
       "      <td>0.0</td>\n",
       "      <td>0.0</td>\n",
       "      <td>0.0</td>\n",
       "      <td>1.0</td>\n",
       "    </tr>\n",
       "    <tr>\n",
       "      <th>3385</th>\n",
       "      <td>0.584906</td>\n",
       "      <td>0.0</td>\n",
       "      <td>0.483310</td>\n",
       "      <td>0.0</td>\n",
       "      <td>0.0</td>\n",
       "      <td>0.133333</td>\n",
       "      <td>0.966346</td>\n",
       "      <td>0.090909</td>\n",
       "      <td>0.0</td>\n",
       "      <td>0.0</td>\n",
       "      <td>...</td>\n",
       "      <td>1.0</td>\n",
       "      <td>0.0</td>\n",
       "      <td>0.0</td>\n",
       "      <td>0.0</td>\n",
       "      <td>0.0</td>\n",
       "      <td>0.0</td>\n",
       "      <td>0.0</td>\n",
       "      <td>0.0</td>\n",
       "      <td>0.0</td>\n",
       "      <td>1.0</td>\n",
       "    </tr>\n",
       "    <tr>\n",
       "      <th>3845</th>\n",
       "      <td>0.188679</td>\n",
       "      <td>0.0</td>\n",
       "      <td>0.274998</td>\n",
       "      <td>1.0</td>\n",
       "      <td>0.0</td>\n",
       "      <td>0.866667</td>\n",
       "      <td>0.329808</td>\n",
       "      <td>0.000000</td>\n",
       "      <td>0.0</td>\n",
       "      <td>0.0</td>\n",
       "      <td>...</td>\n",
       "      <td>0.0</td>\n",
       "      <td>0.0</td>\n",
       "      <td>1.0</td>\n",
       "      <td>0.0</td>\n",
       "      <td>0.0</td>\n",
       "      <td>0.0</td>\n",
       "      <td>0.0</td>\n",
       "      <td>0.0</td>\n",
       "      <td>0.0</td>\n",
       "      <td>1.0</td>\n",
       "    </tr>\n",
       "    <tr>\n",
       "      <th>857</th>\n",
       "      <td>0.283019</td>\n",
       "      <td>0.0</td>\n",
       "      <td>0.257688</td>\n",
       "      <td>0.0</td>\n",
       "      <td>0.0</td>\n",
       "      <td>0.066667</td>\n",
       "      <td>0.332692</td>\n",
       "      <td>0.181818</td>\n",
       "      <td>0.0</td>\n",
       "      <td>0.0</td>\n",
       "      <td>...</td>\n",
       "      <td>0.0</td>\n",
       "      <td>1.0</td>\n",
       "      <td>0.0</td>\n",
       "      <td>0.0</td>\n",
       "      <td>0.0</td>\n",
       "      <td>0.0</td>\n",
       "      <td>0.0</td>\n",
       "      <td>0.0</td>\n",
       "      <td>0.0</td>\n",
       "      <td>1.0</td>\n",
       "    </tr>\n",
       "    <tr>\n",
       "      <th>2484</th>\n",
       "      <td>0.283019</td>\n",
       "      <td>0.0</td>\n",
       "      <td>0.284786</td>\n",
       "      <td>1.0</td>\n",
       "      <td>0.0</td>\n",
       "      <td>0.500000</td>\n",
       "      <td>0.466346</td>\n",
       "      <td>0.090909</td>\n",
       "      <td>0.0</td>\n",
       "      <td>0.0</td>\n",
       "      <td>...</td>\n",
       "      <td>0.0</td>\n",
       "      <td>0.0</td>\n",
       "      <td>1.0</td>\n",
       "      <td>0.0</td>\n",
       "      <td>0.0</td>\n",
       "      <td>0.0</td>\n",
       "      <td>0.0</td>\n",
       "      <td>0.0</td>\n",
       "      <td>0.0</td>\n",
       "      <td>1.0</td>\n",
       "    </tr>\n",
       "  </tbody>\n",
       "</table>\n",
       "<p>5 rows × 48 columns</p>\n",
       "</div>"
      ],
      "text/plain": [
       "           age  default   balance  housing  loan       day  duration  \\\n",
       "1014  0.584906      0.0  0.241984      0.0   0.0  0.100000  0.078846   \n",
       "3385  0.584906      0.0  0.483310      0.0   0.0  0.133333  0.966346   \n",
       "3845  0.188679      0.0  0.274998      1.0   0.0  0.866667  0.329808   \n",
       "857   0.283019      0.0  0.257688      0.0   0.0  0.066667  0.332692   \n",
       "2484  0.283019      0.0  0.284786      1.0   0.0  0.500000  0.466346   \n",
       "\n",
       "      campaign  pdays  previous  ...  month_jun  month_mar  month_may  \\\n",
       "1014  0.272727    0.0       0.0  ...        0.0        0.0        0.0   \n",
       "3385  0.090909    0.0       0.0  ...        1.0        0.0        0.0   \n",
       "3845  0.000000    0.0       0.0  ...        0.0        0.0        1.0   \n",
       "857   0.181818    0.0       0.0  ...        0.0        1.0        0.0   \n",
       "2484  0.090909    0.0       0.0  ...        0.0        0.0        1.0   \n",
       "\n",
       "      month_nov  month_oct  month_sep  poutcome_failure  poutcome_other  \\\n",
       "1014        0.0        0.0        0.0               0.0             0.0   \n",
       "3385        0.0        0.0        0.0               0.0             0.0   \n",
       "3845        0.0        0.0        0.0               0.0             0.0   \n",
       "857         0.0        0.0        0.0               0.0             0.0   \n",
       "2484        0.0        0.0        0.0               0.0             0.0   \n",
       "\n",
       "      poutcome_success  poutcome_unknown  \n",
       "1014               0.0               1.0  \n",
       "3385               0.0               1.0  \n",
       "3845               0.0               1.0  \n",
       "857                0.0               1.0  \n",
       "2484               0.0               1.0  \n",
       "\n",
       "[5 rows x 48 columns]"
      ]
     },
     "execution_count": 17,
     "metadata": {},
     "output_type": "execute_result"
    }
   ],
   "source": [
    "# Representing encoded data dataframe\n",
    "\n",
    "pd.DataFrame(Data, columns=Data_df.columns).sample(5, random_state=999)"
   ]
  },
  {
   "cell_type": "markdown",
   "metadata": {
    "colab_type": "text",
    "id": "TFuR2qdS7zOP"
   },
   "source": [
    "## Feature Selection & Ranking"
   ]
  },
  {
   "cell_type": "code",
   "execution_count": 18,
   "metadata": {
    "colab": {
     "base_uri": "https://localhost:8080/",
     "height": 187
    },
    "colab_type": "code",
    "id": "bzh-ZDVsg13H",
    "outputId": "b3df3b1f-72d8-4e77-9623-2a368e1f1b36"
   },
   "outputs": [
    {
     "data": {
      "text/plain": [
       "RandomForestClassifier(bootstrap=True, ccp_alpha=0.0, class_weight=None,\n",
       "                       criterion='gini', max_depth=None, max_features='auto',\n",
       "                       max_leaf_nodes=None, max_samples=None,\n",
       "                       min_impurity_decrease=0.0, min_impurity_split=None,\n",
       "                       min_samples_leaf=1, min_samples_split=2,\n",
       "                       min_weight_fraction_leaf=0.0, n_estimators=100,\n",
       "                       n_jobs=None, oob_score=False, random_state=None,\n",
       "                       verbose=0, warm_start=False)"
      ]
     },
     "execution_count": 18,
     "metadata": {},
     "output_type": "execute_result"
    },
    {
     "data": {
      "text/plain": [
       "array(['duration', 'balance', 'day', 'age', 'poutcome_success',\n",
       "       'campaign', 'pdays', 'month_oct', 'housing', 'previous'],\n",
       "      dtype=object)"
      ]
     },
     "execution_count": 18,
     "metadata": {},
     "output_type": "execute_result"
    }
   ],
   "source": [
    "# Here we will determine top 10 best features using RandomForestClassifier to get ranking of features and gain some insight into the problem at hand. During the hyperparameter tuning phase, we will include RFI as part of the pipeline and we will search over 10, 20, and the full set of 48 features to determine which number of features works best with each classifier.\n",
    "\n",
    "num_features = 10\n",
    "model_rfi = RandomForestClassifier(n_estimators=100)\n",
    "model_rfi.fit(Data, target)\n",
    "fs_indices_rfi = np.argsort(model_rfi.feature_importances_)[::-1][0:num_features]\n",
    "\n",
    "best_features_rfi = Data_df.columns[fs_indices_rfi].values\n",
    "best_features_rfi"
   ]
  },
  {
   "cell_type": "code",
   "execution_count": 19,
   "metadata": {
    "colab": {
     "base_uri": "https://localhost:8080/",
     "height": 51
    },
    "colab_type": "code",
    "id": "XrjbIJ41g7iy",
    "outputId": "6bd46056-005c-4b4b-ce66-3b15c6f995e3"
   },
   "outputs": [
    {
     "data": {
      "text/plain": [
       "array([0.23860507, 0.09702131, 0.08782677, 0.08702176, 0.04173019,\n",
       "       0.03954484, 0.0286028 , 0.02048133, 0.01960155, 0.01733279])"
      ]
     },
     "execution_count": 19,
     "metadata": {},
     "output_type": "execute_result"
    }
   ],
   "source": [
    "feature_importances_rfi = model_rfi.feature_importances_[fs_indices_rfi]\n",
    "feature_importances_rfi"
   ]
  },
  {
   "cell_type": "code",
   "execution_count": 20,
   "metadata": {
    "colab": {},
    "colab_type": "code",
    "id": "R463iigug7fJ"
   },
   "outputs": [],
   "source": [
    "# plot_imp funtion is used to create plot using altir \n",
    "\n",
    "def plot_imp(best_features, scores, method_name, color):\n",
    "    \n",
    "    df = pd.DataFrame({'features': best_features, \n",
    "                       'importances': scores})\n",
    "    \n",
    "    chart = alt.Chart(df, \n",
    "                      width=500, \n",
    "                      title=method_name + ' Feature Importances'\n",
    "                     ).mark_bar(opacity=0.85, \n",
    "                                color=color).encode(\n",
    "        alt.X('features', title='Feature', sort=None, axis=alt.AxisConfig(labelAngle=45)),\n",
    "        alt.Y('importances', title='Importance')\n",
    "    )\n",
    "    \n",
    "    return chart"
   ]
  },
  {
   "cell_type": "code",
   "execution_count": 21,
   "metadata": {
    "colab": {
     "base_uri": "https://localhost:8080/",
     "height": 443
    },
    "colab_type": "code",
    "id": "pH9wtSg_iICi",
    "outputId": "f2aecc68-b44e-43a3-e5f8-e3a118e48249"
   },
   "outputs": [
    {
     "data": {
      "text/html": [
       "\n",
       "<div id=\"altair-viz-a20cc56e3fdd4f7d9eeecdd1ebcb8a60\"></div>\n",
       "<script type=\"text/javascript\">\n",
       "  (function(spec, embedOpt){\n",
       "    let outputDiv = document.currentScript.previousElementSibling;\n",
       "    if (outputDiv.id !== \"altair-viz-a20cc56e3fdd4f7d9eeecdd1ebcb8a60\") {\n",
       "      outputDiv = document.getElementById(\"altair-viz-a20cc56e3fdd4f7d9eeecdd1ebcb8a60\");\n",
       "    }\n",
       "    const paths = {\n",
       "      \"vega\": \"https://cdn.jsdelivr.net/npm//vega@5?noext\",\n",
       "      \"vega-lib\": \"https://cdn.jsdelivr.net/npm//vega-lib?noext\",\n",
       "      \"vega-lite\": \"https://cdn.jsdelivr.net/npm//vega-lite@4.8.1?noext\",\n",
       "      \"vega-embed\": \"https://cdn.jsdelivr.net/npm//vega-embed@6?noext\",\n",
       "    };\n",
       "\n",
       "    function loadScript(lib) {\n",
       "      return new Promise(function(resolve, reject) {\n",
       "        var s = document.createElement('script');\n",
       "        s.src = paths[lib];\n",
       "        s.async = true;\n",
       "        s.onload = () => resolve(paths[lib]);\n",
       "        s.onerror = () => reject(`Error loading script: ${paths[lib]}`);\n",
       "        document.getElementsByTagName(\"head\")[0].appendChild(s);\n",
       "      });\n",
       "    }\n",
       "\n",
       "    function showError(err) {\n",
       "      outputDiv.innerHTML = `<div class=\"error\" style=\"color:red;\">${err}</div>`;\n",
       "      throw err;\n",
       "    }\n",
       "\n",
       "    function displayChart(vegaEmbed) {\n",
       "      vegaEmbed(outputDiv, spec, embedOpt)\n",
       "        .catch(err => showError(`Javascript Error: ${err.message}<br>This usually means there's a typo in your chart specification. See the javascript console for the full traceback.`));\n",
       "    }\n",
       "\n",
       "    if(typeof define === \"function\" && define.amd) {\n",
       "      requirejs.config({paths});\n",
       "      require([\"vega-embed\"], displayChart, err => showError(`Error loading script: ${err.message}`));\n",
       "    } else if (typeof vegaEmbed === \"function\") {\n",
       "      displayChart(vegaEmbed);\n",
       "    } else {\n",
       "      loadScript(\"vega\")\n",
       "        .then(() => loadScript(\"vega-lite\"))\n",
       "        .then(() => loadScript(\"vega-embed\"))\n",
       "        .catch(showError)\n",
       "        .then(() => displayChart(vegaEmbed));\n",
       "    }\n",
       "  })({\"config\": {\"view\": {\"continuousWidth\": 400, \"continuousHeight\": 300}}, \"data\": {\"name\": \"data-b8897b8b4ecce5b80df6658444324030\"}, \"mark\": {\"type\": \"bar\", \"color\": \"blue\", \"opacity\": 0.85}, \"encoding\": {\"x\": {\"type\": \"nominal\", \"axis\": {\"labelAngle\": 45}, \"field\": \"features\", \"sort\": null, \"title\": \"Feature\"}, \"y\": {\"type\": \"quantitative\", \"field\": \"importances\", \"title\": \"Importance\"}}, \"title\": \"Random Forest Feature Importances\", \"width\": 500, \"$schema\": \"https://vega.github.io/schema/vega-lite/v4.8.1.json\", \"datasets\": {\"data-b8897b8b4ecce5b80df6658444324030\": [{\"features\": \"duration\", \"importances\": 0.23860507269171957}, {\"features\": \"balance\", \"importances\": 0.09702131002851927}, {\"features\": \"day\", \"importances\": 0.08782677419153734}, {\"features\": \"age\", \"importances\": 0.08702175581553144}, {\"features\": \"poutcome_success\", \"importances\": 0.04173019143782913}, {\"features\": \"campaign\", \"importances\": 0.03954484421231437}, {\"features\": \"pdays\", \"importances\": 0.028602795880812576}, {\"features\": \"month_oct\", \"importances\": 0.02048133329693271}, {\"features\": \"housing\", \"importances\": 0.019601547159896166}, {\"features\": \"previous\", \"importances\": 0.017332794544923476}]}}, {\"mode\": \"vega-lite\"});\n",
       "</script>"
      ],
      "text/plain": [
       "alt.Chart(...)"
      ]
     },
     "execution_count": 21,
     "metadata": {},
     "output_type": "execute_result"
    }
   ],
   "source": [
    "# we visualize features ranking \n",
    "\n",
    "plot_imp(best_features_rfi, feature_importances_rfi, 'Random Forest', 'blue')"
   ]
  },
  {
   "cell_type": "markdown",
   "metadata": {
    "colab_type": "text",
    "id": "AcaQC4S7EK96"
   },
   "source": [
    "# Data Explorations"
   ]
  },
  {
   "cell_type": "code",
   "execution_count": 22,
   "metadata": {
    "colab": {
     "base_uri": "https://localhost:8080/",
     "height": 338
    },
    "colab_type": "code",
    "id": "ubsCuiGls9dk",
    "outputId": "41769e44-4e12-4347-987a-dda6656defe7"
   },
   "outputs": [
    {
     "data": {
      "image/png": "[encoded data removed]",
      "text/plain": [
       "<Figure size 720x360 with 1 Axes>"
      ]
     },
     "metadata": {
      "image/png": {
       "height": 318,
       "width": 605
      },
      "needs_background": "light"
     },
     "output_type": "display_data"
    }
   ],
   "source": [
    "feature1 = ['duration']\n",
    "df[feature1].hist(figsize=(10, 5));"
   ]
  },
  {
   "cell_type": "markdown",
   "metadata": {
    "colab_type": "text",
    "id": "naykbtHx6W3P"
   },
   "source": [
    "From this histogram it is clear that the last contact duration is highest around between 100 to 200 seconds. After that it was keep on decreasing and almost lowest between 830 to 1000 seconds.\n",
    "So the most of the phone calls were performed between 100 to 200 seconds."
   ]
  },
  {
   "cell_type": "code",
   "execution_count": 23,
   "metadata": {
    "colab": {
     "base_uri": "https://localhost:8080/",
     "height": 322
    },
    "colab_type": "code",
    "id": "Y13tSHcOvmDo",
    "outputId": "502f0028-1b57-4135-9cce-9ceabb88c23c"
   },
   "outputs": [
    {
     "data": {
      "image/png": "[encoded data removed]",
      "text/plain": [
       "<Figure size 720x360 with 2 Axes>"
      ]
     },
     "metadata": {
      "image/png": {
       "height": 302,
       "width": 323
      },
      "needs_background": "light"
     },
     "output_type": "display_data"
    }
   ],
   "source": [
    "feature2 = ['balance']\n",
    "df[feature2].plot(kind='density', subplots=True, layout=(1, 2), \n",
    "                  sharex=False, figsize=(10, 5));"
   ]
  },
  {
   "cell_type": "markdown",
   "metadata": {
    "colab_type": "text",
    "id": "WADm3E8F7JLt"
   },
   "source": [
    "Here the most of clients has account balance between 0 to 2000.\n",
    "Very less number of clients has account balance is less than 0."
   ]
  },
  {
   "cell_type": "code",
   "execution_count": 24,
   "metadata": {
    "colab": {
     "base_uri": "https://localhost:8080/",
     "height": 284
    },
    "colab_type": "code",
    "id": "1i5Wr8ju_Qnd",
    "outputId": "4b0821ae-1169-4157-e623-b777e9016615"
   },
   "outputs": [
    {
     "data": {
      "image/png": "[encoded data removed]",
      "text/plain": [
       "<Figure size 432x288 with 1 Axes>"
      ]
     },
     "metadata": {
      "image/png": {
       "height": 266,
       "width": 380
      }
     },
     "output_type": "display_data"
    }
   ],
   "source": [
    "import seaborn as sns\n",
    "sns.set()\n",
    "\n",
    "sns.distplot(df['age']);"
   ]
  },
  {
   "cell_type": "markdown",
   "metadata": {
    "colab_type": "text",
    "id": "ZINTen6U8_7v"
   },
   "source": [
    "From the density graph it is clear that the bank has large number of clients aged between 30 to 40.\n",
    "Moderate number of clients are aged between 40 to 60 are connected with the bank."
   ]
  },
  {
   "cell_type": "code",
   "execution_count": 25,
   "metadata": {
    "colab": {
     "base_uri": "https://localhost:8080/",
     "height": 284
    },
    "colab_type": "code",
    "id": "ZNJTOrCvwb2l",
    "outputId": "6691b7ea-520e-44d5-a240-c73e094d43e6"
   },
   "outputs": [
    {
     "data": {
      "image/png": "[encoded data removed]",
      "text/plain": [
       "<Figure size 432x288 with 1 Axes>"
      ]
     },
     "metadata": {
      "image/png": {
       "height": 266,
       "width": 349
      }
     },
     "output_type": "display_data"
    }
   ],
   "source": [
    "sns.boxplot(x='age', data=df);"
   ]
  },
  {
   "cell_type": "markdown",
   "metadata": {
    "colab_type": "text",
    "id": "_snJ_cGr96SE"
   },
   "source": [
    "The box plot represents that most of the clients are aged between 33 to 48.\n",
    "The minimum age is 18 and the maximum age is 70."
   ]
  },
  {
   "cell_type": "code",
   "execution_count": 26,
   "metadata": {
    "colab": {
     "base_uri": "https://localhost:8080/",
     "height": 338
    },
    "colab_type": "code",
    "id": "zmsz2as8z4Lt",
    "outputId": "1f0c4756-2e7b-4bff-ac97-47d106b8368a"
   },
   "outputs": [
    {
     "data": {
      "image/png": "[encoded data removed]",
      "text/plain": [
       "<Figure size 1440x360 with 1 Axes>"
      ]
     },
     "metadata": {
      "image/png": {
       "height": 321,
       "width": 1173
      }
     },
     "output_type": "display_data"
    }
   ],
   "source": [
    "plt.figure(figsize=(20,5))\n",
    "sns.countplot(x='job', hue='y', data=df);"
   ]
  },
  {
   "cell_type": "markdown",
   "metadata": {
    "colab_type": "text",
    "id": "OCbFOTuy_ame"
   },
   "source": [
    "The bar chart shows that most of the clients with blue-collar and management jobs are not subscribed with term deposits.Management employees are highly subscribed with term deposits. "
   ]
  },
  {
   "cell_type": "code",
   "execution_count": 27,
   "metadata": {
    "colab": {
     "base_uri": "https://localhost:8080/",
     "height": 340
    },
    "colab_type": "code",
    "id": "JZ_4ABT21L-D",
    "outputId": "b78852a6-dc76-41f4-d718-e71cdea44730"
   },
   "outputs": [
    {
     "data": {
      "image/png": "[encoded data removed]",
      "text/plain": [
       "<Figure size 720x360 with 1 Axes>"
      ]
     },
     "metadata": {
      "image/png": {
       "height": 323,
       "width": 621
      }
     },
     "output_type": "display_data"
    }
   ],
   "source": [
    "plt.figure(figsize=(10,5))\n",
    "sns.countplot(x='campaign', hue='y', data=df);"
   ]
  },
  {
   "cell_type": "markdown",
   "metadata": {
    "colab_type": "text",
    "id": "qrFrxtyQBnhY"
   },
   "source": [
    "The bar chart shows that campaign 1 and campaign 2 is highly performed but they are almost failed to subscribe the term deposits. "
   ]
  },
  {
   "cell_type": "code",
   "execution_count": 28,
   "metadata": {
    "colab": {
     "base_uri": "https://localhost:8080/",
     "height": 338
    },
    "colab_type": "code",
    "id": "JNYdfkUz5eZ5",
    "outputId": "c9c305df-8a40-4e16-e59a-1e5576b05623"
   },
   "outputs": [
    {
     "data": {
      "image/png": "[encoded data removed]",
      "text/plain": [
       "<Figure size 720x360 with 1 Axes>"
      ]
     },
     "metadata": {
      "image/png": {
       "height": 321,
       "width": 621
      }
     },
     "output_type": "display_data"
    }
   ],
   "source": [
    "plt.figure(figsize=(10,5))\n",
    "sns.countplot(x='marital', hue='y', data=df);"
   ]
  },
  {
   "cell_type": "markdown",
   "metadata": {
    "colab_type": "text",
    "id": "hv-xRQ_oFcV8"
   },
   "source": [
    "From the graph, it is clear that around 2300  married people do not believe to subscribe to the term deposit and around 250 married people believe to subscribe for term deposits. Very less number of people subscribed with term deposits."
   ]
  },
  {
   "cell_type": "code",
   "execution_count": 29,
   "metadata": {
    "colab": {
     "base_uri": "https://localhost:8080/",
     "height": 284
    },
    "colab_type": "code",
    "id": "tdtuoV9JCmPG",
    "outputId": "ef81ca0b-276c-4f46-ba97-55cbb79dfbcb"
   },
   "outputs": [
    {
     "data": {
      "image/png": "[encoded data removed]",
      "text/plain": [
       "<Figure size 432x288 with 1 Axes>"
      ]
     },
     "metadata": {
      "image/png": {
       "height": 266,
       "width": 398
      }
     },
     "output_type": "display_data"
    }
   ],
   "source": [
    "sns.boxplot(x='y', y='duration', data=df);"
   ]
  },
  {
   "cell_type": "markdown",
   "metadata": {
    "colab_type": "text",
    "id": "7EZZhvfFaCg9"
   },
   "source": [
    "Most of contact duration were made between 100 to 300 seconds for clients who have not subscribed the term deposite.The clients who have subscribed for term deoosite are contacted mostly between 230 to 630 seconds."
   ]
  },
  {
   "cell_type": "code",
   "execution_count": 30,
   "metadata": {
    "colab": {
     "base_uri": "https://localhost:8080/",
     "height": 338
    },
    "colab_type": "code",
    "id": "tP3Ufl0fe1tP",
    "outputId": "cd1aafce-ee00-4696-d75c-320bded96480"
   },
   "outputs": [
    {
     "data": {
      "image/png": "[encoded data removed]",
      "text/plain": [
       "<Figure size 720x360 with 1 Axes>"
      ]
     },
     "metadata": {
      "image/png": {
       "height": 321,
       "width": 621
      }
     },
     "output_type": "display_data"
    }
   ],
   "source": [
    "plt.figure(figsize=(10,5))\n",
    "sns.countplot(x='housing', hue='y', data=df);"
   ]
  },
  {
   "cell_type": "markdown",
   "metadata": {
    "colab_type": "text",
    "id": "ighwMMgEbG3_"
   },
   "source": [
    "Around 2100 clients have housing loans and they have subscribed for term deposits. 250 clients have subscribed for term deposits did not have housing loans."
   ]
  },
  {
   "cell_type": "code",
   "execution_count": 31,
   "metadata": {
    "colab": {
     "base_uri": "https://localhost:8080/",
     "height": 355
    },
    "colab_type": "code",
    "id": "8PJ7_qI41Av0",
    "outputId": "28ef3e53-e44f-4a4d-8047-7d9d37659b86"
   },
   "outputs": [
    {
     "data": {
      "text/plain": [
       "<Figure size 1440x360 with 0 Axes>"
      ]
     },
     "execution_count": 31,
     "metadata": {},
     "output_type": "execute_result"
    },
    {
     "data": {
      "text/plain": [
       "<matplotlib.axes._subplots.AxesSubplot at 0x7ff6613966d0>"
      ]
     },
     "execution_count": 31,
     "metadata": {},
     "output_type": "execute_result"
    },
    {
     "data": {
      "image/png": "[encoded data removed]",
      "text/plain": [
       "<Figure size 1440x360 with 1 Axes>"
      ]
     },
     "metadata": {
      "image/png": {
       "height": 321,
       "width": 1167
      }
     },
     "output_type": "display_data"
    }
   ],
   "source": [
    "plt.figure(figsize=(20,5))\n",
    "sns.barplot(x=\"job\", y=\"age\", hue=\"y\", data=df)"
   ]
  },
  {
   "cell_type": "markdown",
   "metadata": {
    "colab_type": "text",
    "id": "aJZANQnubyYy"
   },
   "source": [
    "From this bar-plot, it is clear that in both the cases of term deposits almost all the clients are aged between 40 to 50."
   ]
  },
  {
   "cell_type": "code",
   "execution_count": 32,
   "metadata": {
    "colab": {
     "base_uri": "https://localhost:8080/",
     "height": 291
    },
    "colab_type": "code",
    "id": "1tmGNuar2SyY",
    "outputId": "f26f7460-af36-43fb-f4b0-8a6a7974152a"
   },
   "outputs": [
    {
     "data": {
      "image/png": "[encoded data removed]",
      "text/plain": [
       "<Figure size 1612.8x288 with 7 Axes>"
      ]
     },
     "metadata": {
      "image/png": {
       "height": 278,
       "width": 1602
      }
     },
     "output_type": "display_data"
    }
   ],
   "source": [
    "sns.catplot(x='y', y='age', col='campaign',\n",
    "               data=df[df['campaign'] < 8], kind=\"box\",\n",
    "               col_wrap=7, height=4, aspect=.8);"
   ]
  },
  {
   "cell_type": "markdown",
   "metadata": {
    "colab_type": "text",
    "id": "63vPxlu_eroi"
   },
   "source": [
    "Upper box plots shows that all the campaigns performed for clients who have not subscribed for term deposits are ages between 30 to 50. But in case of subscription of term deposits there is much variation in ages."
   ]
  },
  {
   "cell_type": "code",
   "execution_count": 33,
   "metadata": {
    "colab": {
     "base_uri": "https://localhost:8080/",
     "height": 364
    },
    "colab_type": "code",
    "id": "68XU7jdo5Kzo",
    "outputId": "1a446ffa-fd30-460e-e958-a691a694e3ea"
   },
   "outputs": [
    {
     "data": {
      "image/png": "[encoded data removed]",
      "text/plain": [
       "<Figure size 416.6x360 with 1 Axes>"
      ]
     },
     "metadata": {
      "image/png": {
       "height": 349,
       "width": 406
      }
     },
     "output_type": "display_data"
    }
   ],
   "source": [
    "sns.relplot(x=\"campaign\", y=\"age\", hue=\"y\", style=\"y\",\n",
    "            kind=\"line\", data=df);"
   ]
  },
  {
   "cell_type": "markdown",
   "metadata": {
    "colab_type": "text",
    "id": "uJbjarl3s3TE"
   },
   "source": [
    "The line graphs for both cases of term deposits are almost similar up to campaign 8 and ages for them are also between 40 to 50. but for campaign 10 both lines are at peak in ages like for subscription of term deposits client is of age 57 and no subscription of term deposits client is of age 47."
   ]
  },
  {
   "cell_type": "markdown",
   "metadata": {
    "colab_type": "text",
    "id": "h68qK9bRG1PH"
   },
   "source": [
    "# Predictive Modelling"
   ]
  },
  {
   "cell_type": "markdown",
   "metadata": {
    "colab_type": "text",
    "id": "ar9kYp4dhHWl"
   },
   "source": [
    "## Methodology"
   ]
  },
  {
   "cell_type": "markdown",
   "metadata": {
    "colab_type": "text",
    "id": "RtoqoGtKhLhh"
   },
   "source": [
    "We consider the following (binary) classifiers to predict the target feature:\n",
    "\n",
    "1.   K-Nearest Neighbors (KNN)\n",
    "2.   Decision trees (DT)\n",
    "3.   Naive Bayes (NB)\n",
    "4.   Support Vector Classification (SVC)\n",
    "\n",
    "First we have cleaned the dataset. This transformation includes encoding categorical descriptive features as numerical and then scaling of the descriptive features. After that, We split into training and test sets with a ***70:30 ratio***. This way, our training data has **2767 rows** and test data has **1187 rows**. To be clear, our terminology here is that\n",
    "\n",
    "> **The 2767 rows of data used during the hyperparameter tuning phase is called the training data.\n",
    "> The 1187 rows of data used during the performance comparison phase is called the test data.**\n",
    "\n",
    "Before fitting a particular classifier on the training data, we select the best features using the powerful Random Forest Importance method inside a pipeline. We consider **10, 20, and the full set of features (with 48 features)** after encoding of categorical features. Using feature selection together with hyperparameter search inside a single pipeline, we conduct a **5-fold stratified cross-validation** to fine-tune hyperparameters of each classifier using **area under curve (AUC)** as the performance metric. We build each model using parallel processing with **\"-2\" cores**. **We also examine sensitivity of each model with respect to its hyperparameters during the search.**\n",
    "\n",
    "Classifiers with the best set of hyperparameter values as identified via grid search using the training data are called tuned classifiers. Once we identify the three tuned classifiers (with the best hyperparameter values), we **\"fit\" them on the test data using 10-fold cross-validation in a paired fashion and we perform paired t-tests** to see if any performance difference is statistically significant. In addition, **we compare the classifiers with respect to their recall scores and confusion matrices on the test data**."
   ]
  },
  {
   "cell_type": "markdown",
   "metadata": {
    "colab_type": "text",
    "id": "-_uvdanMGgDk"
   },
   "source": [
    "## Train-Test Splitting"
   ]
  },
  {
   "cell_type": "markdown",
   "metadata": {
    "colab_type": "text",
    "id": "ONQ8T-5Li9SW"
   },
   "source": [
    "So, we will train and tune our models on 70% rows of training data and we will test them on 30% rows of test data.\n"
   ]
  },
  {
   "cell_type": "code",
   "execution_count": 34,
   "metadata": {
    "colab": {
     "base_uri": "https://localhost:8080/",
     "height": 51
    },
    "colab_type": "code",
    "id": "jWGf_GjVn4x7",
    "outputId": "68ba32ca-5ec7-4cab-cd3c-87ea7daa2e5d"
   },
   "outputs": [
    {
     "name": "stdout",
     "output_type": "stream",
     "text": [
      "(2767, 48)\n",
      "(1187, 48)\n"
     ]
    }
   ],
   "source": [
    "# we will Split this dataset into train and test partitions with a 70:30 ratio using stratification.\n",
    "\n",
    "# Renaming datasets\n",
    "Data_sample = Data\n",
    "target_sample = target\n",
    "\n",
    "Data_sample_train, Data_sample_test, \\\n",
    "target_sample_train, target_sample_test = train_test_split(Data_sample, target_sample, \n",
    "                                                    test_size = 0.3, random_state=999,\n",
    "                                                    stratify = target_sample)\n",
    "\n",
    "print(Data_sample_train.shape)\n",
    "print(Data_sample_test.shape)"
   ]
  },
  {
   "cell_type": "markdown",
   "metadata": {
    "colab_type": "text",
    "id": "GIRg3voCR4HK"
   },
   "source": [
    "## Model Evaluation Strategy"
   ]
  },
  {
   "cell_type": "markdown",
   "metadata": {
    "colab_type": "text",
    "id": "OnQjJjQISD6b"
   },
   "source": [
    "For each model, we will use 5-fold stratified cross-validation evaluation method (without any repetitions for shorter run times) for hyperparameter tuning."
   ]
  },
  {
   "cell_type": "code",
   "execution_count": 35,
   "metadata": {
    "colab": {
     "base_uri": "https://localhost:8080/",
     "height": 71
    },
    "colab_type": "code",
    "id": "NSMM9IoaoqGO",
    "outputId": "b743499e-1306-4332-ccd6-834422f3bd56"
   },
   "outputs": [],
   "source": [
    "cv_method = StratifiedKFold(n_splits=5, random_state=999)"
   ]
  },
  {
   "cell_type": "markdown",
   "metadata": {
    "colab_type": "text",
    "id": "4NyVxC3rSyDU"
   },
   "source": [
    "## Hyperparameter Tuning \n"
   ]
  },
  {
   "cell_type": "markdown",
   "metadata": {
    "colab_type": "text",
    "id": "xRjUkG-BkJJx"
   },
   "source": [
    "Hyper-parameters are parameters that are not directly learnt within estimators. In sci-kit-learn, they are passed as arguments to the constructor of the estimator classes. \n",
    "\n",
    "It is possible and recommended to search the hyper-parameter space for the best cross-validation score. so we will use the Random Forest Importance Feature Selector for that purpose.\n",
    "\n",
    "Any parameter provided when constructing an estimator may be optimized in this manner."
   ]
  },
  {
   "cell_type": "markdown",
   "metadata": {
    "colab_type": "text",
    "id": "pYu-ie7uhrT1"
   },
   "source": [
    "### Random Forest Importance Feature Selector"
   ]
  },
  {
   "cell_type": "markdown",
   "metadata": {
    "colab_type": "text",
    "id": "fgWA6cyajKX6"
   },
   "source": [
    "For feature selection, we use the powerful Random Forest Importance (RFI) method with 100 estimators. We have made RFI feature selection as part of the pipeline. For this reason, we define the custom RFIFeatureSelector() class below to pass in RFI as a \"step\" to the pipeline."
   ]
  },
  {
   "cell_type": "code",
   "execution_count": 36,
   "metadata": {
    "colab": {},
    "colab_type": "code",
    "id": "_mfP2JI9hm2G"
   },
   "outputs": [],
   "source": [
    "# custom function for RFI feature selection inside a pipeline\n",
    "# here we use n_estimators=100\n",
    "class RFIFeatureSelector(BaseEstimator, TransformerMixin):\n",
    "    \n",
    "    # class constructor \n",
    "    # make sure class attributes end with a \"_\"\n",
    "    # per scikit-learn convention to avoid errors\n",
    "    def __init__(self, n_features_=10):\n",
    "        self.n_features_ = n_features_\n",
    "        self.fs_indices_ = None\n",
    "\n",
    "    # override the fit function\n",
    "    def fit(self, X, y):\n",
    "        from sklearn.ensemble import RandomForestClassifier\n",
    "        from numpy import argsort\n",
    "        model_rfi = RandomForestClassifier(n_estimators=100)\n",
    "        model_rfi.fit(X, y)\n",
    "        self.fs_indices_ = argsort(model_rfi.feature_importances_)[::-1][0:self.n_features_] \n",
    "        return self \n",
    "    \n",
    "    # override the transform function\n",
    "    def transform(self, X, y=None):\n",
    "        return X[:, self.fs_indices_]"
   ]
  },
  {
   "cell_type": "markdown",
   "metadata": {
    "colab_type": "text",
    "id": "6q-efmYijatA"
   },
   "source": [
    "### Search Result function"
   ]
  },
  {
   "cell_type": "markdown",
   "metadata": {
    "colab_type": "text",
    "id": "rTnNr82qjrUF"
   },
   "source": [
    "This function will return pandas Dataframe of search outputs."
   ]
  },
  {
   "cell_type": "code",
   "execution_count": 37,
   "metadata": {
    "colab": {},
    "colab_type": "code",
    "id": "N_zgwLjKpTXD"
   },
   "outputs": [],
   "source": [
    "# custom function to format the search results as a Pandas data frame\n",
    "def get_search_results(gs):\n",
    "\n",
    "    def model_result(scores, params):\n",
    "        scores = {'mean_score': np.mean(scores),\n",
    "             'std_score': np.std(scores),\n",
    "             'min_score': np.min(scores),\n",
    "             'max_score': np.max(scores)}\n",
    "        return pd.Series({**params,**scores})\n",
    "\n",
    "    models = []\n",
    "    scores = []\n",
    "\n",
    "    for i in range(gs.n_splits_):\n",
    "        key = f\"split{i}_test_score\"\n",
    "        r = gs.cv_results_[key]        \n",
    "        scores.append(r.reshape(-1,1))\n",
    "\n",
    "    all_scores = np.hstack(scores)\n",
    "    for p, s in zip(gs.cv_results_['params'], all_scores):\n",
    "        models.append((model_result(s, p)))\n",
    "\n",
    "    pipe_results = pd.concat(models, axis=1).T.sort_values(['mean_score'], ascending=False)\n",
    "\n",
    "    columns_first = ['mean_score', 'std_score', 'max_score', 'min_score']\n",
    "    columns = columns_first + [c for c in pipe_results.columns if c not in columns_first]\n",
    "\n",
    "    return pipe_results[columns]"
   ]
  },
  {
   "cell_type": "markdown",
   "metadata": {
    "colab_type": "text",
    "id": "bUOt3F4jS9ko"
   },
   "source": [
    "### K-Nearest Neighbors (KNN)"
   ]
  },
  {
   "cell_type": "markdown",
   "metadata": {
    "colab_type": "text",
    "id": "hj1ESxjnpbA6"
   },
   "source": [
    "Neighbors-based classification is a type of instance-based learning or non-generalizing learning: it does not attempt to construct a general internal model, but simply stores instances of the training data. Classification is computed from a simple majority vote of the nearest neighbors of each point: a query point is assigned the data class which has the most representatives within the nearest neighbors of the point.\n",
    "\n",
    "KNeighborsClassifier implements learning based on the  nearest neighbors of each query point, where  is an integer value specified by the user.\n",
    "\n",
    "The -neighbors classification in KNeighborsClassifier is the most commonly used technique. The optimal choice of the value  is highly data-dependent: in general a larger  suppresses the effects of noise, but makes the classification boundaries less distinct.\n",
    "\n",
    "Here, using Pipeline, we stack feature selection and grid search for KNN hyperparameter tuning via cross-validation. We will use the same Pipeline methodology for NB and DT.\n",
    "\n",
    "The KNN hyperparameters are as follows:\n",
    "\n",
    "1.   number of neighbors (n_neighbors) and\n",
    "2.   the distance metric p."
   ]
  },
  {
   "cell_type": "code",
   "execution_count": 38,
   "metadata": {
    "colab": {
     "base_uri": "https://localhost:8080/",
     "height": 68
    },
    "colab_type": "code",
    "id": "DZONg7rOpFZb",
    "outputId": "f23a3a98-7607-45b8-9327-71c2d73a525e"
   },
   "outputs": [
    {
     "name": "stdout",
     "output_type": "stream",
     "text": [
      "Fitting 5 folds for each of 30 candidates, totalling 150 fits\n"
     ]
    },
    {
     "name": "stderr",
     "output_type": "stream",
     "text": [
      "[Parallel(n_jobs=-2)]: Using backend LokyBackend with 7 concurrent workers.\n",
      "[Parallel(n_jobs=-2)]: Done  36 tasks      | elapsed:    4.6s\n",
      "[Parallel(n_jobs=-2)]: Done 150 out of 150 | elapsed:   19.6s finished\n"
     ]
    }
   ],
   "source": [
    "pipe_KNN = Pipeline(steps=[('rfi_fs', RFIFeatureSelector()), \n",
    "                           ('knn', KNeighborsClassifier())])\n",
    "\n",
    "params_pipe_KNN = {'rfi_fs__n_features_': [10, 20, Data.shape[1]],\n",
    "                   'knn__n_neighbors': [1, 5, 10, 15, 20],\n",
    "                   'knn__p': [1, 2]}\n",
    "\n",
    "gs_pipe_KNN = GridSearchCV(estimator=pipe_KNN, \n",
    "                           param_grid=params_pipe_KNN, \n",
    "                           cv=cv_method,\n",
    "                           refit=True,\n",
    "                           n_jobs=-2,\n",
    "                           scoring='roc_auc',\n",
    "                           verbose=1) \n",
    "gs_pipe_KNN.fit(Data_sample_train, target_sample_train);"
   ]
  },
  {
   "cell_type": "code",
   "execution_count": 39,
   "metadata": {
    "colab": {
     "base_uri": "https://localhost:8080/",
     "height": 34
    },
    "colab_type": "code",
    "id": "WuZjhpDEpMdf",
    "outputId": "ae8a9d0b-82d4-4936-8810-cca593412f00"
   },
   "outputs": [
    {
     "data": {
      "text/plain": [
       "{'knn__n_neighbors': 20, 'knn__p': 2, 'rfi_fs__n_features_': 10}"
      ]
     },
     "execution_count": 39,
     "metadata": {},
     "output_type": "execute_result"
    }
   ],
   "source": [
    "gs_pipe_KNN.best_params_"
   ]
  },
  {
   "cell_type": "code",
   "execution_count": 40,
   "metadata": {
    "colab": {
     "base_uri": "https://localhost:8080/",
     "height": 34
    },
    "colab_type": "code",
    "id": "g0N78GqopPZl",
    "outputId": "66787b0a-b75c-4b4f-ee3a-312822340d1a"
   },
   "outputs": [
    {
     "data": {
      "text/plain": [
       "0.7989150106630851"
      ]
     },
     "execution_count": 40,
     "metadata": {},
     "output_type": "execute_result"
    }
   ],
   "source": [
    "gs_pipe_KNN.best_score_"
   ]
  },
  {
   "cell_type": "markdown",
   "metadata": {
    "colab_type": "text",
    "id": "noYGCqE8iiW7"
   },
   "source": [
    "We observe that the optimal KNN model has a mean AUC score of 0.813. The best performing KNN selected 10 features with 20 nearest neighbors and  𝑝=1 , which is the Manhattan distance."
   ]
  },
  {
   "cell_type": "code",
   "execution_count": 41,
   "metadata": {
    "colab": {
     "base_uri": "https://localhost:8080/",
     "height": 204
    },
    "colab_type": "code",
    "id": "jxPiuo8spkpB",
    "outputId": "373883f5-0bd2-4a68-861a-433a9afa910a"
   },
   "outputs": [
    {
     "data": {
      "text/html": [
       "<div>\n",
       "<style scoped>\n",
       "    .dataframe tbody tr th:only-of-type {\n",
       "        vertical-align: middle;\n",
       "    }\n",
       "\n",
       "    .dataframe tbody tr th {\n",
       "        vertical-align: top;\n",
       "    }\n",
       "\n",
       "    .dataframe thead th {\n",
       "        text-align: right;\n",
       "    }\n",
       "</style>\n",
       "<table border=\"1\" class=\"dataframe\">\n",
       "  <thead>\n",
       "    <tr style=\"text-align: right;\">\n",
       "      <th></th>\n",
       "      <th>mean_score</th>\n",
       "      <th>std_score</th>\n",
       "      <th>max_score</th>\n",
       "      <th>min_score</th>\n",
       "      <th>knn__n_neighbors</th>\n",
       "      <th>knn__p</th>\n",
       "      <th>rfi_fs__n_features_</th>\n",
       "    </tr>\n",
       "  </thead>\n",
       "  <tbody>\n",
       "    <tr>\n",
       "      <th>27</th>\n",
       "      <td>0.798915</td>\n",
       "      <td>0.055689</td>\n",
       "      <td>0.870395</td>\n",
       "      <td>0.704399</td>\n",
       "      <td>20.0</td>\n",
       "      <td>2.0</td>\n",
       "      <td>10.0</td>\n",
       "    </tr>\n",
       "    <tr>\n",
       "      <th>24</th>\n",
       "      <td>0.798487</td>\n",
       "      <td>0.048065</td>\n",
       "      <td>0.858499</td>\n",
       "      <td>0.715845</td>\n",
       "      <td>20.0</td>\n",
       "      <td>1.0</td>\n",
       "      <td>10.0</td>\n",
       "    </tr>\n",
       "    <tr>\n",
       "      <th>21</th>\n",
       "      <td>0.797960</td>\n",
       "      <td>0.043572</td>\n",
       "      <td>0.856039</td>\n",
       "      <td>0.724480</td>\n",
       "      <td>15.0</td>\n",
       "      <td>2.0</td>\n",
       "      <td>10.0</td>\n",
       "    </tr>\n",
       "    <tr>\n",
       "      <th>18</th>\n",
       "      <td>0.796253</td>\n",
       "      <td>0.049575</td>\n",
       "      <td>0.854473</td>\n",
       "      <td>0.707503</td>\n",
       "      <td>15.0</td>\n",
       "      <td>1.0</td>\n",
       "      <td>10.0</td>\n",
       "    </tr>\n",
       "    <tr>\n",
       "      <th>15</th>\n",
       "      <td>0.788124</td>\n",
       "      <td>0.049093</td>\n",
       "      <td>0.833522</td>\n",
       "      <td>0.694195</td>\n",
       "      <td>10.0</td>\n",
       "      <td>2.0</td>\n",
       "      <td>10.0</td>\n",
       "    </tr>\n",
       "  </tbody>\n",
       "</table>\n",
       "</div>"
      ],
      "text/plain": [
       "    mean_score  std_score  max_score  min_score  knn__n_neighbors  knn__p  \\\n",
       "27    0.798915   0.055689   0.870395   0.704399              20.0     2.0   \n",
       "24    0.798487   0.048065   0.858499   0.715845              20.0     1.0   \n",
       "21    0.797960   0.043572   0.856039   0.724480              15.0     2.0   \n",
       "18    0.796253   0.049575   0.854473   0.707503              15.0     1.0   \n",
       "15    0.788124   0.049093   0.833522   0.694195              10.0     2.0   \n",
       "\n",
       "    rfi_fs__n_features_  \n",
       "27                 10.0  \n",
       "24                 10.0  \n",
       "21                 10.0  \n",
       "18                 10.0  \n",
       "15                 10.0  "
      ]
     },
     "execution_count": 41,
     "metadata": {},
     "output_type": "execute_result"
    }
   ],
   "source": [
    "results_KNN = get_search_results(gs_pipe_KNN)\n",
    "results_KNN.head()"
   ]
  },
  {
   "cell_type": "code",
   "execution_count": 42,
   "metadata": {
    "colab": {
     "base_uri": "https://localhost:8080/",
     "height": 380
    },
    "colab_type": "code",
    "id": "mYSweG_MploR",
    "outputId": "01d7927b-8d10-48ab-dcdb-d5c1b57c9070"
   },
   "outputs": [
    {
     "data": {
      "text/html": [
       "\n",
       "<div id=\"altair-viz-f75cdd646a60479e81dd6344d565fe19\"></div>\n",
       "<script type=\"text/javascript\">\n",
       "  (function(spec, embedOpt){\n",
       "    let outputDiv = document.currentScript.previousElementSibling;\n",
       "    if (outputDiv.id !== \"altair-viz-f75cdd646a60479e81dd6344d565fe19\") {\n",
       "      outputDiv = document.getElementById(\"altair-viz-f75cdd646a60479e81dd6344d565fe19\");\n",
       "    }\n",
       "    const paths = {\n",
       "      \"vega\": \"https://cdn.jsdelivr.net/npm//vega@5?noext\",\n",
       "      \"vega-lib\": \"https://cdn.jsdelivr.net/npm//vega-lib?noext\",\n",
       "      \"vega-lite\": \"https://cdn.jsdelivr.net/npm//vega-lite@4.8.1?noext\",\n",
       "      \"vega-embed\": \"https://cdn.jsdelivr.net/npm//vega-embed@6?noext\",\n",
       "    };\n",
       "\n",
       "    function loadScript(lib) {\n",
       "      return new Promise(function(resolve, reject) {\n",
       "        var s = document.createElement('script');\n",
       "        s.src = paths[lib];\n",
       "        s.async = true;\n",
       "        s.onload = () => resolve(paths[lib]);\n",
       "        s.onerror = () => reject(`Error loading script: ${paths[lib]}`);\n",
       "        document.getElementsByTagName(\"head\")[0].appendChild(s);\n",
       "      });\n",
       "    }\n",
       "\n",
       "    function showError(err) {\n",
       "      outputDiv.innerHTML = `<div class=\"error\" style=\"color:red;\">${err}</div>`;\n",
       "      throw err;\n",
       "    }\n",
       "\n",
       "    function displayChart(vegaEmbed) {\n",
       "      vegaEmbed(outputDiv, spec, embedOpt)\n",
       "        .catch(err => showError(`Javascript Error: ${err.message}<br>This usually means there's a typo in your chart specification. See the javascript console for the full traceback.`));\n",
       "    }\n",
       "\n",
       "    if(typeof define === \"function\" && define.amd) {\n",
       "      requirejs.config({paths});\n",
       "      require([\"vega-embed\"], displayChart, err => showError(`Error loading script: ${err.message}`));\n",
       "    } else if (typeof vegaEmbed === \"function\") {\n",
       "      displayChart(vegaEmbed);\n",
       "    } else {\n",
       "      loadScript(\"vega\")\n",
       "        .then(() => loadScript(\"vega-lite\"))\n",
       "        .then(() => loadScript(\"vega-embed\"))\n",
       "        .catch(showError)\n",
       "        .then(() => displayChart(vegaEmbed));\n",
       "    }\n",
       "  })({\"config\": {\"view\": {\"continuousWidth\": 400, \"continuousHeight\": 300}}, \"data\": {\"name\": \"data-cf317ddd6722e4ca4e3cc77c2b47a602\"}, \"mark\": {\"type\": \"line\", \"point\": true}, \"encoding\": {\"color\": {\"type\": \"nominal\", \"field\": \"knn__p\", \"title\": \"p\"}, \"x\": {\"type\": \"quantitative\", \"field\": \"knn__n_neighbors\", \"title\": \"Number of Neighbors\"}, \"y\": {\"type\": \"quantitative\", \"field\": \"mean_score\", \"scale\": {\"zero\": false}, \"title\": \"AUC Score\"}}, \"title\": \"KNN Performance Comparison with 10 Features\", \"$schema\": \"https://vega.github.io/schema/vega-lite/v4.8.1.json\", \"datasets\": {\"data-cf317ddd6722e4ca4e3cc77c2b47a602\": [{\"mean_score\": 0.7989150106630851, \"std_score\": 0.055688923477414096, \"max_score\": 0.870395336126799, \"min_score\": 0.704399415845199, \"knn__n_neighbors\": 20.0, \"knn__p\": 2.0, \"rfi_fs__n_features_\": 10.0}, {\"mean_score\": 0.7984870158149248, \"std_score\": 0.048064746834434804, \"max_score\": 0.8584988158134451, \"min_score\": 0.715845198977729, \"knn__n_neighbors\": 20.0, \"knn__p\": 1.0, \"rfi_fs__n_features_\": 10.0}, {\"mean_score\": 0.79796046029018, \"std_score\": 0.04357244169525789, \"max_score\": 0.856039351430133, \"min_score\": 0.7244797371303395, \"knn__n_neighbors\": 15.0, \"knn__p\": 2.0, \"rfi_fs__n_features_\": 10.0}, {\"mean_score\": 0.7962525432187648, \"std_score\": 0.04957474521853654, \"max_score\": 0.8544725815266898, \"min_score\": 0.7075027382256297, \"knn__n_neighbors\": 15.0, \"knn__p\": 1.0, \"rfi_fs__n_features_\": 10.0}, {\"mean_score\": 0.788124094523882, \"std_score\": 0.04909331433583174, \"max_score\": 0.8335215886318089, \"min_score\": 0.6941949616648411, \"knn__n_neighbors\": 10.0, \"knn__p\": 2.0, \"rfi_fs__n_features_\": 10.0}, {\"mean_score\": 0.7741981890843469, \"std_score\": 0.040106009548732724, \"max_score\": 0.8292220805246857, \"min_score\": 0.7054581964220519, \"knn__n_neighbors\": 10.0, \"knn__p\": 1.0, \"rfi_fs__n_features_\": 10.0}, {\"mean_score\": 0.7424982031728053, \"std_score\": 0.03623330285554543, \"max_score\": 0.7796684277646201, \"min_score\": 0.6749361080686381, \"knn__n_neighbors\": 5.0, \"knn__p\": 2.0, \"rfi_fs__n_features_\": 10.0}, {\"mean_score\": 0.7391635203391246, \"std_score\": 0.06538057375535128, \"max_score\": 0.7887229003461469, \"min_score\": 0.6097845929171231, \"knn__n_neighbors\": 5.0, \"knn__p\": 1.0, \"rfi_fs__n_features_\": 10.0}, {\"mean_score\": 0.6105785104751712, \"std_score\": 0.033224091749677914, \"max_score\": 0.66585899070869, \"min_score\": 0.5619021540708288, \"knn__n_neighbors\": 1.0, \"knn__p\": 2.0, \"rfi_fs__n_features_\": 10.0}, {\"mean_score\": 0.5886089675598815, \"std_score\": 0.02868203777646935, \"max_score\": 0.6164693022408453, \"min_score\": 0.5406535231836437, \"knn__n_neighbors\": 1.0, \"knn__p\": 1.0, \"rfi_fs__n_features_\": 10.0}]}}, {\"mode\": \"vega-lite\"});\n",
       "</script>"
      ],
      "text/plain": [
       "alt.Chart(...)"
      ]
     },
     "execution_count": 42,
     "metadata": {},
     "output_type": "execute_result"
    }
   ],
   "source": [
    "#visualize the results of the grid search corresponding to 10 selected features.\n",
    "\n",
    "results_KNN_10_features = results_KNN[results_KNN['rfi_fs__n_features_'] == 10.0]\n",
    "\n",
    "alt.Chart(results_KNN_10_features, \n",
    "          title='KNN Performance Comparison with 10 Features'\n",
    "         ).mark_line(point=True).encode(\n",
    "    alt.X('knn__n_neighbors', title='Number of Neighbors'),\n",
    "    alt.Y('mean_score', title='AUC Score', scale=alt.Scale(zero=False)),\n",
    "    alt.Color('knn__p:N', title='p')\n",
    ")"
   ]
  },
  {
   "cell_type": "markdown",
   "metadata": {
    "colab_type": "text",
    "id": "DXkfomMZTDpm"
   },
   "source": [
    "### Decision Trees (DT)\n",
    "\n"
   ]
  },
  {
   "cell_type": "markdown",
   "metadata": {
    "colab_type": "text",
    "id": "dvAfLTq2qd3h"
   },
   "source": [
    "Decision Trees (DTs) are a non-parametric supervised learningDecisionTreeClassifier is a class capable of performing multi-class classification on a dataset.\n",
    "\n",
    "As with other classifiers, DecisionTreeClassifier takes as input two arrays: an array X, sparse or dense, of size [n_samples, n_features] holding the training samples, and an array Y of integer values, size [n_samples], holding the class labels for the training samples: method used for classification and regression. The goal is to create a model that predicts the value of a target variable by learning simple decision rules inferred from the data features.\n",
    "\n",
    "Here, we build a DT using gini index to maximize information gain. We aim to determine the optimal combinations of maximum depth (max_depth) and minimum sample split (min_samples_split).\n"
   ]
  },
  {
   "cell_type": "code",
   "execution_count": 43,
   "metadata": {
    "colab": {
     "base_uri": "https://localhost:8080/",
     "height": 68
    },
    "colab_type": "code",
    "id": "Q_DzAiuGqTVg",
    "outputId": "056cfca3-f38b-44d2-acdf-ea6df24fd141"
   },
   "outputs": [
    {
     "name": "stdout",
     "output_type": "stream",
     "text": [
      "Fitting 5 folds for each of 18 candidates, totalling 90 fits\n"
     ]
    },
    {
     "name": "stderr",
     "output_type": "stream",
     "text": [
      "[Parallel(n_jobs=-2)]: Using backend LokyBackend with 7 concurrent workers.\n",
      "[Parallel(n_jobs=-2)]: Done  36 tasks      | elapsed:    4.8s\n",
      "[Parallel(n_jobs=-2)]: Done  90 out of  90 | elapsed:   10.4s finished\n"
     ]
    }
   ],
   "source": [
    "pipe_DT = Pipeline([('rfi_fs', RFIFeatureSelector()),\n",
    "                    ('dt', DecisionTreeClassifier(criterion='gini', random_state=111))])\n",
    "\n",
    "params_pipe_DT = {'rfi_fs__n_features_': [10, 20, Data.shape[1]],\n",
    "                  'dt__max_depth': [3, 4, 5],\n",
    "                  'dt__min_samples_split': [2, 5]}\n",
    "\n",
    "gs_pipe_DT = GridSearchCV(estimator=pipe_DT, \n",
    "                          param_grid=params_pipe_DT, \n",
    "                          cv=cv_method,\n",
    "                          refit=True,\n",
    "                          n_jobs=-2,\n",
    "                          scoring='roc_auc',\n",
    "                          verbose=1) \n",
    "\n",
    "gs_pipe_DT.fit(Data_sample_train, target_sample_train);"
   ]
  },
  {
   "cell_type": "code",
   "execution_count": 44,
   "metadata": {
    "colab": {
     "base_uri": "https://localhost:8080/",
     "height": 34
    },
    "colab_type": "code",
    "id": "3pf2yrtxqcna",
    "outputId": "7d2902ad-b3cd-4c70-8b08-61d337e8521c"
   },
   "outputs": [
    {
     "data": {
      "text/plain": [
       "{'dt__max_depth': 4, 'dt__min_samples_split': 5, 'rfi_fs__n_features_': 10}"
      ]
     },
     "execution_count": 44,
     "metadata": {},
     "output_type": "execute_result"
    }
   ],
   "source": [
    "gs_pipe_DT.best_params_"
   ]
  },
  {
   "cell_type": "code",
   "execution_count": 45,
   "metadata": {
    "colab": {
     "base_uri": "https://localhost:8080/",
     "height": 34
    },
    "colab_type": "code",
    "id": "6m10rA_QqfzE",
    "outputId": "2d316d7d-e104-43a8-a1b1-afc93e888b4c"
   },
   "outputs": [
    {
     "data": {
      "text/plain": [
       "0.770907767423208"
      ]
     },
     "execution_count": 45,
     "metadata": {},
     "output_type": "execute_result"
    }
   ],
   "source": [
    "gs_pipe_DT.best_score_"
   ]
  },
  {
   "cell_type": "markdown",
   "metadata": {
    "colab_type": "text",
    "id": "4pc70w7WrrUB"
   },
   "source": [
    "Here, we observe that the optimal DT model has a mean AUC score of 0.778. The best performing DT selected 48 features with samples splits 5 and  max depth of 4."
   ]
  },
  {
   "cell_type": "code",
   "execution_count": 46,
   "metadata": {
    "colab": {
     "base_uri": "https://localhost:8080/",
     "height": 385
    },
    "colab_type": "code",
    "id": "79-Yg55EqhCX",
    "outputId": "e7c02fb8-96cd-4f2f-9ab3-0d668c34dc49"
   },
   "outputs": [
    {
     "data": {
      "text/html": [
       "\n",
       "<div id=\"altair-viz-604e25e4d80c48ca82141b038d251c39\"></div>\n",
       "<script type=\"text/javascript\">\n",
       "  (function(spec, embedOpt){\n",
       "    let outputDiv = document.currentScript.previousElementSibling;\n",
       "    if (outputDiv.id !== \"altair-viz-604e25e4d80c48ca82141b038d251c39\") {\n",
       "      outputDiv = document.getElementById(\"altair-viz-604e25e4d80c48ca82141b038d251c39\");\n",
       "    }\n",
       "    const paths = {\n",
       "      \"vega\": \"https://cdn.jsdelivr.net/npm//vega@5?noext\",\n",
       "      \"vega-lib\": \"https://cdn.jsdelivr.net/npm//vega-lib?noext\",\n",
       "      \"vega-lite\": \"https://cdn.jsdelivr.net/npm//vega-lite@4.8.1?noext\",\n",
       "      \"vega-embed\": \"https://cdn.jsdelivr.net/npm//vega-embed@6?noext\",\n",
       "    };\n",
       "\n",
       "    function loadScript(lib) {\n",
       "      return new Promise(function(resolve, reject) {\n",
       "        var s = document.createElement('script');\n",
       "        s.src = paths[lib];\n",
       "        s.async = true;\n",
       "        s.onload = () => resolve(paths[lib]);\n",
       "        s.onerror = () => reject(`Error loading script: ${paths[lib]}`);\n",
       "        document.getElementsByTagName(\"head\")[0].appendChild(s);\n",
       "      });\n",
       "    }\n",
       "\n",
       "    function showError(err) {\n",
       "      outputDiv.innerHTML = `<div class=\"error\" style=\"color:red;\">${err}</div>`;\n",
       "      throw err;\n",
       "    }\n",
       "\n",
       "    function displayChart(vegaEmbed) {\n",
       "      vegaEmbed(outputDiv, spec, embedOpt)\n",
       "        .catch(err => showError(`Javascript Error: ${err.message}<br>This usually means there's a typo in your chart specification. See the javascript console for the full traceback.`));\n",
       "    }\n",
       "\n",
       "    if(typeof define === \"function\" && define.amd) {\n",
       "      requirejs.config({paths});\n",
       "      require([\"vega-embed\"], displayChart, err => showError(`Error loading script: ${err.message}`));\n",
       "    } else if (typeof vegaEmbed === \"function\") {\n",
       "      displayChart(vegaEmbed);\n",
       "    } else {\n",
       "      loadScript(\"vega\")\n",
       "        .then(() => loadScript(\"vega-lite\"))\n",
       "        .then(() => loadScript(\"vega-embed\"))\n",
       "        .catch(showError)\n",
       "        .then(() => displayChart(vegaEmbed));\n",
       "    }\n",
       "  })({\"config\": {\"view\": {\"continuousWidth\": 400, \"continuousHeight\": 300}}, \"data\": {\"name\": \"data-924570dd76938d2045dfff3bc0d7764b\"}, \"mark\": {\"type\": \"line\", \"point\": true}, \"encoding\": {\"color\": {\"type\": \"nominal\", \"field\": \"dt__max_depth\", \"title\": \"Max Depth\"}, \"x\": {\"type\": \"quantitative\", \"field\": \"dt__min_samples_split\", \"title\": \"Min Samples for Split\"}, \"y\": {\"type\": \"quantitative\", \"field\": \"mean_score\", \"scale\": {\"zero\": false}, \"title\": \"AUC Score\"}}, \"title\": \"DT Performance Comparison with 10 Features\", \"$schema\": \"https://vega.github.io/schema/vega-lite/v4.8.1.json\", \"datasets\": {\"data-924570dd76938d2045dfff3bc0d7764b\": [{\"mean_score\": 0.770907767423208, \"std_score\": 0.057729509846735944, \"max_score\": 0.8423574421570413, \"min_score\": 0.7019167579408543, \"dt__max_depth\": 4.0, \"dt__min_samples_split\": 5.0, \"rfi_fs__n_features_\": 10.0}, {\"mean_score\": 0.767473590644028, \"std_score\": 0.06214579792178986, \"max_score\": 0.8423574421570413, \"min_score\": 0.6843190945600583, \"dt__max_depth\": 4.0, \"dt__min_samples_split\": 2.0, \"rfi_fs__n_features_\": 10.0}, {\"mean_score\": 0.7644889820206717, \"std_score\": 0.039271825753223244, \"max_score\": 0.8054290398979776, \"min_score\": 0.6912559328221978, \"dt__max_depth\": 3.0, \"dt__min_samples_split\": 5.0, \"rfi_fs__n_features_\": 10.0}, {\"mean_score\": 0.7644630041389825, \"std_score\": 0.039272582339276524, \"max_score\": 0.8054290398979776, \"min_score\": 0.6912559328221978, \"dt__max_depth\": 3.0, \"dt__min_samples_split\": 2.0, \"rfi_fs__n_features_\": 10.0}, {\"mean_score\": 0.7419395205973182, \"std_score\": 0.059138663243378194, \"max_score\": 0.8407906722535979, \"min_score\": 0.6564439576487769, \"dt__max_depth\": 5.0, \"dt__min_samples_split\": 5.0, \"rfi_fs__n_features_\": 10.0}, {\"mean_score\": 0.7271847260298862, \"std_score\": 0.07226759654954862, \"max_score\": 0.8404991801785389, \"min_score\": 0.6430631617378606, \"dt__max_depth\": 5.0, \"dt__min_samples_split\": 2.0, \"rfi_fs__n_features_\": 10.0}]}}, {\"mode\": \"vega-lite\"});\n",
       "</script>"
      ],
      "text/plain": [
       "alt.Chart(...)"
      ]
     },
     "execution_count": 46,
     "metadata": {},
     "output_type": "execute_result"
    }
   ],
   "source": [
    "#visualize the results of the grid search corresponding to 10 selected features.\n",
    "\n",
    "results_DT = get_search_results(gs_pipe_DT)\n",
    "\n",
    "results_DT_10_features = results_DT[results_DT['rfi_fs__n_features_'] == 10.0]\n",
    "\n",
    "alt.Chart(results_DT_10_features, \n",
    "          title='DT Performance Comparison with 10 Features'\n",
    "         ).mark_line(point=True).encode(\n",
    "    alt.X('dt__min_samples_split', title='Min Samples for Split'),\n",
    "    alt.Y('mean_score', title='AUC Score', scale=alt.Scale(zero=False)),\n",
    "    alt.Color('dt__max_depth:N', title='Max Depth')\n",
    ")"
   ]
  },
  {
   "cell_type": "markdown",
   "metadata": {
    "colab_type": "text",
    "id": "dDbxewMfTJrD"
   },
   "source": [
    "### (Gaussian) Naive Bayes (NB)"
   ]
  },
  {
   "cell_type": "markdown",
   "metadata": {
    "colab_type": "text",
    "id": "g2yyO8KrsYhT"
   },
   "source": [
    "Naive Bayes methods are a set of supervised learning algorithms based on applying Bayes’ theorem with the “naive” assumption of conditional independence between every pair of features given the value of the class variable.\n",
    "\n",
    "GaussianNB implements the Gaussian Naive Bayes algorithm for classification. We optimize var_smoothing (a variant of Laplace smoothing) as we do not have any prior information about our dataset. By default, the var_smoothing parameter's value is  10^−9  . We conduct the grid search in the logspace (over the powers of 10) sourced from NumPy. We start with 10 and end with  10^-3  with 200 different values, but we perform a random search over only 20 different values (for shorter run times). Since NB requires each descriptive feature to follow a Gaussian distribution, we first perform a power transformation on the input data before model fitting."
   ]
  },
  {
   "cell_type": "code",
   "execution_count": 47,
   "metadata": {
    "colab": {
     "base_uri": "https://localhost:8080/",
     "height": 68
    },
    "colab_type": "code",
    "id": "bDZBX8h6qkGS",
    "outputId": "ec83cdc4-b083-48e3-f179-8c6d08b588b1"
   },
   "outputs": [
    {
     "name": "stdout",
     "output_type": "stream",
     "text": [
      "Fitting 5 folds for each of 20 candidates, totalling 100 fits\n"
     ]
    },
    {
     "name": "stderr",
     "output_type": "stream",
     "text": [
      "[Parallel(n_jobs=-2)]: Using backend LokyBackend with 7 concurrent workers.\n",
      "[Parallel(n_jobs=-2)]: Done  36 tasks      | elapsed:    4.6s\n",
      "[Parallel(n_jobs=-2)]: Done 100 out of 100 | elapsed:   11.0s finished\n"
     ]
    }
   ],
   "source": [
    "Data_sample_train_transformed = PowerTransformer().fit_transform(Data_sample_train)\n",
    "\n",
    "pipe_NB = Pipeline([('rfi_fs', RFIFeatureSelector()), \n",
    "                     ('nb', GaussianNB())])\n",
    "\n",
    "params_pipe_NB = {'rfi_fs__n_features_': [10, 20, Data.shape[1]],\n",
    "                  'nb__var_smoothing': np.logspace(1,-3, num=200)}\n",
    "\n",
    "n_iter_search = 20\n",
    "gs_pipe_NB = RandomizedSearchCV(estimator=pipe_NB, \n",
    "                          param_distributions=params_pipe_NB, \n",
    "                          cv=cv_method,\n",
    "                          refit=True,\n",
    "                          n_jobs=-2,\n",
    "                          scoring='roc_auc',\n",
    "                          n_iter=n_iter_search,\n",
    "                          verbose=1) \n",
    "\n",
    "gs_pipe_NB.fit(Data_sample_train_transformed, target_sample_train);"
   ]
  },
  {
   "cell_type": "code",
   "execution_count": 48,
   "metadata": {
    "colab": {
     "base_uri": "https://localhost:8080/",
     "height": 34
    },
    "colab_type": "code",
    "id": "ZF2LSeuLsHj8",
    "outputId": "c8908a83-c799-4299-d8ed-31ece8905d1a"
   },
   "outputs": [
    {
     "data": {
      "text/plain": [
       "{'rfi_fs__n_features_': 10, 'nb__var_smoothing': 5.231099308056262}"
      ]
     },
     "execution_count": 48,
     "metadata": {},
     "output_type": "execute_result"
    }
   ],
   "source": [
    "gs_pipe_NB.best_params_"
   ]
  },
  {
   "cell_type": "code",
   "execution_count": 49,
   "metadata": {
    "colab": {
     "base_uri": "https://localhost:8080/",
     "height": 34
    },
    "colab_type": "code",
    "id": "PRTWa9EasNZm",
    "outputId": "5c9c01e3-e114-42fa-e0b2-8ea5aeb6b863"
   },
   "outputs": [
    {
     "data": {
      "text/plain": [
       "0.8370825477168283"
      ]
     },
     "execution_count": 49,
     "metadata": {},
     "output_type": "execute_result"
    }
   ],
   "source": [
    "gs_pipe_NB.best_score_"
   ]
  },
  {
   "cell_type": "markdown",
   "metadata": {
    "colab_type": "text",
    "id": "eY98BK-oupKp"
   },
   "source": [
    "Here, the optimal NB model has a mean AUC score of 0.847. The best performing NB selected 10 features with variable smoothing of 3.612."
   ]
  },
  {
   "cell_type": "code",
   "execution_count": 50,
   "metadata": {
    "colab": {
     "base_uri": "https://localhost:8080/",
     "height": 204
    },
    "colab_type": "code",
    "id": "et9Q7B4csNSB",
    "outputId": "2204b61b-df9a-413c-8d9a-ba70a02e7202"
   },
   "outputs": [
    {
     "data": {
      "text/html": [
       "<div>\n",
       "<style scoped>\n",
       "    .dataframe tbody tr th:only-of-type {\n",
       "        vertical-align: middle;\n",
       "    }\n",
       "\n",
       "    .dataframe tbody tr th {\n",
       "        vertical-align: top;\n",
       "    }\n",
       "\n",
       "    .dataframe thead th {\n",
       "        text-align: right;\n",
       "    }\n",
       "</style>\n",
       "<table border=\"1\" class=\"dataframe\">\n",
       "  <thead>\n",
       "    <tr style=\"text-align: right;\">\n",
       "      <th></th>\n",
       "      <th>mean_score</th>\n",
       "      <th>std_score</th>\n",
       "      <th>max_score</th>\n",
       "      <th>min_score</th>\n",
       "      <th>rfi_fs__n_features_</th>\n",
       "      <th>nb__var_smoothing</th>\n",
       "    </tr>\n",
       "  </thead>\n",
       "  <tbody>\n",
       "    <tr>\n",
       "      <th>2</th>\n",
       "      <td>0.837083</td>\n",
       "      <td>0.037431</td>\n",
       "      <td>0.878849</td>\n",
       "      <td>0.787623</td>\n",
       "      <td>10.0</td>\n",
       "      <td>5.231099</td>\n",
       "    </tr>\n",
       "    <tr>\n",
       "      <th>0</th>\n",
       "      <td>0.826501</td>\n",
       "      <td>0.029104</td>\n",
       "      <td>0.856203</td>\n",
       "      <td>0.785089</td>\n",
       "      <td>10.0</td>\n",
       "      <td>0.123155</td>\n",
       "    </tr>\n",
       "    <tr>\n",
       "      <th>8</th>\n",
       "      <td>0.826139</td>\n",
       "      <td>0.025448</td>\n",
       "      <td>0.855377</td>\n",
       "      <td>0.784495</td>\n",
       "      <td>10.0</td>\n",
       "      <td>0.077526</td>\n",
       "    </tr>\n",
       "    <tr>\n",
       "      <th>19</th>\n",
       "      <td>0.820839</td>\n",
       "      <td>0.029061</td>\n",
       "      <td>0.867426</td>\n",
       "      <td>0.783938</td>\n",
       "      <td>10.0</td>\n",
       "      <td>0.026738</td>\n",
       "    </tr>\n",
       "    <tr>\n",
       "      <th>18</th>\n",
       "      <td>0.816080</td>\n",
       "      <td>0.015894</td>\n",
       "      <td>0.832119</td>\n",
       "      <td>0.787976</td>\n",
       "      <td>20.0</td>\n",
       "      <td>0.748810</td>\n",
       "    </tr>\n",
       "  </tbody>\n",
       "</table>\n",
       "</div>"
      ],
      "text/plain": [
       "    mean_score  std_score  max_score  min_score  rfi_fs__n_features_  \\\n",
       "2     0.837083   0.037431   0.878849   0.787623                 10.0   \n",
       "0     0.826501   0.029104   0.856203   0.785089                 10.0   \n",
       "8     0.826139   0.025448   0.855377   0.784495                 10.0   \n",
       "19    0.820839   0.029061   0.867426   0.783938                 10.0   \n",
       "18    0.816080   0.015894   0.832119   0.787976                 20.0   \n",
       "\n",
       "    nb__var_smoothing  \n",
       "2            5.231099  \n",
       "0            0.123155  \n",
       "8            0.077526  \n",
       "19           0.026738  \n",
       "18           0.748810  "
      ]
     },
     "execution_count": 50,
     "metadata": {},
     "output_type": "execute_result"
    }
   ],
   "source": [
    "results_NB = get_search_results(gs_pipe_NB)\n",
    "results_NB.head()"
   ]
  },
  {
   "cell_type": "code",
   "execution_count": 51,
   "metadata": {
    "colab": {
     "base_uri": "https://localhost:8080/",
     "height": 385
    },
    "colab_type": "code",
    "id": "-MgVYhKKsM7c",
    "outputId": "4610b4e0-eec8-4cbf-ecca-4dcef13560ef"
   },
   "outputs": [
    {
     "data": {
      "text/html": [
       "\n",
       "<div id=\"altair-viz-f626b9fafb784ab7b948848e71e6c073\"></div>\n",
       "<script type=\"text/javascript\">\n",
       "  (function(spec, embedOpt){\n",
       "    let outputDiv = document.currentScript.previousElementSibling;\n",
       "    if (outputDiv.id !== \"altair-viz-f626b9fafb784ab7b948848e71e6c073\") {\n",
       "      outputDiv = document.getElementById(\"altair-viz-f626b9fafb784ab7b948848e71e6c073\");\n",
       "    }\n",
       "    const paths = {\n",
       "      \"vega\": \"https://cdn.jsdelivr.net/npm//vega@5?noext\",\n",
       "      \"vega-lib\": \"https://cdn.jsdelivr.net/npm//vega-lib?noext\",\n",
       "      \"vega-lite\": \"https://cdn.jsdelivr.net/npm//vega-lite@4.8.1?noext\",\n",
       "      \"vega-embed\": \"https://cdn.jsdelivr.net/npm//vega-embed@6?noext\",\n",
       "    };\n",
       "\n",
       "    function loadScript(lib) {\n",
       "      return new Promise(function(resolve, reject) {\n",
       "        var s = document.createElement('script');\n",
       "        s.src = paths[lib];\n",
       "        s.async = true;\n",
       "        s.onload = () => resolve(paths[lib]);\n",
       "        s.onerror = () => reject(`Error loading script: ${paths[lib]}`);\n",
       "        document.getElementsByTagName(\"head\")[0].appendChild(s);\n",
       "      });\n",
       "    }\n",
       "\n",
       "    function showError(err) {\n",
       "      outputDiv.innerHTML = `<div class=\"error\" style=\"color:red;\">${err}</div>`;\n",
       "      throw err;\n",
       "    }\n",
       "\n",
       "    function displayChart(vegaEmbed) {\n",
       "      vegaEmbed(outputDiv, spec, embedOpt)\n",
       "        .catch(err => showError(`Javascript Error: ${err.message}<br>This usually means there's a typo in your chart specification. See the javascript console for the full traceback.`));\n",
       "    }\n",
       "\n",
       "    if(typeof define === \"function\" && define.amd) {\n",
       "      requirejs.config({paths});\n",
       "      require([\"vega-embed\"], displayChart, err => showError(`Error loading script: ${err.message}`));\n",
       "    } else if (typeof vegaEmbed === \"function\") {\n",
       "      displayChart(vegaEmbed);\n",
       "    } else {\n",
       "      loadScript(\"vega\")\n",
       "        .then(() => loadScript(\"vega-lite\"))\n",
       "        .then(() => loadScript(\"vega-embed\"))\n",
       "        .catch(showError)\n",
       "        .then(() => displayChart(vegaEmbed));\n",
       "    }\n",
       "  })({\"config\": {\"view\": {\"continuousWidth\": 400, \"continuousHeight\": 300}}, \"data\": {\"name\": \"data-d4e1b23d5df5b95eb5629c930fde3492\"}, \"mark\": {\"type\": \"line\", \"point\": true}, \"encoding\": {\"x\": {\"type\": \"quantitative\", \"field\": \"nb__var_smoothing\", \"title\": \"Var. Smoothing\"}, \"y\": {\"type\": \"quantitative\", \"field\": \"mean_score\", \"scale\": {\"zero\": false}, \"title\": \"AUC Score\"}}, \"title\": \"NB Performance Comparison with 10 Features\", \"$schema\": \"https://vega.github.io/schema/vega-lite/v4.8.1.json\", \"datasets\": {\"data-d4e1b23d5df5b95eb5629c930fde3492\": [{\"mean_score\": 0.8370825477168283, \"std_score\": 0.03743085843053099, \"max_score\": 0.8788486063035161, \"min_score\": 0.7876232201533406, \"rfi_fs__n_features_\": 10.0, \"nb__var_smoothing\": 5.231099308056262}, {\"mean_score\": 0.8265014341693, \"std_score\": 0.029104200169776263, \"max_score\": 0.8562033157223538, \"min_score\": 0.7850886959103391, \"rfi_fs__n_features_\": 10.0, \"nb__var_smoothing\": 0.12315506032928256}, {\"mean_score\": 0.8261390478006844, \"std_score\": 0.025448080879968804, \"max_score\": 0.855377421509686, \"min_score\": 0.7844949157574408, \"rfi_fs__n_features_\": 10.0, \"nb__var_smoothing\": 0.07752597488629465}, {\"mean_score\": 0.8208388981931247, \"std_score\": 0.029060516539325364, \"max_score\": 0.8674257606121334, \"min_score\": 0.7839382468640985, \"rfi_fs__n_features_\": 10.0, \"nb__var_smoothing\": 0.026738416158399468}]}}, {\"mode\": \"vega-lite\"});\n",
       "</script>"
      ],
      "text/plain": [
       "alt.Chart(...)"
      ]
     },
     "execution_count": 51,
     "metadata": {},
     "output_type": "execute_result"
    }
   ],
   "source": [
    "#visualize the results of the grid search corresponding to 10 selected features.\n",
    "\n",
    "results_NB_10_features = results_NB[results_NB['rfi_fs__n_features_'] == 10.0]\n",
    "\n",
    "alt.Chart(results_NB_10_features, \n",
    "          title='NB Performance Comparison with 10 Features'\n",
    "         ).mark_line(point=True).encode(\n",
    "    alt.X('nb__var_smoothing', title='Var. Smoothing'),\n",
    "    alt.Y('mean_score', title='AUC Score', scale=alt.Scale(zero=False))\n",
    ")"
   ]
  },
  {
   "cell_type": "markdown",
   "metadata": {
    "colab_type": "text",
    "id": "FQvPQRTiTTBy"
   },
   "source": [
    "### Support Vector Classification"
   ]
  },
  {
   "cell_type": "markdown",
   "metadata": {
    "colab_type": "text",
    "id": "r4XczHZ3zKiK"
   },
   "source": [
    "Support vector machines (SVMs) are a set of supervised learning methods used for classification, regression and outliers detection.\n",
    "\n",
    "As other classifiers, SVC take as input two arrays: an array X of shape (n_samples, n_features) holding the training samples, and an array y of class labels (strings or integers), of shape (n_samples):\n",
    "\n",
    "Hyper-parameters of Support Vector Classifier are includes C, kernel and gamma.\n",
    "\n",
    "C is the penalty parameter of the error term. It controls the trade off between smooth decision boundary and classifying the training points correctly.\n",
    "\n",
    "Here we will use Hyper-parameters as following, C = [0.1, 1, 10], gamma = [0.001, 0.0001], kernel = ['rbf'] and class weight =['balanced', None]."
   ]
  },
  {
   "cell_type": "code",
   "execution_count": 52,
   "metadata": {
    "colab": {
     "base_uri": "https://localhost:8080/",
     "height": 68
    },
    "colab_type": "code",
    "id": "4BLqOaW7tZcl",
    "outputId": "9deab32b-a159-4a34-e552-eab088a89d85"
   },
   "outputs": [
    {
     "name": "stdout",
     "output_type": "stream",
     "text": [
      "Fitting 5 folds for each of 36 candidates, totalling 180 fits\n"
     ]
    },
    {
     "name": "stderr",
     "output_type": "stream",
     "text": [
      "[Parallel(n_jobs=-2)]: Using backend LokyBackend with 7 concurrent workers.\n",
      "[Parallel(n_jobs=-2)]: Done  36 tasks      | elapsed:    5.7s\n",
      "[Parallel(n_jobs=-2)]: Done 180 out of 180 | elapsed:   23.0s finished\n"
     ]
    }
   ],
   "source": [
    "pipe_SVC = Pipeline([('rfi_fs', RFIFeatureSelector()),\n",
    "                    ('svc', SVC(random_state=0))])\n",
    "\n",
    "params_pipe_SVC = {\n",
    "                  'rfi_fs__n_features_': [10, 20, Data.shape[1]],\n",
    "                  'svc__C': [0.1, 1, 10], \n",
    "                   'svc__gamma': [0.001, 0.0001], \n",
    "                   'svc__kernel': ['rbf'],\n",
    "                  'svc__class_weight':['balanced', None]\n",
    "                  }\n",
    "\n",
    "gs_pipe_SVC = GridSearchCV(estimator=pipe_SVC, \n",
    "                          param_grid=params_pipe_SVC, \n",
    "                          cv=cv_method,\n",
    "                          refit=True,\n",
    "                          n_jobs=-2,\n",
    "                          scoring='roc_auc',\n",
    "                          verbose=1) \n",
    "\n",
    "gs_pipe_SVC.fit(Data_sample_train, target_sample_train);"
   ]
  },
  {
   "cell_type": "code",
   "execution_count": 53,
   "metadata": {
    "colab": {
     "base_uri": "https://localhost:8080/",
     "height": 204
    },
    "colab_type": "code",
    "id": "4ziSxzZItZco",
    "outputId": "970824a4-9d04-45b2-90ce-1b5e1f16c0c9"
   },
   "outputs": [
    {
     "data": {
      "text/html": [
       "<div>\n",
       "<style scoped>\n",
       "    .dataframe tbody tr th:only-of-type {\n",
       "        vertical-align: middle;\n",
       "    }\n",
       "\n",
       "    .dataframe tbody tr th {\n",
       "        vertical-align: top;\n",
       "    }\n",
       "\n",
       "    .dataframe thead th {\n",
       "        text-align: right;\n",
       "    }\n",
       "</style>\n",
       "<table border=\"1\" class=\"dataframe\">\n",
       "  <thead>\n",
       "    <tr style=\"text-align: right;\">\n",
       "      <th></th>\n",
       "      <th>mean_score</th>\n",
       "      <th>std_score</th>\n",
       "      <th>max_score</th>\n",
       "      <th>min_score</th>\n",
       "      <th>rfi_fs__n_features_</th>\n",
       "      <th>svc__C</th>\n",
       "      <th>svc__class_weight</th>\n",
       "      <th>svc__gamma</th>\n",
       "      <th>svc__kernel</th>\n",
       "    </tr>\n",
       "  </thead>\n",
       "  <tbody>\n",
       "    <tr>\n",
       "      <th>32</th>\n",
       "      <td>0.882098</td>\n",
       "      <td>0.0197173</td>\n",
       "      <td>0.916378</td>\n",
       "      <td>0.856042</td>\n",
       "      <td>48</td>\n",
       "      <td>10</td>\n",
       "      <td>balanced</td>\n",
       "      <td>0.001</td>\n",
       "      <td>rbf</td>\n",
       "    </tr>\n",
       "    <tr>\n",
       "      <th>35</th>\n",
       "      <td>0.870852</td>\n",
       "      <td>0.031013</td>\n",
       "      <td>0.894371</td>\n",
       "      <td>0.809821</td>\n",
       "      <td>48</td>\n",
       "      <td>10</td>\n",
       "      <td>None</td>\n",
       "      <td>0.0001</td>\n",
       "      <td>rbf</td>\n",
       "    </tr>\n",
       "    <tr>\n",
       "      <th>34</th>\n",
       "      <td>0.869143</td>\n",
       "      <td>0.0279777</td>\n",
       "      <td>0.901111</td>\n",
       "      <td>0.819095</td>\n",
       "      <td>48</td>\n",
       "      <td>10</td>\n",
       "      <td>None</td>\n",
       "      <td>0.001</td>\n",
       "      <td>rbf</td>\n",
       "    </tr>\n",
       "    <tr>\n",
       "      <th>20</th>\n",
       "      <td>0.867886</td>\n",
       "      <td>0.0210874</td>\n",
       "      <td>0.906249</td>\n",
       "      <td>0.846258</td>\n",
       "      <td>20</td>\n",
       "      <td>10</td>\n",
       "      <td>balanced</td>\n",
       "      <td>0.001</td>\n",
       "      <td>rbf</td>\n",
       "    </tr>\n",
       "    <tr>\n",
       "      <th>30</th>\n",
       "      <td>0.867672</td>\n",
       "      <td>0.0266754</td>\n",
       "      <td>0.886464</td>\n",
       "      <td>0.81475</td>\n",
       "      <td>48</td>\n",
       "      <td>1</td>\n",
       "      <td>None</td>\n",
       "      <td>0.001</td>\n",
       "      <td>rbf</td>\n",
       "    </tr>\n",
       "  </tbody>\n",
       "</table>\n",
       "</div>"
      ],
      "text/plain": [
       "   mean_score  std_score max_score min_score rfi_fs__n_features_ svc__C  \\\n",
       "32   0.882098  0.0197173  0.916378  0.856042                  48     10   \n",
       "35   0.870852   0.031013  0.894371  0.809821                  48     10   \n",
       "34   0.869143  0.0279777  0.901111  0.819095                  48     10   \n",
       "20   0.867886  0.0210874  0.906249  0.846258                  20     10   \n",
       "30   0.867672  0.0266754  0.886464   0.81475                  48      1   \n",
       "\n",
       "   svc__class_weight svc__gamma svc__kernel  \n",
       "32          balanced      0.001         rbf  \n",
       "35              None     0.0001         rbf  \n",
       "34              None      0.001         rbf  \n",
       "20          balanced      0.001         rbf  \n",
       "30              None      0.001         rbf  "
      ]
     },
     "execution_count": 53,
     "metadata": {},
     "output_type": "execute_result"
    }
   ],
   "source": [
    "results_svc = get_search_results(gs_pipe_SVC)\n",
    "results_svc.head()"
   ]
  },
  {
   "cell_type": "code",
   "execution_count": 54,
   "metadata": {
    "colab": {
     "base_uri": "https://localhost:8080/",
     "height": 102
    },
    "colab_type": "code",
    "id": "IZKIjm5TtZcr",
    "outputId": "ca01e66a-fa29-4a51-a477-25c63d71bbf3"
   },
   "outputs": [
    {
     "data": {
      "text/plain": [
       "{'rfi_fs__n_features_': 48,\n",
       " 'svc__C': 10,\n",
       " 'svc__class_weight': 'balanced',\n",
       " 'svc__gamma': 0.001,\n",
       " 'svc__kernel': 'rbf'}"
      ]
     },
     "execution_count": 54,
     "metadata": {},
     "output_type": "execute_result"
    }
   ],
   "source": [
    "gs_pipe_SVC.best_params_"
   ]
  },
  {
   "cell_type": "code",
   "execution_count": 55,
   "metadata": {
    "colab": {
     "base_uri": "https://localhost:8080/",
     "height": 34
    },
    "colab_type": "code",
    "id": "8Fo6qhKXtZcu",
    "outputId": "4a85cc11-bdeb-4ccc-aef0-3272da6f5815"
   },
   "outputs": [
    {
     "data": {
      "text/plain": [
       "0.8820975885485627"
      ]
     },
     "execution_count": 55,
     "metadata": {},
     "output_type": "execute_result"
    }
   ],
   "source": [
    "gs_pipe_SVC.best_score_"
   ]
  },
  {
   "cell_type": "markdown",
   "metadata": {
    "colab_type": "text",
    "id": "thv_AcFhxif2"
   },
   "source": [
    "Here, the optimal SVC model has a mean AUC score of 0.882. The best performing SVC selected 48 features with C value of 10, balanced class weight, gamma is 0.001 and rbf as kernal."
   ]
  },
  {
   "cell_type": "code",
   "execution_count": 56,
   "metadata": {
    "colab": {
     "base_uri": "https://localhost:8080/",
     "height": 385
    },
    "colab_type": "code",
    "id": "0gjFGmqatZcw",
    "outputId": "f9d92486-af37-447d-820e-1f6c5fb6f9a5"
   },
   "outputs": [
    {
     "data": {
      "text/html": [
       "\n",
       "<div id=\"altair-viz-d64744b098064c4488fcf80d751ddfc2\"></div>\n",
       "<script type=\"text/javascript\">\n",
       "  (function(spec, embedOpt){\n",
       "    let outputDiv = document.currentScript.previousElementSibling;\n",
       "    if (outputDiv.id !== \"altair-viz-d64744b098064c4488fcf80d751ddfc2\") {\n",
       "      outputDiv = document.getElementById(\"altair-viz-d64744b098064c4488fcf80d751ddfc2\");\n",
       "    }\n",
       "    const paths = {\n",
       "      \"vega\": \"https://cdn.jsdelivr.net/npm//vega@5?noext\",\n",
       "      \"vega-lib\": \"https://cdn.jsdelivr.net/npm//vega-lib?noext\",\n",
       "      \"vega-lite\": \"https://cdn.jsdelivr.net/npm//vega-lite@4.8.1?noext\",\n",
       "      \"vega-embed\": \"https://cdn.jsdelivr.net/npm//vega-embed@6?noext\",\n",
       "    };\n",
       "\n",
       "    function loadScript(lib) {\n",
       "      return new Promise(function(resolve, reject) {\n",
       "        var s = document.createElement('script');\n",
       "        s.src = paths[lib];\n",
       "        s.async = true;\n",
       "        s.onload = () => resolve(paths[lib]);\n",
       "        s.onerror = () => reject(`Error loading script: ${paths[lib]}`);\n",
       "        document.getElementsByTagName(\"head\")[0].appendChild(s);\n",
       "      });\n",
       "    }\n",
       "\n",
       "    function showError(err) {\n",
       "      outputDiv.innerHTML = `<div class=\"error\" style=\"color:red;\">${err}</div>`;\n",
       "      throw err;\n",
       "    }\n",
       "\n",
       "    function displayChart(vegaEmbed) {\n",
       "      vegaEmbed(outputDiv, spec, embedOpt)\n",
       "        .catch(err => showError(`Javascript Error: ${err.message}<br>This usually means there's a typo in your chart specification. See the javascript console for the full traceback.`));\n",
       "    }\n",
       "\n",
       "    if(typeof define === \"function\" && define.amd) {\n",
       "      requirejs.config({paths});\n",
       "      require([\"vega-embed\"], displayChart, err => showError(`Error loading script: ${err.message}`));\n",
       "    } else if (typeof vegaEmbed === \"function\") {\n",
       "      displayChart(vegaEmbed);\n",
       "    } else {\n",
       "      loadScript(\"vega\")\n",
       "        .then(() => loadScript(\"vega-lite\"))\n",
       "        .then(() => loadScript(\"vega-embed\"))\n",
       "        .catch(showError)\n",
       "        .then(() => displayChart(vegaEmbed));\n",
       "    }\n",
       "  })({\"config\": {\"view\": {\"continuousWidth\": 400, \"continuousHeight\": 300}}, \"data\": {\"name\": \"data-55bf20eefca39b7f4f86d3d5b9599d37\"}, \"mark\": {\"type\": \"line\", \"point\": true}, \"encoding\": {\"x\": {\"type\": \"quantitative\", \"field\": \"svc__C\", \"title\": \"C Samples for Split\"}, \"y\": {\"type\": \"quantitative\", \"field\": \"mean_score\", \"scale\": {\"zero\": false}, \"title\": \"AUC Score\"}}, \"title\": \"SVC Performance Comparison with 10 Features\", \"$schema\": \"https://vega.github.io/schema/vega-lite/v4.8.1.json\", \"datasets\": {\"data-55bf20eefca39b7f4f86d3d5b9599d37\": [{\"mean_score\": 0.8525570422009082, \"std_score\": 0.02817721969773495, \"max_score\": 0.8885042812898525, \"min_score\": 0.8089448703906534, \"rfi_fs__n_features_\": 10, \"svc__C\": 10, \"svc__class_weight\": \"balanced\", \"svc__gamma\": 0.001, \"svc__kernel\": \"rbf\"}, {\"mean_score\": 0.8269007708329725, \"std_score\": 0.014425774612162197, \"max_score\": 0.8459464383312079, \"min_score\": 0.8019350127783863, \"rfi_fs__n_features_\": 10, \"svc__C\": 0.1, \"svc__class_weight\": null, \"svc__gamma\": 0.001, \"svc__kernel\": \"rbf\"}, {\"mean_score\": 0.8195062909885327, \"std_score\": 0.03772416698763951, \"max_score\": 0.8830752413918747, \"min_score\": 0.7668492150419861, \"rfi_fs__n_features_\": 10, \"svc__C\": 0.1, \"svc__class_weight\": null, \"svc__gamma\": 0.0001, \"svc__kernel\": \"rbf\"}, {\"mean_score\": 0.8174384694910083, \"std_score\": 0.045621129580908255, \"max_score\": 0.8836217890326107, \"min_score\": 0.7514056224899598, \"rfi_fs__n_features_\": 10, \"svc__C\": 1, \"svc__class_weight\": null, \"svc__gamma\": 0.0001, \"svc__kernel\": \"rbf\"}, {\"mean_score\": 0.7823678398133331, \"std_score\": 0.03127021895138799, \"max_score\": 0.8233875157722853, \"min_score\": 0.7478276743336983, \"rfi_fs__n_features_\": 10, \"svc__C\": 1, \"svc__class_weight\": \"balanced\", \"svc__gamma\": 0.0001, \"svc__kernel\": \"rbf\"}, {\"mean_score\": 0.7820100449977071, \"std_score\": 0.03167104744189974, \"max_score\": 0.8233875157722853, \"min_score\": 0.7460387002555677, \"rfi_fs__n_features_\": 10, \"svc__C\": 10, \"svc__class_weight\": \"balanced\", \"svc__gamma\": 0.0001, \"svc__kernel\": \"rbf\"}, {\"mean_score\": 0.7818152080397052, \"std_score\": 0.08936813904498815, \"max_score\": 0.8587720896338131, \"min_score\": 0.6080686381891202, \"rfi_fs__n_features_\": 10, \"svc__C\": 10, \"svc__class_weight\": null, \"svc__gamma\": 0.0001, \"svc__kernel\": \"rbf\"}, {\"mean_score\": 0.7796640735936194, \"std_score\": 0.032590173290967604, \"max_score\": 0.8195279447784459, \"min_score\": 0.7460387002555677, \"rfi_fs__n_features_\": 10, \"svc__C\": 0.1, \"svc__class_weight\": \"balanced\", \"svc__gamma\": 0.0001, \"svc__kernel\": \"rbf\"}, {\"mean_score\": 0.776405292024965, \"std_score\": 0.03179868341168386, \"max_score\": 0.8158910413419431, \"min_score\": 0.7392844103687477, \"rfi_fs__n_features_\": 10, \"svc__C\": 0.1, \"svc__class_weight\": \"balanced\", \"svc__gamma\": 0.001, \"svc__kernel\": \"rbf\"}, {\"mean_score\": 0.7757166419976377, \"std_score\": 0.035246762528278706, \"max_score\": 0.8234246270318415, \"min_score\": 0.7392844103687477, \"rfi_fs__n_features_\": 10, \"svc__C\": 1, \"svc__class_weight\": \"balanced\", \"svc__gamma\": 0.001, \"svc__kernel\": \"rbf\"}, {\"mean_score\": 0.7535372086918553, \"std_score\": 0.027882812990780145, \"max_score\": 0.7930770632173437, \"min_score\": 0.7140562248995984, \"rfi_fs__n_features_\": 10, \"svc__C\": 1, \"svc__class_weight\": null, \"svc__gamma\": 0.001, \"svc__kernel\": \"rbf\"}, {\"mean_score\": 0.7403100907912942, \"std_score\": 0.018270136469868293, \"max_score\": 0.7620695937329204, \"min_score\": 0.7067954089998177, \"rfi_fs__n_features_\": 10, \"svc__C\": 10, \"svc__class_weight\": null, \"svc__gamma\": 0.001, \"svc__kernel\": \"rbf\"}]}}, {\"mode\": \"vega-lite\"});\n",
       "</script>"
      ],
      "text/plain": [
       "alt.Chart(...)"
      ]
     },
     "execution_count": 56,
     "metadata": {},
     "output_type": "execute_result"
    }
   ],
   "source": [
    "#visualize the results of the grid search corresponding to 10 selected features.\n",
    "\n",
    "results_SVC = get_search_results(gs_pipe_SVC)\n",
    "\n",
    "results_SVC_10_features = results_SVC[results_SVC['rfi_fs__n_features_'] == 10.0]\n",
    "\n",
    "alt.Chart(results_SVC_10_features, \n",
    "          title='SVC Performance Comparison with 10 Features'\n",
    "         ).mark_line(point=True).encode(\n",
    "    alt.X('svc__C', title='C Samples for Split'),\n",
    "    alt.Y('mean_score', title='AUC Score', scale=alt.Scale(zero=False))\n",
    ")"
   ]
  },
  {
   "cell_type": "markdown",
   "metadata": {
    "colab_type": "text",
    "id": "pocTTyGb96vI"
   },
   "source": [
    "# Performance Tuning"
   ]
  },
  {
   "cell_type": "markdown",
   "metadata": {
    "colab_type": "text",
    "id": "GVa-vwHVJXlX"
   },
   "source": [
    "Here we get maximum accuracy from SVC model but we can see that maximum values lies in extreme end of its search space. Thus, we need to go beyond what we already tried to make sure that we are not missing out on even better values. For this reason, we try a new search as below."
   ]
  },
  {
   "cell_type": "code",
   "execution_count": 57,
   "metadata": {
    "colab": {
     "base_uri": "https://localhost:8080/",
     "height": 68
    },
    "colab_type": "code",
    "id": "kFUwkNiSJQgf",
    "outputId": "3fce96ae-8aa7-4608-ad63-ebb4fc93585e"
   },
   "outputs": [
    {
     "name": "stdout",
     "output_type": "stream",
     "text": [
      "Fitting 5 folds for each of 30 candidates, totalling 150 fits\n"
     ]
    },
    {
     "name": "stderr",
     "output_type": "stream",
     "text": [
      "[Parallel(n_jobs=-2)]: Using backend LokyBackend with 7 concurrent workers.\n",
      "[Parallel(n_jobs=-2)]: Done  36 tasks      | elapsed:    3.2s\n",
      "[Parallel(n_jobs=-2)]: Done 150 out of 150 | elapsed:   14.2s finished\n"
     ]
    }
   ],
   "source": [
    "pipe_SVC2 = Pipeline([('rfi_fs', RFIFeatureSelector()),\n",
    "                    ('svc', SVC(random_state=0))])\n",
    "\n",
    "params_pipe_SVC2 = {\n",
    "                  'rfi_fs__n_features_': [10],\n",
    "                  'svc__C': [0.1, 1, 10, 100, 1000], \n",
    "                   'svc__gamma': [0.1, 0.01, 0.001], \n",
    "                   'svc__kernel': ['rbf'],\n",
    "                  'svc__class_weight':['balanced', None]\n",
    "                  }\n",
    "\n",
    "gs_pipe_SVC2 = GridSearchCV(estimator=pipe_SVC2, \n",
    "                          param_grid=params_pipe_SVC2, \n",
    "                          cv=cv_method,\n",
    "                          refit=True,\n",
    "                          n_jobs=-2,\n",
    "                          scoring='roc_auc',\n",
    "                          verbose=1) \n",
    "\n",
    "gs_pipe_SVC2.fit(Data_sample_train, target_sample_train);"
   ]
  },
  {
   "cell_type": "code",
   "execution_count": 58,
   "metadata": {
    "colab": {
     "base_uri": "https://localhost:8080/",
     "height": 102
    },
    "colab_type": "code",
    "id": "YYaFv-2tJQgl",
    "outputId": "8cffcd4e-fb50-4d2a-8f23-dc9001d9a258"
   },
   "outputs": [
    {
     "data": {
      "text/plain": [
       "{'rfi_fs__n_features_': 10,\n",
       " 'svc__C': 1000,\n",
       " 'svc__class_weight': 'balanced',\n",
       " 'svc__gamma': 0.01,\n",
       " 'svc__kernel': 'rbf'}"
      ]
     },
     "execution_count": 58,
     "metadata": {},
     "output_type": "execute_result"
    }
   ],
   "source": [
    "gs_pipe_SVC2.best_params_"
   ]
  },
  {
   "cell_type": "code",
   "execution_count": 59,
   "metadata": {
    "colab": {
     "base_uri": "https://localhost:8080/",
     "height": 34
    },
    "colab_type": "code",
    "id": "n_Kn3zfKJQgn",
    "outputId": "a35562ea-1149-4dcd-e22c-b4ae0c5345f9"
   },
   "outputs": [
    {
     "data": {
      "text/plain": [
       "0.8583028049527313"
      ]
     },
     "execution_count": 59,
     "metadata": {},
     "output_type": "execute_result"
    }
   ],
   "source": [
    "gs_pipe_SVC2.best_score_"
   ]
  },
  {
   "cell_type": "markdown",
   "metadata": {
    "colab_type": "text",
    "id": "2cY4BwNbJccy"
   },
   "source": [
    "Here, using new parameters on fix 10 features has decreased our accuracy of SVC from 0.882 to 0.859, which means working with 10 features is not preferable and we required more features to working with."
   ]
  },
  {
   "cell_type": "code",
   "execution_count": 60,
   "metadata": {
    "colab": {
     "base_uri": "https://localhost:8080/",
     "height": 204
    },
    "colab_type": "code",
    "id": "zdi_OvvXJQgi",
    "outputId": "3c5642bf-6fc1-4f1b-e5be-d7dac6b30354"
   },
   "outputs": [
    {
     "data": {
      "text/html": [
       "<div>\n",
       "<style scoped>\n",
       "    .dataframe tbody tr th:only-of-type {\n",
       "        vertical-align: middle;\n",
       "    }\n",
       "\n",
       "    .dataframe tbody tr th {\n",
       "        vertical-align: top;\n",
       "    }\n",
       "\n",
       "    .dataframe thead th {\n",
       "        text-align: right;\n",
       "    }\n",
       "</style>\n",
       "<table border=\"1\" class=\"dataframe\">\n",
       "  <thead>\n",
       "    <tr style=\"text-align: right;\">\n",
       "      <th></th>\n",
       "      <th>mean_score</th>\n",
       "      <th>std_score</th>\n",
       "      <th>max_score</th>\n",
       "      <th>min_score</th>\n",
       "      <th>rfi_fs__n_features_</th>\n",
       "      <th>svc__C</th>\n",
       "      <th>svc__class_weight</th>\n",
       "      <th>svc__gamma</th>\n",
       "      <th>svc__kernel</th>\n",
       "    </tr>\n",
       "  </thead>\n",
       "  <tbody>\n",
       "    <tr>\n",
       "      <th>25</th>\n",
       "      <td>0.858303</td>\n",
       "      <td>0.0367033</td>\n",
       "      <td>0.906868</td>\n",
       "      <td>0.807923</td>\n",
       "      <td>10</td>\n",
       "      <td>1000</td>\n",
       "      <td>balanced</td>\n",
       "      <td>0.01</td>\n",
       "      <td>rbf</td>\n",
       "    </tr>\n",
       "    <tr>\n",
       "      <th>19</th>\n",
       "      <td>0.857146</td>\n",
       "      <td>0.0290556</td>\n",
       "      <td>0.901949</td>\n",
       "      <td>0.824498</td>\n",
       "      <td>10</td>\n",
       "      <td>100</td>\n",
       "      <td>balanced</td>\n",
       "      <td>0.01</td>\n",
       "      <td>rbf</td>\n",
       "    </tr>\n",
       "    <tr>\n",
       "      <th>6</th>\n",
       "      <td>0.856564</td>\n",
       "      <td>0.0336213</td>\n",
       "      <td>0.902532</td>\n",
       "      <td>0.808872</td>\n",
       "      <td>10</td>\n",
       "      <td>1</td>\n",
       "      <td>balanced</td>\n",
       "      <td>0.1</td>\n",
       "      <td>rbf</td>\n",
       "    </tr>\n",
       "    <tr>\n",
       "      <th>13</th>\n",
       "      <td>0.856053</td>\n",
       "      <td>0.0318728</td>\n",
       "      <td>0.900783</td>\n",
       "      <td>0.812267</td>\n",
       "      <td>10</td>\n",
       "      <td>10</td>\n",
       "      <td>balanced</td>\n",
       "      <td>0.01</td>\n",
       "      <td>rbf</td>\n",
       "    </tr>\n",
       "    <tr>\n",
       "      <th>26</th>\n",
       "      <td>0.855715</td>\n",
       "      <td>0.0335983</td>\n",
       "      <td>0.900601</td>\n",
       "      <td>0.814494</td>\n",
       "      <td>10</td>\n",
       "      <td>1000</td>\n",
       "      <td>balanced</td>\n",
       "      <td>0.001</td>\n",
       "      <td>rbf</td>\n",
       "    </tr>\n",
       "  </tbody>\n",
       "</table>\n",
       "</div>"
      ],
      "text/plain": [
       "   mean_score  std_score max_score min_score rfi_fs__n_features_ svc__C  \\\n",
       "25   0.858303  0.0367033  0.906868  0.807923                  10   1000   \n",
       "19   0.857146  0.0290556  0.901949  0.824498                  10    100   \n",
       "6    0.856564  0.0336213  0.902532  0.808872                  10      1   \n",
       "13   0.856053  0.0318728  0.900783  0.812267                  10     10   \n",
       "26   0.855715  0.0335983  0.900601  0.814494                  10   1000   \n",
       "\n",
       "   svc__class_weight svc__gamma svc__kernel  \n",
       "25          balanced       0.01         rbf  \n",
       "19          balanced       0.01         rbf  \n",
       "6           balanced        0.1         rbf  \n",
       "13          balanced       0.01         rbf  \n",
       "26          balanced      0.001         rbf  "
      ]
     },
     "execution_count": 60,
     "metadata": {},
     "output_type": "execute_result"
    }
   ],
   "source": [
    "results_svc2 = get_search_results(gs_pipe_SVC2)\n",
    "results_svc2.head()"
   ]
  },
  {
   "cell_type": "markdown",
   "metadata": {
    "colab_type": "text",
    "id": "DxShe_7QJQgp"
   },
   "source": [
    "We again observe that the cross-validated AUC score difference between the hyperparameter combinations is less than original value in this case. A visualization of the new search results is shown below."
   ]
  },
  {
   "cell_type": "code",
   "execution_count": 61,
   "metadata": {
    "colab": {
     "base_uri": "https://localhost:8080/",
     "height": 385
    },
    "colab_type": "code",
    "id": "d0x1_rMSJQgp",
    "outputId": "48505773-e805-4c71-ca5e-295751adb43d"
   },
   "outputs": [
    {
     "data": {
      "text/html": [
       "\n",
       "<div id=\"altair-viz-0335fd3656d040e7a76cd0911ac4d684\"></div>\n",
       "<script type=\"text/javascript\">\n",
       "  (function(spec, embedOpt){\n",
       "    let outputDiv = document.currentScript.previousElementSibling;\n",
       "    if (outputDiv.id !== \"altair-viz-0335fd3656d040e7a76cd0911ac4d684\") {\n",
       "      outputDiv = document.getElementById(\"altair-viz-0335fd3656d040e7a76cd0911ac4d684\");\n",
       "    }\n",
       "    const paths = {\n",
       "      \"vega\": \"https://cdn.jsdelivr.net/npm//vega@5?noext\",\n",
       "      \"vega-lib\": \"https://cdn.jsdelivr.net/npm//vega-lib?noext\",\n",
       "      \"vega-lite\": \"https://cdn.jsdelivr.net/npm//vega-lite@4.8.1?noext\",\n",
       "      \"vega-embed\": \"https://cdn.jsdelivr.net/npm//vega-embed@6?noext\",\n",
       "    };\n",
       "\n",
       "    function loadScript(lib) {\n",
       "      return new Promise(function(resolve, reject) {\n",
       "        var s = document.createElement('script');\n",
       "        s.src = paths[lib];\n",
       "        s.async = true;\n",
       "        s.onload = () => resolve(paths[lib]);\n",
       "        s.onerror = () => reject(`Error loading script: ${paths[lib]}`);\n",
       "        document.getElementsByTagName(\"head\")[0].appendChild(s);\n",
       "      });\n",
       "    }\n",
       "\n",
       "    function showError(err) {\n",
       "      outputDiv.innerHTML = `<div class=\"error\" style=\"color:red;\">${err}</div>`;\n",
       "      throw err;\n",
       "    }\n",
       "\n",
       "    function displayChart(vegaEmbed) {\n",
       "      vegaEmbed(outputDiv, spec, embedOpt)\n",
       "        .catch(err => showError(`Javascript Error: ${err.message}<br>This usually means there's a typo in your chart specification. See the javascript console for the full traceback.`));\n",
       "    }\n",
       "\n",
       "    if(typeof define === \"function\" && define.amd) {\n",
       "      requirejs.config({paths});\n",
       "      require([\"vega-embed\"], displayChart, err => showError(`Error loading script: ${err.message}`));\n",
       "    } else if (typeof vegaEmbed === \"function\") {\n",
       "      displayChart(vegaEmbed);\n",
       "    } else {\n",
       "      loadScript(\"vega\")\n",
       "        .then(() => loadScript(\"vega-lite\"))\n",
       "        .then(() => loadScript(\"vega-embed\"))\n",
       "        .catch(showError)\n",
       "        .then(() => displayChart(vegaEmbed));\n",
       "    }\n",
       "  })({\"config\": {\"view\": {\"continuousWidth\": 400, \"continuousHeight\": 300}}, \"data\": {\"name\": \"data-69f47082880e8c25bd2bd108a5e56e91\"}, \"mark\": {\"type\": \"line\", \"point\": true}, \"encoding\": {\"x\": {\"type\": \"quantitative\", \"field\": \"svc__C\", \"title\": \"C Samples for Split\"}, \"y\": {\"type\": \"quantitative\", \"field\": \"mean_score\", \"scale\": {\"zero\": false}, \"title\": \"AUC Score\"}}, \"title\": \"SVC Performance Comparison with 10 Features\", \"$schema\": \"https://vega.github.io/schema/vega-lite/v4.8.1.json\", \"datasets\": {\"data-69f47082880e8c25bd2bd108a5e56e91\": [{\"mean_score\": 0.8583028049527313, \"std_score\": 0.0367033466505812, \"max_score\": 0.9068682820185825, \"min_score\": 0.8079225994888646, \"rfi_fs__n_features_\": 10, \"svc__C\": 1000, \"svc__class_weight\": \"balanced\", \"svc__gamma\": 0.01, \"svc__kernel\": \"rbf\"}, {\"mean_score\": 0.8571459091969993, \"std_score\": 0.029055623974824144, \"max_score\": 0.9019493532519585, \"min_score\": 0.8244979919678714, \"rfi_fs__n_features_\": 10, \"svc__C\": 100, \"svc__class_weight\": \"balanced\", \"svc__gamma\": 0.01, \"svc__kernel\": \"rbf\"}, {\"mean_score\": 0.8565640843164564, \"std_score\": 0.03362125561992178, \"max_score\": 0.9025323374020768, \"min_score\": 0.8088718510405257, \"rfi_fs__n_features_\": 10, \"svc__C\": 1, \"svc__class_weight\": \"balanced\", \"svc__gamma\": 0.1, \"svc__kernel\": \"rbf\"}, {\"mean_score\": 0.8560533098162575, \"std_score\": 0.03187275728845812, \"max_score\": 0.9007833849517216, \"min_score\": 0.8122672508214677, \"rfi_fs__n_features_\": 10, \"svc__C\": 10, \"svc__class_weight\": \"balanced\", \"svc__gamma\": 0.01, \"svc__kernel\": \"rbf\"}, {\"mean_score\": 0.855715342900315, \"std_score\": 0.03359831410915545, \"max_score\": 0.9006012024048096, \"min_score\": 0.8144943410003651, \"rfi_fs__n_features_\": 10, \"svc__C\": 1000, \"svc__class_weight\": \"balanced\", \"svc__gamma\": 0.001, \"svc__kernel\": \"rbf\"}, {\"mean_score\": 0.8555067312833448, \"std_score\": 0.03534191676856902, \"max_score\": 0.9051922025869922, \"min_score\": 0.8078130704636729, \"rfi_fs__n_features_\": 10, \"svc__C\": 10, \"svc__class_weight\": \"balanced\", \"svc__gamma\": 0.1, \"svc__kernel\": \"rbf\"}, {\"mean_score\": 0.8527663090572041, \"std_score\": 0.029221357673649393, \"max_score\": 0.8934232100564765, \"min_score\": 0.8115370573201899, \"rfi_fs__n_features_\": 10, \"svc__C\": 100, \"svc__class_weight\": \"balanced\", \"svc__gamma\": 0.001, \"svc__kernel\": \"rbf\"}, {\"mean_score\": 0.8523702030648452, \"std_score\": 0.025396944232469992, \"max_score\": 0.891637821096739, \"min_score\": 0.8188755020080322, \"rfi_fs__n_features_\": 10, \"svc__C\": 0.1, \"svc__class_weight\": \"balanced\", \"svc__gamma\": 0.1, \"svc__kernel\": \"rbf\"}, {\"mean_score\": 0.8522801247296019, \"std_score\": 0.028541076643693652, \"max_score\": 0.8911277099653854, \"min_score\": 0.8089448703906534, \"rfi_fs__n_features_\": 10, \"svc__C\": 10, \"svc__class_weight\": \"balanced\", \"svc__gamma\": 0.001, \"svc__kernel\": \"rbf\"}, {\"mean_score\": 0.8514418492577219, \"std_score\": 0.03693287351324297, \"max_score\": 0.9075605756968482, \"min_score\": 0.8130704636728734, \"rfi_fs__n_features_\": 10, \"svc__C\": 100, \"svc__class_weight\": \"balanced\", \"svc__gamma\": 0.1, \"svc__kernel\": \"rbf\"}, {\"mean_score\": 0.8478150752033458, \"std_score\": 0.03165431979738305, \"max_score\": 0.8887957733649117, \"min_score\": 0.7955823293172691, \"rfi_fs__n_features_\": 10, \"svc__C\": 1, \"svc__class_weight\": \"balanced\", \"svc__gamma\": 0.01, \"svc__kernel\": \"rbf\"}, {\"mean_score\": 0.8352218533858924, \"std_score\": 0.03975410025708257, \"max_score\": 0.8863180907269083, \"min_score\": 0.7879518072289157, \"rfi_fs__n_features_\": 10, \"svc__C\": 1000, \"svc__class_weight\": \"balanced\", \"svc__gamma\": 0.1, \"svc__kernel\": \"rbf\"}, {\"mean_score\": 0.8269007708329725, \"std_score\": 0.014425774612162197, \"max_score\": 0.8459464383312079, \"min_score\": 0.8019350127783863, \"rfi_fs__n_features_\": 10, \"svc__C\": 0.1, \"svc__class_weight\": null, \"svc__gamma\": 0.001, \"svc__kernel\": \"rbf\"}, {\"mean_score\": 0.7978756409415318, \"std_score\": 0.04959972499177228, \"max_score\": 0.8372381125888141, \"min_score\": 0.7020810514786419, \"rfi_fs__n_features_\": 10, \"svc__C\": 1000, \"svc__class_weight\": null, \"svc__gamma\": 0.001, \"svc__kernel\": \"rbf\"}, {\"mean_score\": 0.7827345689716214, \"std_score\": 0.03106824773436399, \"max_score\": 0.8236472945891783, \"min_score\": 0.7483388097845929, \"rfi_fs__n_features_\": 10, \"svc__C\": 0.1, \"svc__class_weight\": \"balanced\", \"svc__gamma\": 0.01, \"svc__kernel\": \"rbf\"}, {\"mean_score\": 0.7773159852624806, \"std_score\": 0.03511339450108258, \"max_score\": 0.8234246270318415, \"min_score\": 0.7438209752839011, \"rfi_fs__n_features_\": 10, \"svc__C\": 0.1, \"svc__class_weight\": \"balanced\", \"svc__gamma\": 0.001, \"svc__kernel\": \"rbf\"}, {\"mean_score\": 0.7769873819278652, \"std_score\": 0.024948528875918252, \"max_score\": 0.8122791036618692, \"min_score\": 0.7478276743336983, \"rfi_fs__n_features_\": 10, \"svc__C\": 1, \"svc__class_weight\": \"balanced\", \"svc__gamma\": 0.001, \"svc__kernel\": \"rbf\"}, {\"mean_score\": 0.7655080913520684, \"std_score\": 0.057860460689982234, \"max_score\": 0.8080234543160394, \"min_score\": 0.6514421321650237, \"rfi_fs__n_features_\": 10, \"svc__C\": 1000, \"svc__class_weight\": null, \"svc__gamma\": 0.01, \"svc__kernel\": \"rbf\"}, {\"mean_score\": 0.7501551283167527, \"std_score\": 0.037611229349459784, \"max_score\": 0.7876480233193659, \"min_score\": 0.6784592917123038, \"rfi_fs__n_features_\": 10, \"svc__C\": 1, \"svc__class_weight\": null, \"svc__gamma\": 0.1, \"svc__kernel\": \"rbf\"}, {\"mean_score\": 0.74733126794744, \"std_score\": 0.06539788797924322, \"max_score\": 0.8327199854253963, \"min_score\": 0.6325243078750092, \"rfi_fs__n_features_\": 10, \"svc__C\": 1, \"svc__class_weight\": null, \"svc__gamma\": 0.001, \"svc__kernel\": \"rbf\"}, {\"mean_score\": 0.7397437185026823, \"std_score\": 0.04845160208159769, \"max_score\": 0.789469848788486, \"min_score\": 0.6541803577948156, \"rfi_fs__n_features_\": 10, \"svc__C\": 10, \"svc__class_weight\": null, \"svc__gamma\": 0.1, \"svc__kernel\": \"rbf\"}, {\"mean_score\": 0.7343312774589787, \"std_score\": 0.0353669991949393, \"max_score\": 0.769390633118088, \"min_score\": 0.6663015699160277, \"rfi_fs__n_features_\": 10, \"svc__C\": 100, \"svc__class_weight\": null, \"svc__gamma\": 0.1, \"svc__kernel\": \"rbf\"}, {\"mean_score\": 0.7259410630924743, \"std_score\": 0.049771822558033425, \"max_score\": 0.7766644399910932, \"min_score\": 0.6370938298649143, \"rfi_fs__n_features_\": 10, \"svc__C\": 1000, \"svc__class_weight\": null, \"svc__gamma\": 0.1, \"svc__kernel\": \"rbf\"}, {\"mean_score\": 0.7213200470959362, \"std_score\": 0.07212670893125656, \"max_score\": 0.809546365458189, \"min_score\": 0.6079956188389923, \"rfi_fs__n_features_\": 10, \"svc__C\": 0.1, \"svc__class_weight\": null, \"svc__gamma\": 0.01, \"svc__kernel\": \"rbf\"}, {\"mean_score\": 0.7173469668638319, \"std_score\": 0.060265758107916505, \"max_score\": 0.8276181993616863, \"min_score\": 0.6507924940790673, \"rfi_fs__n_features_\": 10, \"svc__C\": 0.1, \"svc__class_weight\": null, \"svc__gamma\": 0.1, \"svc__kernel\": \"rbf\"}, {\"mean_score\": 0.7148710467058004, \"std_score\": 0.057216080963179934, \"max_score\": 0.7975580791212054, \"min_score\": 0.6382023305871001, \"rfi_fs__n_features_\": 10, \"svc__C\": 10, \"svc__class_weight\": null, \"svc__gamma\": 0.001, \"svc__kernel\": \"rbf\"}, {\"mean_score\": 0.7083192013819535, \"std_score\": 0.041507382995595817, \"max_score\": 0.7605581533437245, \"min_score\": 0.6503468419131072, \"rfi_fs__n_features_\": 10, \"svc__C\": 100, \"svc__class_weight\": null, \"svc__gamma\": 0.01, \"svc__kernel\": \"rbf\"}, {\"mean_score\": 0.6938155163111099, \"std_score\": 0.0754602154112646, \"max_score\": 0.7735099829288207, \"min_score\": 0.5735470941883768, \"rfi_fs__n_features_\": 10, \"svc__C\": 10, \"svc__class_weight\": null, \"svc__gamma\": 0.01, \"svc__kernel\": \"rbf\"}, {\"mean_score\": 0.6652933354437568, \"std_score\": 0.043888602644399206, \"max_score\": 0.7065352318364366, \"min_score\": 0.5829841501184186, \"rfi_fs__n_features_\": 10, \"svc__C\": 1, \"svc__class_weight\": null, \"svc__gamma\": 0.01, \"svc__kernel\": \"rbf\"}, {\"mean_score\": 0.645051041598836, \"std_score\": 0.08181894108253779, \"max_score\": 0.755473910784532, \"min_score\": 0.5510293313900528, \"rfi_fs__n_features_\": 10, \"svc__C\": 100, \"svc__class_weight\": null, \"svc__gamma\": 0.001, \"svc__kernel\": \"rbf\"}]}}, {\"mode\": \"vega-lite\"});\n",
       "</script>"
      ],
      "text/plain": [
       "alt.Chart(...)"
      ]
     },
     "execution_count": 61,
     "metadata": {},
     "output_type": "execute_result"
    }
   ],
   "source": [
    "#visualize the results of the grid search corresponding to 10 selected features.\n",
    "\n",
    "results_SVC2 = get_search_results(gs_pipe_SVC2)\n",
    "\n",
    "results_SVC2_10_features = results_SVC2[results_SVC2['rfi_fs__n_features_'] == 10.0]\n",
    "\n",
    "alt.Chart(results_SVC2_10_features, \n",
    "          title='SVC Performance Comparison with 10 Features'\n",
    "         ).mark_line(point=True).encode(\n",
    "    alt.X('svc__C', title='C Samples for Split'),\n",
    "    alt.Y('mean_score', title='AUC Score', scale=alt.Scale(zero=False))\n",
    ")"
   ]
  },
  {
   "cell_type": "markdown",
   "metadata": {
    "colab_type": "text",
    "id": "z_VCWxf6fIxC"
   },
   "source": [
    "**Due to receiving low accuracy, we will again perform performance tuning with all available features to see if we can get more accuracy than before.**"
   ]
  },
  {
   "cell_type": "code",
   "execution_count": 62,
   "metadata": {
    "colab": {
     "base_uri": "https://localhost:8080/",
     "height": 68
    },
    "colab_type": "code",
    "id": "xxPWElLfYjo8",
    "outputId": "6e21c506-619c-4b5a-a19e-e46f6ce1d521"
   },
   "outputs": [
    {
     "name": "stdout",
     "output_type": "stream",
     "text": [
      "Fitting 5 folds for each of 90 candidates, totalling 450 fits\n"
     ]
    },
    {
     "name": "stderr",
     "output_type": "stream",
     "text": [
      "[Parallel(n_jobs=-2)]: Using backend LokyBackend with 7 concurrent workers.\n",
      "[Parallel(n_jobs=-2)]: Done  36 tasks      | elapsed:    3.3s\n",
      "[Parallel(n_jobs=-2)]: Done 186 tasks      | elapsed:   18.1s\n",
      "[Parallel(n_jobs=-2)]: Done 436 tasks      | elapsed:   45.2s\n",
      "[Parallel(n_jobs=-2)]: Done 450 out of 450 | elapsed:   46.5s finished\n"
     ]
    }
   ],
   "source": [
    "pipe_SVC3 = Pipeline([('rfi_fs', RFIFeatureSelector()),\n",
    "                    ('svc', SVC(random_state=0))])\n",
    "\n",
    "params_pipe_SVC3 = {\n",
    "                  'rfi_fs__n_features_': [10, 20, Data.shape[1]],\n",
    "                  'svc__C': [0.1, 1, 10, 100, 1000], \n",
    "                   'svc__gamma': [0.1, 0.01, 0.001], \n",
    "                   'svc__kernel': ['rbf'],\n",
    "                  'svc__class_weight':['balanced', None]\n",
    "                  }\n",
    "\n",
    "gs_pipe_SVC3 = GridSearchCV(estimator=pipe_SVC3, \n",
    "                          param_grid=params_pipe_SVC3, \n",
    "                          cv=cv_method,\n",
    "                          refit=True,\n",
    "                          n_jobs=-2,\n",
    "                          scoring='roc_auc',\n",
    "                          verbose=1) \n",
    "\n",
    "gs_pipe_SVC3.fit(Data_sample_train, target_sample_train);"
   ]
  },
  {
   "cell_type": "code",
   "execution_count": 63,
   "metadata": {
    "colab": {
     "base_uri": "https://localhost:8080/",
     "height": 102
    },
    "colab_type": "code",
    "id": "6LE9cPesYjpB",
    "outputId": "bdbc6fcd-645d-4567-c87c-9d7618aae145"
   },
   "outputs": [
    {
     "data": {
      "text/plain": [
       "{'rfi_fs__n_features_': 48,\n",
       " 'svc__C': 1,\n",
       " 'svc__class_weight': 'balanced',\n",
       " 'svc__gamma': 0.1,\n",
       " 'svc__kernel': 'rbf'}"
      ]
     },
     "execution_count": 63,
     "metadata": {},
     "output_type": "execute_result"
    }
   ],
   "source": [
    "gs_pipe_SVC3.best_params_"
   ]
  },
  {
   "cell_type": "code",
   "execution_count": 64,
   "metadata": {
    "colab": {
     "base_uri": "https://localhost:8080/",
     "height": 34
    },
    "colab_type": "code",
    "id": "HRJMlQPxYjpF",
    "outputId": "11af2eb8-789f-4d26-8042-3bfabd58134a"
   },
   "outputs": [
    {
     "data": {
      "text/plain": [
       "0.8908302443189084"
      ]
     },
     "execution_count": 64,
     "metadata": {},
     "output_type": "execute_result"
    }
   ],
   "source": [
    "gs_pipe_SVC3.best_score_"
   ]
  },
  {
   "cell_type": "markdown",
   "metadata": {
    "colab_type": "text",
    "id": "TuU8SbO4YjpH"
   },
   "source": [
    "As suspected, we can achieve slightly better results with the new search space from 0.882 to 0.890 if we provides more features than 10, 48 in this case."
   ]
  },
  {
   "cell_type": "code",
   "execution_count": 65,
   "metadata": {
    "colab": {
     "base_uri": "https://localhost:8080/",
     "height": 204
    },
    "colab_type": "code",
    "id": "sLrmXFsAYjpH",
    "outputId": "27bf6aee-68ab-41ac-a4a6-700fce4c46a0"
   },
   "outputs": [
    {
     "data": {
      "text/html": [
       "<div>\n",
       "<style scoped>\n",
       "    .dataframe tbody tr th:only-of-type {\n",
       "        vertical-align: middle;\n",
       "    }\n",
       "\n",
       "    .dataframe tbody tr th {\n",
       "        vertical-align: top;\n",
       "    }\n",
       "\n",
       "    .dataframe thead th {\n",
       "        text-align: right;\n",
       "    }\n",
       "</style>\n",
       "<table border=\"1\" class=\"dataframe\">\n",
       "  <thead>\n",
       "    <tr style=\"text-align: right;\">\n",
       "      <th></th>\n",
       "      <th>mean_score</th>\n",
       "      <th>std_score</th>\n",
       "      <th>max_score</th>\n",
       "      <th>min_score</th>\n",
       "      <th>rfi_fs__n_features_</th>\n",
       "      <th>svc__C</th>\n",
       "      <th>svc__class_weight</th>\n",
       "      <th>svc__gamma</th>\n",
       "      <th>svc__kernel</th>\n",
       "    </tr>\n",
       "  </thead>\n",
       "  <tbody>\n",
       "    <tr>\n",
       "      <th>66</th>\n",
       "      <td>0.89083</td>\n",
       "      <td>0.0250444</td>\n",
       "      <td>0.925815</td>\n",
       "      <td>0.852099</td>\n",
       "      <td>48</td>\n",
       "      <td>1</td>\n",
       "      <td>balanced</td>\n",
       "      <td>0.1</td>\n",
       "      <td>rbf</td>\n",
       "    </tr>\n",
       "    <tr>\n",
       "      <th>73</th>\n",
       "      <td>0.889806</td>\n",
       "      <td>0.0230177</td>\n",
       "      <td>0.926435</td>\n",
       "      <td>0.858123</td>\n",
       "      <td>48</td>\n",
       "      <td>10</td>\n",
       "      <td>balanced</td>\n",
       "      <td>0.01</td>\n",
       "      <td>rbf</td>\n",
       "    </tr>\n",
       "    <tr>\n",
       "      <th>86</th>\n",
       "      <td>0.887143</td>\n",
       "      <td>0.0228606</td>\n",
       "      <td>0.919876</td>\n",
       "      <td>0.856736</td>\n",
       "      <td>48</td>\n",
       "      <td>1000</td>\n",
       "      <td>balanced</td>\n",
       "      <td>0.001</td>\n",
       "      <td>rbf</td>\n",
       "    </tr>\n",
       "    <tr>\n",
       "      <th>80</th>\n",
       "      <td>0.886034</td>\n",
       "      <td>0.0232604</td>\n",
       "      <td>0.924868</td>\n",
       "      <td>0.856627</td>\n",
       "      <td>48</td>\n",
       "      <td>100</td>\n",
       "      <td>balanced</td>\n",
       "      <td>0.001</td>\n",
       "      <td>rbf</td>\n",
       "    </tr>\n",
       "    <tr>\n",
       "      <th>74</th>\n",
       "      <td>0.882098</td>\n",
       "      <td>0.0197173</td>\n",
       "      <td>0.916378</td>\n",
       "      <td>0.856042</td>\n",
       "      <td>48</td>\n",
       "      <td>10</td>\n",
       "      <td>balanced</td>\n",
       "      <td>0.001</td>\n",
       "      <td>rbf</td>\n",
       "    </tr>\n",
       "  </tbody>\n",
       "</table>\n",
       "</div>"
      ],
      "text/plain": [
       "   mean_score  std_score max_score min_score rfi_fs__n_features_ svc__C  \\\n",
       "66    0.89083  0.0250444  0.925815  0.852099                  48      1   \n",
       "73   0.889806  0.0230177  0.926435  0.858123                  48     10   \n",
       "86   0.887143  0.0228606  0.919876  0.856736                  48   1000   \n",
       "80   0.886034  0.0232604  0.924868  0.856627                  48    100   \n",
       "74   0.882098  0.0197173  0.916378  0.856042                  48     10   \n",
       "\n",
       "   svc__class_weight svc__gamma svc__kernel  \n",
       "66          balanced        0.1         rbf  \n",
       "73          balanced       0.01         rbf  \n",
       "86          balanced      0.001         rbf  \n",
       "80          balanced      0.001         rbf  \n",
       "74          balanced      0.001         rbf  "
      ]
     },
     "execution_count": 65,
     "metadata": {},
     "output_type": "execute_result"
    }
   ],
   "source": [
    "results_svc3 = get_search_results(gs_pipe_SVC3)\n",
    "results_svc3.head()"
   ]
  },
  {
   "cell_type": "markdown",
   "metadata": {
    "colab_type": "text",
    "id": "BgGhIiMWYjpJ"
   },
   "source": [
    "We again observe that the cross-validated AUC score difference between the hyperparameter combinations is bit high. A visualization of the new search results is shown below."
   ]
  },
  {
   "cell_type": "code",
   "execution_count": 66,
   "metadata": {
    "colab": {
     "base_uri": "https://localhost:8080/",
     "height": 385
    },
    "colab_type": "code",
    "id": "txGMQNKlYjpK",
    "outputId": "8aa79872-a1a1-4606-f02f-0825ce46dbed"
   },
   "outputs": [
    {
     "data": {
      "text/html": [
       "\n",
       "<div id=\"altair-viz-e315fb6fb1de426f875ce57078e907ac\"></div>\n",
       "<script type=\"text/javascript\">\n",
       "  (function(spec, embedOpt){\n",
       "    let outputDiv = document.currentScript.previousElementSibling;\n",
       "    if (outputDiv.id !== \"altair-viz-e315fb6fb1de426f875ce57078e907ac\") {\n",
       "      outputDiv = document.getElementById(\"altair-viz-e315fb6fb1de426f875ce57078e907ac\");\n",
       "    }\n",
       "    const paths = {\n",
       "      \"vega\": \"https://cdn.jsdelivr.net/npm//vega@5?noext\",\n",
       "      \"vega-lib\": \"https://cdn.jsdelivr.net/npm//vega-lib?noext\",\n",
       "      \"vega-lite\": \"https://cdn.jsdelivr.net/npm//vega-lite@4.8.1?noext\",\n",
       "      \"vega-embed\": \"https://cdn.jsdelivr.net/npm//vega-embed@6?noext\",\n",
       "    };\n",
       "\n",
       "    function loadScript(lib) {\n",
       "      return new Promise(function(resolve, reject) {\n",
       "        var s = document.createElement('script');\n",
       "        s.src = paths[lib];\n",
       "        s.async = true;\n",
       "        s.onload = () => resolve(paths[lib]);\n",
       "        s.onerror = () => reject(`Error loading script: ${paths[lib]}`);\n",
       "        document.getElementsByTagName(\"head\")[0].appendChild(s);\n",
       "      });\n",
       "    }\n",
       "\n",
       "    function showError(err) {\n",
       "      outputDiv.innerHTML = `<div class=\"error\" style=\"color:red;\">${err}</div>`;\n",
       "      throw err;\n",
       "    }\n",
       "\n",
       "    function displayChart(vegaEmbed) {\n",
       "      vegaEmbed(outputDiv, spec, embedOpt)\n",
       "        .catch(err => showError(`Javascript Error: ${err.message}<br>This usually means there's a typo in your chart specification. See the javascript console for the full traceback.`));\n",
       "    }\n",
       "\n",
       "    if(typeof define === \"function\" && define.amd) {\n",
       "      requirejs.config({paths});\n",
       "      require([\"vega-embed\"], displayChart, err => showError(`Error loading script: ${err.message}`));\n",
       "    } else if (typeof vegaEmbed === \"function\") {\n",
       "      displayChart(vegaEmbed);\n",
       "    } else {\n",
       "      loadScript(\"vega\")\n",
       "        .then(() => loadScript(\"vega-lite\"))\n",
       "        .then(() => loadScript(\"vega-embed\"))\n",
       "        .catch(showError)\n",
       "        .then(() => displayChart(vegaEmbed));\n",
       "    }\n",
       "  })({\"config\": {\"view\": {\"continuousWidth\": 400, \"continuousHeight\": 300}}, \"data\": {\"name\": \"data-71c59717a9cdc9f8e79c7f17c006c619\"}, \"mark\": {\"type\": \"line\", \"point\": true}, \"encoding\": {\"x\": {\"type\": \"quantitative\", \"field\": \"svc__C\", \"title\": \"C Samples for Split\"}, \"y\": {\"type\": \"quantitative\", \"field\": \"mean_score\", \"scale\": {\"zero\": false}, \"title\": \"AUC Score\"}}, \"title\": \"SVC Performance Comparison with 48 Features\", \"$schema\": \"https://vega.github.io/schema/vega-lite/v4.8.1.json\", \"datasets\": {\"data-71c59717a9cdc9f8e79c7f17c006c619\": [{\"mean_score\": 0.8908302443189084, \"std_score\": 0.025044427074379705, \"max_score\": 0.9258152668974313, \"min_score\": 0.8520993063161738, \"rfi_fs__n_features_\": 48, \"svc__C\": 1, \"svc__class_weight\": \"balanced\", \"svc__gamma\": 0.1, \"svc__kernel\": \"rbf\"}, {\"mean_score\": 0.8898059589220224, \"std_score\": 0.023017708125147748, \"max_score\": 0.926434687556932, \"min_score\": 0.8581234027017159, \"rfi_fs__n_features_\": 48, \"svc__C\": 10, \"svc__class_weight\": \"balanced\", \"svc__gamma\": 0.01, \"svc__kernel\": \"rbf\"}, {\"mean_score\": 0.8871433784773718, \"std_score\": 0.02286063099719314, \"max_score\": 0.9198761158680999, \"min_score\": 0.856736035049288, \"rfi_fs__n_features_\": 48, \"svc__C\": 1000, \"svc__class_weight\": \"balanced\", \"svc__gamma\": 0.001, \"svc__kernel\": \"rbf\"}, {\"mean_score\": 0.8860337753922515, \"std_score\": 0.02326042115983401, \"max_score\": 0.9248679176534889, \"min_score\": 0.8566265060240964, \"rfi_fs__n_features_\": 48, \"svc__C\": 100, \"svc__class_weight\": \"balanced\", \"svc__gamma\": 0.001, \"svc__kernel\": \"rbf\"}, {\"mean_score\": 0.8820975885485627, \"std_score\": 0.019717252983123854, \"max_score\": 0.9163782109673893, \"min_score\": 0.8560423512230741, \"rfi_fs__n_features_\": 48, \"svc__C\": 10, \"svc__class_weight\": \"balanced\", \"svc__gamma\": 0.001, \"svc__kernel\": \"rbf\"}, {\"mean_score\": 0.8820499007832711, \"std_score\": 0.020002787173562415, \"max_score\": 0.9168883220987429, \"min_score\": 0.8565899963490325, \"rfi_fs__n_features_\": 48, \"svc__C\": 1, \"svc__class_weight\": \"balanced\", \"svc__gamma\": 0.01, \"svc__kernel\": \"rbf\"}, {\"mean_score\": 0.880208931920065, \"std_score\": 0.025046441839833615, \"max_score\": 0.9146656950264165, \"min_score\": 0.8394669587440672, \"rfi_fs__n_features_\": 48, \"svc__C\": 100, \"svc__class_weight\": \"balanced\", \"svc__gamma\": 0.01, \"svc__kernel\": \"rbf\"}, {\"mean_score\": 0.8719468404172753, \"std_score\": 0.03020587123240419, \"max_score\": 0.9084714884314083, \"min_score\": 0.8167944505293903, \"rfi_fs__n_features_\": 48, \"svc__C\": 100, \"svc__class_weight\": null, \"svc__gamma\": 0.001, \"svc__kernel\": \"rbf\"}, {\"mean_score\": 0.871373333661766, \"std_score\": 0.027559944719609025, \"max_score\": 0.910074694844234, \"min_score\": 0.8242789339174882, \"rfi_fs__n_features_\": 48, \"svc__C\": 0.1, \"svc__class_weight\": null, \"svc__gamma\": 0.1, \"svc__kernel\": \"rbf\"}, {\"mean_score\": 0.8708217408408151, \"std_score\": 0.03004929978693878, \"max_score\": 0.9099289488067043, \"min_score\": 0.8174151150054765, \"rfi_fs__n_features_\": 48, \"svc__C\": 1, \"svc__class_weight\": null, \"svc__gamma\": 0.01, \"svc__kernel\": \"rbf\"}, {\"mean_score\": 0.8698128121075219, \"std_score\": 0.02938647740673021, \"max_score\": 0.9096010202222627, \"min_score\": 0.8186564439576488, \"rfi_fs__n_features_\": 48, \"svc__C\": 1, \"svc__class_weight\": null, \"svc__gamma\": 0.1, \"svc__kernel\": \"rbf\"}, {\"mean_score\": 0.8693360043684789, \"std_score\": 0.03235946624413575, \"max_score\": 0.9064674804153762, \"min_score\": 0.8094925155166119, \"rfi_fs__n_features_\": 48, \"svc__C\": 10, \"svc__class_weight\": null, \"svc__gamma\": 0.01, \"svc__kernel\": \"rbf\"}, {\"mean_score\": 0.8691433656327299, \"std_score\": 0.027977722977676985, \"max_score\": 0.9011113135361632, \"min_score\": 0.8190945600584155, \"rfi_fs__n_features_\": 48, \"svc__C\": 10, \"svc__class_weight\": null, \"svc__gamma\": 0.001, \"svc__kernel\": \"rbf\"}, {\"mean_score\": 0.8685499480564308, \"std_score\": 0.034755595834023455, \"max_score\": 0.911714337766442, \"min_score\": 0.8051843738590726, \"rfi_fs__n_features_\": 48, \"svc__C\": 1000, \"svc__class_weight\": null, \"svc__gamma\": 0.001, \"svc__kernel\": \"rbf\"}, {\"mean_score\": 0.8676720184110869, \"std_score\": 0.026675410784075523, \"max_score\": 0.886463836764438, \"min_score\": 0.8147499087258122, \"rfi_fs__n_features_\": 48, \"svc__C\": 1, \"svc__class_weight\": null, \"svc__gamma\": 0.001, \"svc__kernel\": \"rbf\"}, {\"mean_score\": 0.8674659448303121, \"std_score\": 0.030701507414133272, \"max_score\": 0.9120422663508836, \"min_score\": 0.8167579408543264, \"rfi_fs__n_features_\": 48, \"svc__C\": 10, \"svc__class_weight\": null, \"svc__gamma\": 0.1, \"svc__kernel\": \"rbf\"}, {\"mean_score\": 0.8672511141304149, \"std_score\": 0.037484880795963973, \"max_score\": 0.9112042266350883, \"min_score\": 0.7975903614457831, \"rfi_fs__n_features_\": 48, \"svc__C\": 100, \"svc__class_weight\": null, \"svc__gamma\": 0.01, \"svc__kernel\": \"rbf\"}, {\"mean_score\": 0.8651853802936692, \"std_score\": 0.024765246015295367, \"max_score\": 0.8990344325013664, \"min_score\": 0.8257393209200438, \"rfi_fs__n_features_\": 48, \"svc__C\": 0.1, \"svc__class_weight\": null, \"svc__gamma\": 0.01, \"svc__kernel\": \"rbf\"}, {\"mean_score\": 0.8631329609850507, \"std_score\": 0.03323580239474617, \"max_score\": 0.9066496629622882, \"min_score\": 0.8039430449069003, \"rfi_fs__n_features_\": 48, \"svc__C\": 10, \"svc__class_weight\": \"balanced\", \"svc__gamma\": 0.1, \"svc__kernel\": \"rbf\"}, {\"mean_score\": 0.8606498722161373, \"std_score\": 0.02288534647886688, \"max_score\": 0.8930224084532702, \"min_score\": 0.8301329932592458, \"rfi_fs__n_features_\": 48, \"svc__C\": 0.1, \"svc__class_weight\": \"balanced\", \"svc__gamma\": 0.1, \"svc__kernel\": \"rbf\"}, {\"mean_score\": 0.859935074400149, \"std_score\": 0.03644353067389762, \"max_score\": 0.9121151393696484, \"min_score\": 0.7999634903249361, \"rfi_fs__n_features_\": 48, \"svc__C\": 1000, \"svc__class_weight\": null, \"svc__gamma\": 0.01, \"svc__kernel\": \"rbf\"}, {\"mean_score\": 0.8575956505116029, \"std_score\": 0.037953431445318354, \"max_score\": 0.9094552741847332, \"min_score\": 0.7944140197152245, \"rfi_fs__n_features_\": 48, \"svc__C\": 100, \"svc__class_weight\": null, \"svc__gamma\": 0.1, \"svc__kernel\": \"rbf\"}, {\"mean_score\": 0.8477403681648316, \"std_score\": 0.02893057736310133, \"max_score\": 0.8741482965931864, \"min_score\": 0.7930266520627965, \"rfi_fs__n_features_\": 48, \"svc__C\": 0.1, \"svc__class_weight\": null, \"svc__gamma\": 0.001, \"svc__kernel\": \"rbf\"}, {\"mean_score\": 0.8459122228067347, \"std_score\": 0.033328461019674856, \"max_score\": 0.8944434323191838, \"min_score\": 0.7907265425337714, \"rfi_fs__n_features_\": 48, \"svc__C\": 1000, \"svc__class_weight\": \"balanced\", \"svc__gamma\": 0.01, \"svc__kernel\": \"rbf\"}, {\"mean_score\": 0.8404238780591486, \"std_score\": 0.03821428513932343, \"max_score\": 0.8904354162871198, \"min_score\": 0.7727272727272727, \"rfi_fs__n_features_\": 48, \"svc__C\": 100, \"svc__class_weight\": \"balanced\", \"svc__gamma\": 0.1, \"svc__kernel\": \"rbf\"}, {\"mean_score\": 0.831589528495147, \"std_score\": 0.045335704508490726, \"max_score\": 0.8906540353434141, \"min_score\": 0.7707557502738226, \"rfi_fs__n_features_\": 48, \"svc__C\": 1000, \"svc__class_weight\": null, \"svc__gamma\": 0.1, \"svc__kernel\": \"rbf\"}, {\"mean_score\": 0.831108301548942, \"std_score\": 0.04352895858722097, \"max_score\": 0.892913098925123, \"min_score\": 0.7657174151150055, \"rfi_fs__n_features_\": 48, \"svc__C\": 1000, \"svc__class_weight\": \"balanced\", \"svc__gamma\": 0.1, \"svc__kernel\": \"rbf\"}, {\"mean_score\": 0.7678175205630116, \"std_score\": 0.03143881072082747, \"max_score\": 0.7969271877087508, \"min_score\": 0.7133904171980324, \"rfi_fs__n_features_\": 48, \"svc__C\": 1, \"svc__class_weight\": \"balanced\", \"svc__gamma\": 0.001, \"svc__kernel\": \"rbf\"}, {\"mean_score\": 0.764615609865628, \"std_score\": 0.031175497963296175, \"max_score\": 0.7942922882802643, \"min_score\": 0.710184004372381, \"rfi_fs__n_features_\": 48, \"svc__C\": 0.1, \"svc__class_weight\": \"balanced\", \"svc__gamma\": 0.01, \"svc__kernel\": \"rbf\"}, {\"mean_score\": 0.7458252336891544, \"std_score\": 0.029414349305492936, \"max_score\": 0.7792251169004676, \"min_score\": 0.6967024959008927, \"rfi_fs__n_features_\": 48, \"svc__C\": 0.1, \"svc__class_weight\": \"balanced\", \"svc__gamma\": 0.001, \"svc__kernel\": \"rbf\"}]}}, {\"mode\": \"vega-lite\"});\n",
       "</script>"
      ],
      "text/plain": [
       "alt.Chart(...)"
      ]
     },
     "execution_count": 66,
     "metadata": {},
     "output_type": "execute_result"
    }
   ],
   "source": [
    "#visualize the results of the grid search corresponding to 10 selected features.\n",
    "\n",
    "results_SVC3 = get_search_results(gs_pipe_SVC3)\n",
    "\n",
    "results_SVC3_48_features = results_SVC3[results_SVC3['rfi_fs__n_features_'] == 48.0]\n",
    "\n",
    "alt.Chart(results_SVC3_48_features, \n",
    "          title='SVC Performance Comparison with 48 Features'\n",
    "         ).mark_line(point=True).encode(\n",
    "    alt.X('svc__C', title='C Samples for Split'),\n",
    "    alt.Y('mean_score', title='AUC Score', scale=alt.Scale(zero=False))\n",
    ")"
   ]
  },
  {
   "cell_type": "markdown",
   "metadata": {
    "colab_type": "text",
    "id": "FHU1ajnaJAaT"
   },
   "source": [
    "# Performance Comparison"
   ]
  },
  {
   "cell_type": "markdown",
   "metadata": {
    "colab_type": "text",
    "id": "JhyeC9rb8Qwr"
   },
   "source": [
    "## Paired t-tests of algorithms"
   ]
  },
  {
   "cell_type": "code",
   "execution_count": 67,
   "metadata": {
    "colab": {
     "base_uri": "https://localhost:8080/",
     "height": 88
    },
    "colab_type": "code",
    "id": "o8cwgx3o30Rc",
    "outputId": "286f248a-2cd2-44a5-94a7-7723d1a90692"
   },
   "outputs": [
    {
     "data": {
      "text/plain": [
       "0.8081881903143586"
      ]
     },
     "execution_count": 67,
     "metadata": {},
     "output_type": "execute_result"
    }
   ],
   "source": [
    "paired_method_ttest = StratifiedKFold(n_splits=10, random_state=111)\n",
    "\n",
    "cv_results_KNN = cross_val_score(estimator=gs_pipe_KNN.best_estimator_,\n",
    "                                 X=Data_sample_test,\n",
    "                                 y=target_sample_test, \n",
    "                                 cv=paired_method_ttest, \n",
    "                                 n_jobs=-2,\n",
    "                                 scoring='roc_auc')\n",
    "cv_results_KNN.mean()"
   ]
  },
  {
   "cell_type": "code",
   "execution_count": 68,
   "metadata": {
    "colab": {
     "base_uri": "https://localhost:8080/",
     "height": 34
    },
    "colab_type": "code",
    "id": "rc1jsVFR8S2G",
    "outputId": "5ca6e419-4419-4c30-bd9f-ad2b48d3d99c"
   },
   "outputs": [
    {
     "data": {
      "text/plain": [
       "0.8280232228830359"
      ]
     },
     "execution_count": 68,
     "metadata": {},
     "output_type": "execute_result"
    }
   ],
   "source": [
    "Data_sample_test_transformed = PowerTransformer().fit_transform(Data_sample_test)\n",
    "\n",
    "cv_results_NB = cross_val_score(estimator=gs_pipe_NB.best_estimator_,\n",
    "                                X=Data_sample_test_transformed,\n",
    "                                y=target_sample_test, \n",
    "                                cv=paired_method_ttest, \n",
    "                                n_jobs=-2,\n",
    "                                scoring='roc_auc')\n",
    "cv_results_NB.mean()"
   ]
  },
  {
   "cell_type": "code",
   "execution_count": 69,
   "metadata": {
    "colab": {
     "base_uri": "https://localhost:8080/",
     "height": 34
    },
    "colab_type": "code",
    "id": "G4LV6bgM8afd",
    "outputId": "7ba39461-d362-43cb-a6fe-a1e3799335f6"
   },
   "outputs": [
    {
     "data": {
      "text/plain": [
       "0.7521700651373548"
      ]
     },
     "execution_count": 69,
     "metadata": {},
     "output_type": "execute_result"
    }
   ],
   "source": [
    "cv_results_DT = cross_val_score(estimator=gs_pipe_DT.best_estimator_,\n",
    "                                X=Data_sample_test,\n",
    "                                y=target_sample_test, \n",
    "                                cv=paired_method_ttest, \n",
    "                                n_jobs=-2,\n",
    "                                scoring='roc_auc')\n",
    "cv_results_DT.mean()"
   ]
  },
  {
   "cell_type": "code",
   "execution_count": 70,
   "metadata": {
    "colab": {
     "base_uri": "https://localhost:8080/",
     "height": 34
    },
    "colab_type": "code",
    "id": "3vlFyJKC83gw",
    "outputId": "2099f0ea-7140-4b01-f1c9-17c70c26a552"
   },
   "outputs": [
    {
     "data": {
      "text/plain": [
       "0.8751486830926083"
      ]
     },
     "execution_count": 70,
     "metadata": {},
     "output_type": "execute_result"
    }
   ],
   "source": [
    "cv_results_SVC = cross_val_score(estimator=gs_pipe_SVC3.best_estimator_,\n",
    "                                X=Data_sample_test,\n",
    "                                y=target_sample_test, \n",
    "                                cv=paired_method_ttest, \n",
    "                                n_jobs=-2,\n",
    "                                scoring='roc_auc')\n",
    "cv_results_SVC.mean()"
   ]
  },
  {
   "cell_type": "code",
   "execution_count": 71,
   "metadata": {
    "colab": {
     "base_uri": "https://localhost:8080/",
     "height": 119
    },
    "colab_type": "code",
    "id": "jqql-bdh9GVd",
    "outputId": "abefdbe8-25d2-46c2-fe53-e25e52a17294"
   },
   "outputs": [
    {
     "name": "stdout",
     "output_type": "stream",
     "text": [
      "Ttest_relResult(statistic=-0.8658134909073967, pvalue=0.4090790408688125)\n",
      "Ttest_relResult(statistic=-1.8605322694456752, pvalue=0.09573219382654082)\n",
      "Ttest_relResult(statistic=-4.065554560850547, pvalue=0.0028183673678008675)\n",
      "Ttest_relResult(statistic=-5.630188238605263, pvalue=0.0003216212572766953)\n",
      "Ttest_relResult(statistic=2.5969768318369204, pvalue=0.02888107630049683)\n",
      "Ttest_relResult(statistic=-2.413876013864483, pvalue=0.03900034621390506)\n"
     ]
    }
   ],
   "source": [
    "print(stats.ttest_rel(cv_results_KNN, cv_results_NB))\n",
    "print(stats.ttest_rel(cv_results_DT, cv_results_KNN))\n",
    "print(stats.ttest_rel(cv_results_DT, cv_results_NB))\n",
    "print(stats.ttest_rel(cv_results_DT, cv_results_SVC))\n",
    "print(stats.ttest_rel(cv_results_SVC, cv_results_NB))\n",
    "print(stats.ttest_rel(cv_results_KNN, cv_results_SVC))"
   ]
  },
  {
   "cell_type": "code",
   "execution_count": 72,
   "metadata": {
    "colab": {},
    "colab_type": "code",
    "id": "2DdEA6au94nC"
   },
   "outputs": [],
   "source": [
    "predicted_KNN = gs_pipe_KNN.predict(Data_sample_test)"
   ]
  },
  {
   "cell_type": "code",
   "execution_count": 73,
   "metadata": {
    "colab": {},
    "colab_type": "code",
    "id": "pk6QVW-U99uj"
   },
   "outputs": [],
   "source": [
    "Data_test_transformed = PowerTransformer().fit_transform(Data_sample_test)\n",
    "predicted_NB = gs_pipe_NB.predict(Data_test_transformed)"
   ]
  },
  {
   "cell_type": "code",
   "execution_count": 74,
   "metadata": {
    "colab": {},
    "colab_type": "code",
    "id": "0wovZTkJ-BhB"
   },
   "outputs": [],
   "source": [
    "predicted_DT = gs_pipe_DT.predict(Data_sample_test)"
   ]
  },
  {
   "cell_type": "code",
   "execution_count": 75,
   "metadata": {
    "colab": {},
    "colab_type": "code",
    "id": "0DmFi6ub-UoF"
   },
   "outputs": [],
   "source": [
    "predicted_SVC = gs_pipe_SVC3.predict(Data_sample_test)"
   ]
  },
  {
   "cell_type": "code",
   "execution_count": 76,
   "metadata": {
    "colab": {
     "base_uri": "https://localhost:8080/",
     "height": 765
    },
    "colab_type": "code",
    "id": "ZFouHqP6-Hc2",
    "outputId": "5d3f7e07-8062-4b65-ba2e-a1d057725a71"
   },
   "outputs": [
    {
     "name": "stdout",
     "output_type": "stream",
     "text": [
      "\n",
      "Classification report for K-Nearest Neighbor\n",
      "              precision    recall  f1-score   support\n",
      "\n",
      "           0       0.92      0.99      0.95      1070\n",
      "           1       0.70      0.16      0.26       117\n",
      "\n",
      "    accuracy                           0.91      1187\n",
      "   macro avg       0.81      0.58      0.61      1187\n",
      "weighted avg       0.89      0.91      0.88      1187\n",
      "\n",
      "\n",
      "Classification report for Naive Bayes\n",
      "              precision    recall  f1-score   support\n",
      "\n",
      "           0       0.91      1.00      0.95      1070\n",
      "           1       0.64      0.08      0.14       117\n",
      "\n",
      "    accuracy                           0.90      1187\n",
      "   macro avg       0.78      0.54      0.54      1187\n",
      "weighted avg       0.88      0.90      0.87      1187\n",
      "\n",
      "\n",
      "Classification report for Decision Tree\n",
      "              precision    recall  f1-score   support\n",
      "\n",
      "           0       0.93      0.98      0.95      1070\n",
      "           1       0.66      0.28      0.40       117\n",
      "\n",
      "    accuracy                           0.91      1187\n",
      "   macro avg       0.79      0.63      0.67      1187\n",
      "weighted avg       0.90      0.91      0.90      1187\n",
      "\n",
      "\n",
      "Classification report for SVC\n",
      "              precision    recall  f1-score   support\n",
      "\n",
      "           0       0.98      0.86      0.91      1070\n",
      "           1       0.38      0.80      0.52       117\n",
      "\n",
      "    accuracy                           0.85      1187\n",
      "   macro avg       0.68      0.83      0.71      1187\n",
      "weighted avg       0.92      0.85      0.87      1187\n",
      "\n"
     ]
    }
   ],
   "source": [
    "print(\"\\nClassification report for K-Nearest Neighbor\") \n",
    "print(metrics.classification_report(target_sample_test, predicted_KNN))\n",
    "print(\"\\nClassification report for Naive Bayes\") \n",
    "print(metrics.classification_report(target_sample_test, predicted_NB))\n",
    "print(\"\\nClassification report for Decision Tree\") \n",
    "print(metrics.classification_report(target_sample_test, predicted_DT))\n",
    "print(\"\\nClassification report for SVC\") \n",
    "print(metrics.classification_report(target_sample_test, predicted_SVC))"
   ]
  },
  {
   "cell_type": "code",
   "execution_count": 77,
   "metadata": {
    "colab": {
     "base_uri": "https://localhost:8080/",
     "height": 289
    },
    "colab_type": "code",
    "id": "hD4B2Lf4BSfU",
    "outputId": "1dab718e-588e-4768-9b89-6ca7ba986b4a"
   },
   "outputs": [
    {
     "name": "stdout",
     "output_type": "stream",
     "text": [
      "\n",
      "Confusion matrix for K-Nearest Neighbor\n",
      "[[1062    8]\n",
      " [  98   19]]\n",
      "\n",
      "Confusion matrix for Naive Bayes\n",
      "[[1065    5]\n",
      " [ 108    9]]\n",
      "\n",
      "Confusion matrix for Decision Tree\n",
      "[[1053   17]\n",
      " [  84   33]]\n",
      "\n",
      "Confusion matrix for SVC\n",
      "[[916 154]\n",
      " [ 23  94]]\n"
     ]
    }
   ],
   "source": [
    "print(\"\\nConfusion matrix for K-Nearest Neighbor\") \n",
    "print(metrics.confusion_matrix(target_sample_test, predicted_KNN))\n",
    "print(\"\\nConfusion matrix for Naive Bayes\") \n",
    "print(metrics.confusion_matrix(target_sample_test, predicted_NB))\n",
    "print(\"\\nConfusion matrix for Decision Tree\") \n",
    "print(metrics.confusion_matrix(target_sample_test, predicted_DT))\n",
    "print(\"\\nConfusion matrix for SVC\") \n",
    "print(metrics.confusion_matrix(target_sample_test, predicted_SVC))"
   ]
  },
  {
   "cell_type": "markdown",
   "metadata": {
    "colab_type": "text",
    "id": "WevTs5x9DHDm"
   },
   "source": [
    "From the above statistics, we can say that Support Vector Classification provides the highest value if we calculate recall as the performance metric, which is equivalent to the true positive rate (TPR). So in this context, SVC would be the best performer since it produces the highest recall score."
   ]
  },
  {
   "cell_type": "markdown",
   "metadata": {
    "colab_type": "text",
    "id": "YqmrvEpD-QqW"
   },
   "source": [
    "# Limitations"
   ]
  },
  {
   "cell_type": "markdown",
   "metadata": {
    "colab_type": "text",
    "id": "TSuoeOsP9PcD"
   },
   "source": [
    "*  First, we utilized a blanket power transformation on the training data when building the NB, ignoring the dummy features within the dataset. This might partially explain the poor performance of the NB when evaluated on the test set. A potential solution is to build a Gaussian NB and a Bernoulli NB separately on the numerical and dummy descriptive features respectively. Then we can compute a final prediction by multiplying predictions from each model since NB assumes inter-independence conditioned on the value of the target feature.\n",
    "*  The SVC classifier statistically outperforms the other three models. Therefore, we can perhaps improve it by further expanding the hyperparameter search space by including other parameters of this classification method. \n",
    "*  Furthermore, we can consider random forests and other ensemble methods built on trees as potentially better models.\n",
    "*  Our modeling strategy has a few flaws and limitations. First, ours was a black-box approach since we preferred raw predictive performance over interpretability. In the future, we could consider a more in-depth analysis about the feature selection & ranking process as well as our choices for the hyperparameter spaces.\n",
    "\n"
   ]
  },
  {
   "cell_type": "markdown",
   "metadata": {
    "colab_type": "text",
    "id": "Z0f3T7aHKTGz"
   },
   "source": [
    "# Summary"
   ]
  },
  {
   "cell_type": "markdown",
   "metadata": {
    "colab_type": "text",
    "id": "SWIBkGVpPPoa"
   },
   "source": [
    "> The Support Vector Classification provides the highest cross-validated AUC score on the training data, with 48 instead of 10 of the best features selected by Random Forest Importance (RFI).\n",
    "\n",
    "> Also, when evaluated on the test data (in a cross-validated fashion), the Support Vector Classification model again outperforms all Decision Tree, Naive Bayes and k-Nearest Neighbor models with respect to AUC.\n",
    "\n",
    "> It also yields the highest recall score on the test data. \n",
    "\n",
    "> We also observe that our SVC model is very sensitive to the number of features as selected by RFI when conditioned on the values of the hyperparameters in general.\n",
    "\n",
    "> For this reason, it seems working with 10 features is not preferable instead of working with the full feature set, beacuse of udermining dataset; rather than this, for this case working with 48 features is more suitable."
   ]
  },
  {
   "cell_type": "markdown",
   "metadata": {
    "colab_type": "text",
    "id": "aGR8uMP2KUZF"
   },
   "source": [
    "# References"
   ]
  },
  {
   "cell_type": "markdown",
   "metadata": {
    "colab_type": "text",
    "id": "fWZ_3oez6uax"
   },
   "source": [
    " [Moro et al., 2014] S. Moro, P. Cortez and P. Rita. A Data-Driven Approach to Predict the Success of Bank Telemarketing. Decision Support Systems, Elsevier, 62:22-31, June 2014, Available at (https://archive.ics.uci.edu/ml/datasets/Bank+Marketing)\n",
    "\n",
    "Case Study: Predicting Income Status, https://www.featureranking.com/tutorials/machine-learning-tutorials/case-study-predicting-income-status/#Discussion\n",
    "\n",
    "pandas documentation, https://pandas.pydata.org/pandas-docs/stable/index.html\n",
    "\n",
    " scikit-learn: Supervised learning, https://scikit-learn.org/stable/user_guide.html\n",
    "\n",
    "stackoverflow, https://stackoverflow.com/"
   ]
  }
 ],
 "metadata": {
  "colab": {
   "collapsed_sections": [
    "pocTTyGb96vI"
   ],
   "name": "Course_Project.ipynb",
   "provenance": []
  },
  "kernelspec": {
   "display_name": "Python 3",
   "language": "python",
   "name": "python3"
  },
  "language_info": {
   "codemirror_mode": {
    "name": "ipython",
    "version": 3
   },
   "file_extension": ".py",
   "mimetype": "text/x-python",
   "name": "python",
   "nbconvert_exporter": "python",
   "pygments_lexer": "ipython3",
   "version": "3.7.6"
  }
 },
 "nbformat": 4,
 "nbformat_minor": 1
}
